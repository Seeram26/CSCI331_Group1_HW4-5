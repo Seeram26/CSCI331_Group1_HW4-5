{
 "cells": [
  {
   "cell_type": "markdown",
   "id": "b823e45d",
   "metadata": {},
   "source": [
    "### Proposition 01 (Ch4): Order with the maximum OrderID\n",
    "**Concept:** Self-contained scalar subquery in WHERE  \n",
    "**Why:** Finds the single row whose OrderID equals the overall MAX(OrderID)."
   ]
  },
  {
   "cell_type": "code",
   "execution_count": null,
   "id": "ac6e4035",
   "metadata": {},
   "outputs": [],
   "source": [
    "SELECT o.OrderID, o.CustomerID, o.OrderDate\n",
    "FROM Sales.Orders AS o\n",
    "WHERE o.OrderID = (SELECT MAX(OrderID) FROM Sales.Orders);"
   ]
  },
  {
   "cell_type": "markdown",
   "id": "f068cb27",
   "metadata": {},
   "source": [
    "### Proposition 02 (Ch4): Customers who placed orders in 2016\n",
    "**Concept:** Self-contained multivalued subquery with IN  \n",
    "**Why:** Filters customers to those appearing in the 2016 Orders list."
   ]
  },
  {
   "cell_type": "code",
   "execution_count": null,
   "id": "0b684b26",
   "metadata": {},
   "outputs": [],
   "source": [
    "SELECT c.CustomerID, c.CustomerName\n",
    "FROM Sales.Customers AS c\n",
    "WHERE c.CustomerID IN (\n",
    "    SELECT DISTINCT o.CustomerID\n",
    "    FROM Sales.Orders AS o\n",
    "    WHERE o.OrderDate >= '2016-01-01'\n",
    "      AND o.OrderDate <  '2017-01-01'\n",
    ")\n",
    "ORDER BY c.CustomerName;"
   ]
  },
  {
   "cell_type": "markdown",
   "id": "1dfccf2b",
   "metadata": {},
   "source": [
    "### Proposition 03 (Ch4): Latest order date per customer (correlated subquery)\n",
    "**Concept:** Correlated scalar subquery in SELECT  \n",
    "**Why:** For each customer, compute MAX(OrderDate) from Orders for that customer."
   ]
  },
  {
   "cell_type": "code",
   "execution_count": null,
   "id": "db0bd223",
   "metadata": {},
   "outputs": [],
   "source": [
    "SELECT \n",
    "    c.CustomerID,\n",
    "    c.CustomerName,\n",
    "    (SELECT MAX(o.OrderDate)\n",
    "     FROM Sales.Orders AS o\n",
    "     WHERE o.CustomerID = c.CustomerID) AS LatestOrderDate\n",
    "FROM Sales.Customers AS c\n",
    "ORDER BY LatestOrderDate DESC, c.CustomerID;"
   ]
  },
  {
   "cell_type": "markdown",
   "id": "3c5b4363",
   "metadata": {},
   "source": [
    "### Proposition 04 (Ch4): Customers who ever ordered a chilled (refrigerated) item\n",
    "**Concept:** EXISTS with correlated subquery  \n",
    "**Why:** Checks if there exists any order line for the customer with a chiller stock item."
   ]
  },
  {
   "cell_type": "code",
   "execution_count": null,
   "id": "8d6b13fd",
   "metadata": {},
   "outputs": [],
   "source": [
    "SELECT c.CustomerID, c.CustomerName\n",
    "FROM Sales.Customers AS c\n",
    "WHERE EXISTS (\n",
    "    SELECT 1\n",
    "    FROM Sales.Orders AS o\n",
    "    JOIN Sales.OrderLines AS ol ON ol.OrderID = o.OrderID\n",
    "    JOIN Warehouse.StockItems AS si ON si.StockItemID = ol.StockItemID\n",
    "    WHERE o.CustomerID = c.CustomerID\n",
    "      AND si.IsChillerStock = 1\n",
    ")\n",
    "ORDER BY c.CustomerID;"
   ]
  },
  {
   "cell_type": "markdown",
   "id": "b96f5dc5",
   "metadata": {},
   "source": [
    "### Proposition 05 (Ch4): Previous order date per order (same customer)\n",
    "**Concept:** Correlated subquery returning “previous” value  \n",
    "**Why:** For each order, look up the most recent earlier OrderDate for the same customer."
   ]
  },
  {
   "cell_type": "code",
   "execution_count": null,
   "id": "bee85c05",
   "metadata": {},
   "outputs": [],
   "source": [
    "SELECT \n",
    "    o.OrderID,\n",
    "    o.CustomerID,\n",
    "    o.OrderDate,\n",
    "    (SELECT MAX(o2.OrderDate)\n",
    "     FROM Sales.Orders AS o2\n",
    "     WHERE o2.CustomerID = o.CustomerID\n",
    "       AND o2.OrderDate < o.OrderDate) AS PreviousOrderDate\n",
    "FROM Sales.Orders AS o\n",
    "ORDER BY o.CustomerID, o.OrderDate;"
   ]
  },
  {
   "cell_type": "markdown",
   "id": "9acd366a",
   "metadata": {},
   "source": [
    "### Proposition 06 (Ch5): Top 10 orders by computed order total (derived table)\n",
    "**Concept:** Derived table in FROM with GROUP BY  \n",
    "**Why:** Compute order totals from OrderLines, then select the largest totals."
   ]
  },
  {
   "cell_type": "code",
   "execution_count": null,
   "id": "7cb54bc2",
   "metadata": {},
   "outputs": [],
   "source": [
    "SELECT TOP (10) t.OrderID, t.OrderTotal\n",
    "FROM (\n",
    "    SELECT ol.OrderID, SUM(ol.Quantity * ol.UnitPrice) AS OrderTotal\n",
    "    FROM Sales.OrderLines AS ol\n",
    "    GROUP BY ol.OrderID\n",
    ") AS t\n",
    "ORDER BY t.OrderTotal DESC, t.OrderID;"
   ]
  },
  {
   "cell_type": "markdown",
   "id": "34cc00e6",
   "metadata": {},
   "source": [
    "### Proposition 07 (Ch5): Top 10 customers by 2016 invoice revenue (CTE)\n",
    "**Concept:** CTE + GROUP BY  \n",
    "**Why:** Stage 2016 invoice lines, then sum Quantity*UnitPrice per customer."
   ]
  },
  {
   "cell_type": "code",
   "execution_count": null,
   "id": "3a1be344",
   "metadata": {},
   "outputs": [],
   "source": [
    "WITH Lines2016 AS (\n",
    "    SELECT i.CustomerID, il.Quantity, il.UnitPrice\n",
    "    FROM Sales.Invoices AS i\n",
    "    JOIN Sales.InvoiceLines AS il ON il.InvoiceID = i.InvoiceID\n",
    "    WHERE i.InvoiceDate >= '2016-01-01' AND i.InvoiceDate < '2017-01-01'\n",
    "),\n",
    "CustTotals AS (\n",
    "    SELECT CustomerID, SUM(Quantity * UnitPrice) AS Revenue2016\n",
    "    FROM Lines2016\n",
    "    GROUP BY CustomerID\n",
    ")\n",
    "SELECT TOP (10) c.CustomerID, c.CustomerName, ct.Revenue2016\n",
    "FROM CustTotals AS ct\n",
    "JOIN Sales.Customers AS c ON c.CustomerID = ct.CustomerID\n",
    "ORDER BY ct.Revenue2016 DESC, c.CustomerID;"
   ]
  },
  {
   "cell_type": "markdown",
   "id": "90023f2e",
   "metadata": {},
   "source": [
    "### Proposition 08 (Ch5): Customers with > 10 orders (CTE, multiple references)\n",
    "**Concept:** CTE + GROUP BY + HAVING  \n",
    "**Why:** Precompute order counts, then filter and join to customer names."
   ]
  },
  {
   "cell_type": "code",
   "execution_count": null,
   "id": "ac533bfd",
   "metadata": {},
   "outputs": [],
   "source": [
    "WITH OrderCounts AS (\n",
    "    SELECT o.CustomerID, COUNT(*) AS NumOrders\n",
    "    FROM Sales.Orders AS o\n",
    "    GROUP BY o.CustomerID\n",
    ")\n",
    "SELECT oc.CustomerID, c.CustomerName, oc.NumOrders\n",
    "FROM OrderCounts AS oc\n",
    "JOIN Sales.Customers AS c ON c.CustomerID = oc.CustomerID\n",
    "WHERE oc.NumOrders > 10\n",
    "ORDER BY oc.NumOrders DESC, oc.CustomerID;"
   ]
  },
  {
   "cell_type": "markdown",
   "id": "ad64ac31",
   "metadata": {},
   "source": [
    "### Proposition 09 (Ch5): Top 3 most recent orders per customer (CROSS APPLY)\n",
    "**Concept:** CROSS APPLY with a top-N per outer row  \n",
    "**Why:** Apply a “top 3 recent orders” subquery to each customer."
   ]
  },
  {
   "cell_type": "code",
   "execution_count": null,
   "id": "b8521dd7",
   "metadata": {},
   "outputs": [],
   "source": [
    "SELECT \n",
    "    c.CustomerID,\n",
    "    c.CustomerName,\n",
    "    r.OrderID,\n",
    "    r.OrderDate\n",
    "FROM Sales.Customers AS c\n",
    "CROSS APPLY (\n",
    "    SELECT TOP (3) o.OrderID, o.OrderDate\n",
    "    FROM Sales.Orders AS o\n",
    "    WHERE o.CustomerID = c.CustomerID\n",
    "    ORDER BY o.OrderDate DESC, o.OrderID DESC\n",
    ") AS r\n",
    "ORDER BY c.CustomerID, r.OrderDate DESC;"
   ]
  },
  {
   "cell_type": "markdown",
   "id": "19206b8f",
   "metadata": {},
   "source": [
    "### Proposition 10 (Ch5): Cities ranked by order count (derived table)\n",
    "**Concept:** Derived table + GROUP BY  \n",
    "**Why:** Build a city→order count list (via Customers), then present ranked results."
   ]
  },
  {
   "cell_type": "code",
   "execution_count": null,
   "id": "f7bee1fe",
   "metadata": {},
   "outputs": [],
   "source": [
    "SELECT ct.CityID, ct.CityName, ct.NumOrders\n",
    "FROM (\n",
    "    SELECT city.CityID, city.CityName, COUNT(*) AS NumOrders\n",
    "    FROM Sales.Orders AS o\n",
    "    JOIN Sales.Customers AS cust ON cust.CustomerID = o.CustomerID\n",
    "    JOIN Application.Cities AS city ON city.CityID = cust.DeliveryCityID\n",
    "    GROUP BY city.CityID, city.CityName\n",
    ") AS ct\n",
    "ORDER BY ct.NumOrders DESC, ct.CityName;"
   ]
  }
 ],
 "metadata": {
  "kernelspec": {
   "display_name": "Python 3 (ipykernel)",
   "language": "python",
   "name": "python3"
  },
  "language_info": {
   "codemirror_mode": {
    "name": "ipython",
    "version": 3
   },
   "file_extension": ".py",
   "mimetype": "text/x-python",
   "name": "python",
   "nbconvert_exporter": "python",
   "pygments_lexer": "ipython3",
   "version": "3.12.6"
  }
 },
 "nbformat": 4,
 "nbformat_minor": 5
}
