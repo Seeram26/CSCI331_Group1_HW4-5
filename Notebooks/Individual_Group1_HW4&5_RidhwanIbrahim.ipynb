{
    "metadata": {
        "kernelspec": {
            "name": "SQL",
            "display_name": "SQL",
            "language": "sql"
        },
        "language_info": {
            "name": "sql",
            "version": ""
        }
    },
    "nbformat_minor": 2,
    "nbformat": 4,
    "cells": [
        {
            "cell_type": "markdown",
            "source": [
                "Proposition 1: Which supplier did we place the most orders from?"
            ],
            "metadata": {
                "azdata_cell_guid": "44abb5d7-97db-4eb8-9654-b9d85852e243"
            },
            "attachments": {}
        },
        {
            "cell_type": "code",
            "source": [
                "SELECT TOP(1) S.SupplierID, S.SupplierName,\r\n",
                "    (SELECT COUNT(*) \r\n",
                "     FROM Purchasing.SupplierTransactions AS ST\r\n",
                "     WHERE ST.SupplierID = S.SupplierID) AS NumOrders\r\n",
                "FROM Purchasing.Suppliers AS S\r\n",
                "ORDER BY NumOrders DESC;"
            ],
            "metadata": {
                "azdata_cell_guid": "f7db64ee-97bd-4bd9-8ffa-faeb0f711eb7",
                "language": "sql",
                "tags": []
            },
            "outputs": [
                {
                    "output_type": "display_data",
                    "data": {
                        "text/html": "(1 row affected)"
                    },
                    "metadata": {}
                },
                {
                    "output_type": "display_data",
                    "data": {
                        "text/html": "Total execution time: 00:00:00.017"
                    },
                    "metadata": {}
                },
                {
                    "output_type": "execute_result",
                    "metadata": {},
                    "execution_count": 16,
                    "data": {
                        "application/vnd.dataresource+json": {
                            "schema": {
                                "fields": [
                                    {
                                        "name": "SupplierID"
                                    },
                                    {
                                        "name": "SupplierName"
                                    },
                                    {
                                        "name": "NumOrders"
                                    }
                                ]
                            },
                            "data": [
                                {
                                    "SupplierID": "4",
                                    "SupplierName": "Fabrikam, Inc.",
                                    "NumOrders": "1232"
                                }
                            ]
                        },
                        "text/html": [
                            "<table>",
                            "<tr><th>SupplierID</th><th>SupplierName</th><th>NumOrders</th></tr>",
                            "<tr><td>4</td><td>Fabrikam, Inc.</td><td>1232</td></tr>",
                            "</table>"
                        ]
                    }
                }
            ],
            "execution_count": 16
        },
        {
            "cell_type": "markdown",
            "source": [
                "Proposition 2: Which suppliers have we already paid vs not paid?"
            ],
            "metadata": {
                "azdata_cell_guid": "05fd2500-c5c6-4074-832b-94d466c1a78a"
            },
            "attachments": {}
        },
        {
            "cell_type": "code",
            "source": [
                "SELECT S.SupplierName,\r\n",
                "       (SELECT SUM(TransactionAmount)\r\n",
                "        FROM Purchasing.SupplierTransactions AS ST\r\n",
                "        WHERE ST.TransactionTypeID = 7\r\n",
                "          AND ST.SupplierID = S.SupplierID) AS TotalPaid\r\n",
                "FROM Purchasing.Suppliers AS S"
            ],
            "metadata": {
                "azdata_cell_guid": "4fb443a5-84d6-449a-9552-79157c5cbc9b",
                "language": "sql"
            },
            "outputs": [
                {
                    "output_type": "display_data",
                    "data": {
                        "text/html": "(13 rows affected)"
                    },
                    "metadata": {}
                },
                {
                    "output_type": "display_data",
                    "data": {
                        "text/html": "Total execution time: 00:00:00.043"
                    },
                    "metadata": {}
                },
                {
                    "output_type": "execute_result",
                    "metadata": {},
                    "execution_count": 15,
                    "data": {
                        "application/vnd.dataresource+json": {
                            "schema": {
                                "fields": [
                                    {
                                        "name": "SupplierName"
                                    },
                                    {
                                        "name": "TotalPaid"
                                    }
                                ]
                            },
                            "data": [
                                {
                                    "SupplierName": "A Datum Corporation",
                                    "TotalPaid": "-27525.30"
                                },
                                {
                                    "SupplierName": "Contoso, Ltd.",
                                    "TotalPaid": "-360.53"
                                },
                                {
                                    "SupplierName": "Consolidated Messenger",
                                    "TotalPaid": "NULL"
                                },
                                {
                                    "SupplierName": "Fabrikam, Inc.",
                                    "TotalPaid": "-777904261.21"
                                },
                                {
                                    "SupplierName": "Graphic Design Institute",
                                    "TotalPaid": "-7462.45"
                                },
                                {
                                    "SupplierName": "Humongous Insurance",
                                    "TotalPaid": "NULL"
                                },
                                {
                                    "SupplierName": "Litware, Inc.",
                                    "TotalPaid": "-305183143.35"
                                },
                                {
                                    "SupplierName": "Lucerne Publishing",
                                    "TotalPaid": "NULL"
                                },
                                {
                                    "SupplierName": "Nod Publishers",
                                    "TotalPaid": "NULL"
                                },
                                {
                                    "SupplierName": "Northwind Electric Cars",
                                    "TotalPaid": "-90639.00"
                                },
                                {
                                    "SupplierName": "Trey Research",
                                    "TotalPaid": "NULL"
                                },
                                {
                                    "SupplierName": "The Phone Company",
                                    "TotalPaid": "-58443.01"
                                },
                                {
                                    "SupplierName": "Woodgrove Bank",
                                    "TotalPaid": "NULL"
                                }
                            ]
                        },
                        "text/html": [
                            "<table>",
                            "<tr><th>SupplierName</th><th>TotalPaid</th></tr>",
                            "<tr><td>A Datum Corporation</td><td>-27525.30</td></tr>",
                            "<tr><td>Contoso, Ltd.</td><td>-360.53</td></tr>",
                            "<tr><td>Consolidated Messenger</td><td>NULL</td></tr>",
                            "<tr><td>Fabrikam, Inc.</td><td>-777904261.21</td></tr>",
                            "<tr><td>Graphic Design Institute</td><td>-7462.45</td></tr>",
                            "<tr><td>Humongous Insurance</td><td>NULL</td></tr>",
                            "<tr><td>Litware, Inc.</td><td>-305183143.35</td></tr>",
                            "<tr><td>Lucerne Publishing</td><td>NULL</td></tr>",
                            "<tr><td>Nod Publishers</td><td>NULL</td></tr>",
                            "<tr><td>Northwind Electric Cars</td><td>-90639.00</td></tr>",
                            "<tr><td>Trey Research</td><td>NULL</td></tr>",
                            "<tr><td>The Phone Company</td><td>-58443.01</td></tr>",
                            "<tr><td>Woodgrove Bank</td><td>NULL</td></tr>",
                            "</table>"
                        ]
                    }
                }
            ],
            "execution_count": 15
        },
        {
            "cell_type": "markdown",
            "source": [
                "Proposition 3: Which suppliers haven't we paid yet?"
            ],
            "metadata": {
                "azdata_cell_guid": "09b466bb-a12a-4cce-8e54-c224448518aa"
            },
            "attachments": {}
        },
        {
            "cell_type": "code",
            "source": [
                "SELECT SupplierID, SupplierName\r\n",
                "FROM Purchasing.Suppliers\r\n",
                "WHERE SupplierID NOT IN (\r\n",
                "    SELECT SupplierID\r\n",
                "    FROM Purchasing.SupplierTransactions\r\n",
                "    WHERE TransactionTypeID = 7\r\n",
                ");"
            ],
            "metadata": {
                "azdata_cell_guid": "9514c243-e7b6-4d50-9589-89e2672c7815",
                "language": "sql"
            },
            "outputs": [
                {
                    "output_type": "display_data",
                    "data": {
                        "text/html": "(6 rows affected)"
                    },
                    "metadata": {}
                },
                {
                    "output_type": "display_data",
                    "data": {
                        "text/html": "Total execution time: 00:00:00.048"
                    },
                    "metadata": {}
                },
                {
                    "output_type": "execute_result",
                    "metadata": {},
                    "execution_count": 14,
                    "data": {
                        "application/vnd.dataresource+json": {
                            "schema": {
                                "fields": [
                                    {
                                        "name": "SupplierID"
                                    },
                                    {
                                        "name": "SupplierName"
                                    }
                                ]
                            },
                            "data": [
                                {
                                    "SupplierID": "3",
                                    "SupplierName": "Consolidated Messenger"
                                },
                                {
                                    "SupplierID": "6",
                                    "SupplierName": "Humongous Insurance"
                                },
                                {
                                    "SupplierID": "8",
                                    "SupplierName": "Lucerne Publishing"
                                },
                                {
                                    "SupplierID": "9",
                                    "SupplierName": "Nod Publishers"
                                },
                                {
                                    "SupplierID": "11",
                                    "SupplierName": "Trey Research"
                                },
                                {
                                    "SupplierID": "13",
                                    "SupplierName": "Woodgrove Bank"
                                }
                            ]
                        },
                        "text/html": [
                            "<table>",
                            "<tr><th>SupplierID</th><th>SupplierName</th></tr>",
                            "<tr><td>3</td><td>Consolidated Messenger</td></tr>",
                            "<tr><td>6</td><td>Humongous Insurance</td></tr>",
                            "<tr><td>8</td><td>Lucerne Publishing</td></tr>",
                            "<tr><td>9</td><td>Nod Publishers</td></tr>",
                            "<tr><td>11</td><td>Trey Research</td></tr>",
                            "<tr><td>13</td><td>Woodgrove Bank</td></tr>",
                            "</table>"
                        ]
                    }
                }
            ],
            "execution_count": 14
        },
        {
            "cell_type": "markdown",
            "source": [
                "Proposition 4: What delivery method does our supplier \"Fabrikam inc\" use to ship to us?"
            ],
            "metadata": {
                "azdata_cell_guid": "96ea3e29-04e1-404f-8dcd-ff267c7e7e8b"
            },
            "attachments": {}
        },
        {
            "cell_type": "code",
            "source": [
                "SELECT DM.DeliveryMethodName\r\n",
                "FROM Application.DeliveryMethods AS DM\r\n",
                "WHERE DM.DeliveryMethodID = \r\n",
                "    (SELECT S.DeliveryMethodID\r\n",
                "     FROM Purchasing.Suppliers AS S\r\n",
                "     WHERE S.SupplierID = 4);"
            ],
            "metadata": {
                "azdata_cell_guid": "a09d074d-47fd-4de4-a313-1e9ea28d21ee",
                "language": "sql"
            },
            "outputs": [
                {
                    "output_type": "display_data",
                    "data": {
                        "text/html": "(1 row affected)"
                    },
                    "metadata": {}
                },
                {
                    "output_type": "display_data",
                    "data": {
                        "text/html": "Total execution time: 00:00:00.032"
                    },
                    "metadata": {}
                },
                {
                    "output_type": "execute_result",
                    "metadata": {},
                    "execution_count": 13,
                    "data": {
                        "application/vnd.dataresource+json": {
                            "schema": {
                                "fields": [
                                    {
                                        "name": "DeliveryMethodName"
                                    }
                                ]
                            },
                            "data": [
                                {
                                    "DeliveryMethodName": "Road Freight"
                                }
                            ]
                        },
                        "text/html": [
                            "<table>",
                            "<tr><th>DeliveryMethodName</th></tr>",
                            "<tr><td>Road Freight</td></tr>",
                            "</table>"
                        ]
                    }
                }
            ],
            "execution_count": 13
        },
        {
            "cell_type": "markdown",
            "source": [
                "Proposition 5: Which customers fall under the 'Novelty Shop' category?"
            ],
            "metadata": {
                "azdata_cell_guid": "0d9c1082-793a-49a5-9138-1dbda582c032"
            },
            "attachments": {}
        },
        {
            "cell_type": "code",
            "source": [
                "SELECT CustomerID, CustomerName\r\n",
                "FROM Sales.Customers\r\n",
                "WHERE CustomerCategoryID = (\r\n",
                "    SELECT CustomerCategoryID\r\n",
                "    FROM Sales.CustomerCategories\r\n",
                "    WHERE CustomerCategoryName = 'Novelty Shop'\r\n",
                ");\r\n",
                ""
            ],
            "metadata": {
                "azdata_cell_guid": "69a4c0a3-99a7-429c-9221-2656c842bd40",
                "language": "sql"
            },
            "outputs": [
                {
                    "output_type": "display_data",
                    "data": {
                        "text/html": "(459 rows affected)"
                    },
                    "metadata": {}
                },
                {
                    "output_type": "display_data",
                    "data": {
                        "text/html": "Total execution time: 00:00:00.034"
                    },
                    "metadata": {}
                },
                {
                    "output_type": "execute_result",
                    "metadata": {},
                    "execution_count": 12,
                    "data": {
                        "application/vnd.dataresource+json": {
                            "schema": {
                                "fields": [
                                    {
                                        "name": "CustomerID"
                                    },
                                    {
                                        "name": "CustomerName"
                                    }
                                ]
                            },
                            "data": [
                                {
                                    "CustomerID": "1",
                                    "CustomerName": "Tailspin Toys (Head Office)"
                                },
                                {
                                    "CustomerID": "2",
                                    "CustomerName": "Tailspin Toys (Sylvanite, MT)"
                                },
                                {
                                    "CustomerID": "3",
                                    "CustomerName": "Tailspin Toys (Peeples Valley, AZ)"
                                },
                                {
                                    "CustomerID": "4",
                                    "CustomerName": "Tailspin Toys (Medicine Lodge, KS)"
                                },
                                {
                                    "CustomerID": "5",
                                    "CustomerName": "Tailspin Toys (Gasport, NY)"
                                },
                                {
                                    "CustomerID": "6",
                                    "CustomerName": "Tailspin Toys (Jessie, ND)"
                                },
                                {
                                    "CustomerID": "7",
                                    "CustomerName": "Tailspin Toys (Frankewing, TN)"
                                },
                                {
                                    "CustomerID": "8",
                                    "CustomerName": "Tailspin Toys (Bow Mar, CO)"
                                },
                                {
                                    "CustomerID": "9",
                                    "CustomerName": "Tailspin Toys (Netcong, NJ)"
                                },
                                {
                                    "CustomerID": "10",
                                    "CustomerName": "Tailspin Toys (Wimbledon, ND)"
                                },
                                {
                                    "CustomerID": "11",
                                    "CustomerName": "Tailspin Toys (Devault, PA)"
                                },
                                {
                                    "CustomerID": "12",
                                    "CustomerName": "Tailspin Toys (Biscay, MN)"
                                },
                                {
                                    "CustomerID": "13",
                                    "CustomerName": "Tailspin Toys (Stonefort, IL)"
                                },
                                {
                                    "CustomerID": "14",
                                    "CustomerName": "Tailspin Toys (Long Meadow, MD)"
                                },
                                {
                                    "CustomerID": "15",
                                    "CustomerName": "Tailspin Toys (Batson, TX)"
                                },
                                {
                                    "CustomerID": "16",
                                    "CustomerName": "Tailspin Toys (Coney Island, MO)"
                                },
                                {
                                    "CustomerID": "17",
                                    "CustomerName": "Tailspin Toys (East Fultonham, OH)"
                                },
                                {
                                    "CustomerID": "18",
                                    "CustomerName": "Tailspin Toys (Goffstown, NH)"
                                },
                                {
                                    "CustomerID": "19",
                                    "CustomerName": "Tailspin Toys (Lemeta, AK)"
                                },
                                {
                                    "CustomerID": "20",
                                    "CustomerName": "Tailspin Toys (College Place, WA)"
                                },
                                {
                                    "CustomerID": "21",
                                    "CustomerName": "Tailspin Toys (Tresckow, PA)"
                                },
                                {
                                    "CustomerID": "22",
                                    "CustomerName": "Tailspin Toys (Ward Ridge, FL)"
                                },
                                {
                                    "CustomerID": "23",
                                    "CustomerName": "Tailspin Toys (Ikatan, AK)"
                                },
                                {
                                    "CustomerID": "24",
                                    "CustomerName": "Tailspin Toys (Dundarrach, NC)"
                                },
                                {
                                    "CustomerID": "25",
                                    "CustomerName": "Tailspin Toys (Avenal, CA)"
                                },
                                {
                                    "CustomerID": "26",
                                    "CustomerName": "Tailspin Toys (Hedrick, IA)"
                                },
                                {
                                    "CustomerID": "27",
                                    "CustomerName": "Tailspin Toys (Bowlus, MN)"
                                },
                                {
                                    "CustomerID": "28",
                                    "CustomerName": "Tailspin Toys (North Ridge, NY)"
                                },
                                {
                                    "CustomerID": "29",
                                    "CustomerName": "Tailspin Toys (Eulaton, AL)"
                                },
                                {
                                    "CustomerID": "30",
                                    "CustomerName": "Tailspin Toys (Koontzville, WA)"
                                },
                                {
                                    "CustomerID": "31",
                                    "CustomerName": "Tailspin Toys (Lake Stevens, WA)"
                                },
                                {
                                    "CustomerID": "32",
                                    "CustomerName": "Tailspin Toys (Maypearl, TX)"
                                },
                                {
                                    "CustomerID": "33",
                                    "CustomerName": "Tailspin Toys (Boyden Arbor, SC)"
                                },
                                {
                                    "CustomerID": "34",
                                    "CustomerName": "Tailspin Toys (Dallardsville, TX)"
                                },
                                {
                                    "CustomerID": "35",
                                    "CustomerName": "Tailspin Toys (Slanesville, WV)"
                                },
                                {
                                    "CustomerID": "36",
                                    "CustomerName": "Tailspin Toys (Ekron, KY)"
                                },
                                {
                                    "CustomerID": "37",
                                    "CustomerName": "Tailspin Toys (Kerby, OR)"
                                },
                                {
                                    "CustomerID": "38",
                                    "CustomerName": "Tailspin Toys (Airport Drive, MO)"
                                },
                                {
                                    "CustomerID": "39",
                                    "CustomerName": "Tailspin Toys (Diablock, KY)"
                                },
                                {
                                    "CustomerID": "40",
                                    "CustomerName": "Tailspin Toys (Impact, TX)"
                                },
                                {
                                    "CustomerID": "41",
                                    "CustomerName": "Tailspin Toys (Olivette, MO)"
                                },
                                {
                                    "CustomerID": "42",
                                    "CustomerName": "Tailspin Toys (Arietta, NY)"
                                },
                                {
                                    "CustomerID": "43",
                                    "CustomerName": "Tailspin Toys (Upper Preston, WA)"
                                },
                                {
                                    "CustomerID": "44",
                                    "CustomerName": "Tailspin Toys (Amanda Park, WA)"
                                },
                                {
                                    "CustomerID": "45",
                                    "CustomerName": "Tailspin Toys (Severna Park, MD)"
                                },
                                {
                                    "CustomerID": "46",
                                    "CustomerName": "Tailspin Toys (Jemison, AL)"
                                },
                                {
                                    "CustomerID": "47",
                                    "CustomerName": "Tailspin Toys (Lake Hughes, CA)"
                                },
                                {
                                    "CustomerID": "48",
                                    "CustomerName": "Tailspin Toys (Trentwood, WA)"
                                },
                                {
                                    "CustomerID": "49",
                                    "CustomerName": "Tailspin Toys (Muir, MI)"
                                },
                                {
                                    "CustomerID": "50",
                                    "CustomerName": "Tailspin Toys (Hambleton, WV)"
                                },
                                {
                                    "CustomerID": "51",
                                    "CustomerName": "Tailspin Toys (Imlaystown, NJ)"
                                },
                                {
                                    "CustomerID": "52",
                                    "CustomerName": "Tailspin Toys (Idria, CA)"
                                },
                                {
                                    "CustomerID": "53",
                                    "CustomerName": "Tailspin Toys (Nanafalia, AL)"
                                },
                                {
                                    "CustomerID": "54",
                                    "CustomerName": "Tailspin Toys (Railroad, PA)"
                                },
                                {
                                    "CustomerID": "55",
                                    "CustomerName": "Tailspin Toys (Gum Branch, GA)"
                                },
                                {
                                    "CustomerID": "56",
                                    "CustomerName": "Tailspin Toys (Royal City, WA)"
                                },
                                {
                                    "CustomerID": "57",
                                    "CustomerName": "Tailspin Toys (Lakemore, OH)"
                                },
                                {
                                    "CustomerID": "58",
                                    "CustomerName": "Tailspin Toys (Mappsburg, VA)"
                                },
                                {
                                    "CustomerID": "59",
                                    "CustomerName": "Tailspin Toys (Edgartown, MA)"
                                },
                                {
                                    "CustomerID": "60",
                                    "CustomerName": "Tailspin Toys (East Dailey, WV)"
                                },
                                {
                                    "CustomerID": "61",
                                    "CustomerName": "Tailspin Toys (Fairfield Glade, TN)"
                                },
                                {
                                    "CustomerID": "62",
                                    "CustomerName": "Tailspin Toys (Great Neck Estates, NY)"
                                },
                                {
                                    "CustomerID": "63",
                                    "CustomerName": "Tailspin Toys (Stallion Springs, CA)"
                                },
                                {
                                    "CustomerID": "64",
                                    "CustomerName": "Tailspin Toys (Hodgdon, ME)"
                                },
                                {
                                    "CustomerID": "65",
                                    "CustomerName": "Tailspin Toys (North Cowden, TX)"
                                },
                                {
                                    "CustomerID": "66",
                                    "CustomerName": "Tailspin Toys (Madaket, MA)"
                                },
                                {
                                    "CustomerID": "67",
                                    "CustomerName": "Tailspin Toys (Sentinel Butte, ND)"
                                },
                                {
                                    "CustomerID": "68",
                                    "CustomerName": "Tailspin Toys (Gardere, LA)"
                                },
                                {
                                    "CustomerID": "69",
                                    "CustomerName": "Tailspin Toys (Lytle Creek, CA)"
                                },
                                {
                                    "CustomerID": "70",
                                    "CustomerName": "Tailspin Toys (New Baden, IL)"
                                },
                                {
                                    "CustomerID": "71",
                                    "CustomerName": "Tailspin Toys (Good Hart, MI)"
                                },
                                {
                                    "CustomerID": "72",
                                    "CustomerName": "Tailspin Toys (Cortaro, AZ)"
                                },
                                {
                                    "CustomerID": "73",
                                    "CustomerName": "Tailspin Toys (Cokato, MN)"
                                },
                                {
                                    "CustomerID": "74",
                                    "CustomerName": "Tailspin Toys (Indios, PR)"
                                },
                                {
                                    "CustomerID": "75",
                                    "CustomerName": "Tailspin Toys (Windsor Locks, CT)"
                                },
                                {
                                    "CustomerID": "76",
                                    "CustomerName": "Tailspin Toys (Yewed, OK)"
                                },
                                {
                                    "CustomerID": "77",
                                    "CustomerName": "Tailspin Toys (Hahira, GA)"
                                },
                                {
                                    "CustomerID": "78",
                                    "CustomerName": "Tailspin Toys (Sekiu, WA)"
                                },
                                {
                                    "CustomerID": "79",
                                    "CustomerName": "Tailspin Toys (Page City, KS)"
                                },
                                {
                                    "CustomerID": "80",
                                    "CustomerName": "Tailspin Toys (Valdese, NC)"
                                },
                                {
                                    "CustomerID": "81",
                                    "CustomerName": "Tailspin Toys (Big Moose, NY)"
                                },
                                {
                                    "CustomerID": "82",
                                    "CustomerName": "Tailspin Toys (La Cueva, NM)"
                                },
                                {
                                    "CustomerID": "83",
                                    "CustomerName": "Tailspin Toys (Absecon, NJ)"
                                },
                                {
                                    "CustomerID": "84",
                                    "CustomerName": "Tailspin Toys (Aceitunas, PR)"
                                },
                                {
                                    "CustomerID": "85",
                                    "CustomerName": "Tailspin Toys (Andrix, CO)"
                                },
                                {
                                    "CustomerID": "86",
                                    "CustomerName": "Tailspin Toys (New Lexington, OH)"
                                },
                                {
                                    "CustomerID": "87",
                                    "CustomerName": "Tailspin Toys (Sauquoit, NY)"
                                },
                                {
                                    "CustomerID": "88",
                                    "CustomerName": "Tailspin Toys (Dracut, MA)"
                                },
                                {
                                    "CustomerID": "89",
                                    "CustomerName": "Tailspin Toys (Victory Gardens, NJ)"
                                },
                                {
                                    "CustomerID": "90",
                                    "CustomerName": "Tailspin Toys (Tolna, ND)"
                                },
                                {
                                    "CustomerID": "91",
                                    "CustomerName": "Tailspin Toys (Alstead, NH)"
                                },
                                {
                                    "CustomerID": "92",
                                    "CustomerName": "Tailspin Toys (Sans Souci, SC)"
                                },
                                {
                                    "CustomerID": "93",
                                    "CustomerName": "Tailspin Toys (Clewiston, FL)"
                                },
                                {
                                    "CustomerID": "94",
                                    "CustomerName": "Tailspin Toys (Cheyenne Wells, CO)"
                                },
                                {
                                    "CustomerID": "95",
                                    "CustomerName": "Tailspin Toys (Lavon, TX)"
                                },
                                {
                                    "CustomerID": "96",
                                    "CustomerName": "Tailspin Toys (South La Paloma, TX)"
                                },
                                {
                                    "CustomerID": "97",
                                    "CustomerName": "Tailspin Toys (Manchester Center, VT)"
                                },
                                {
                                    "CustomerID": "98",
                                    "CustomerName": "Tailspin Toys (El Centro, CA)"
                                },
                                {
                                    "CustomerID": "99",
                                    "CustomerName": "Tailspin Toys (Guin, AL)"
                                },
                                {
                                    "CustomerID": "100",
                                    "CustomerName": "Tailspin Toys (Tunnelhill, PA)"
                                },
                                {
                                    "CustomerID": "101",
                                    "CustomerName": "Tailspin Toys (Cundiyo, NM)"
                                },
                                {
                                    "CustomerID": "102",
                                    "CustomerName": "Tailspin Toys (Fieldbrook, CA)"
                                },
                                {
                                    "CustomerID": "103",
                                    "CustomerName": "Tailspin Toys (Kalvesta, KS)"
                                },
                                {
                                    "CustomerID": "104",
                                    "CustomerName": "Tailspin Toys (Wallagrass, ME)"
                                },
                                {
                                    "CustomerID": "105",
                                    "CustomerName": "Tailspin Toys (Tomnolen, MS)"
                                },
                                {
                                    "CustomerID": "106",
                                    "CustomerName": "Tailspin Toys (Tumacacori, AZ)"
                                },
                                {
                                    "CustomerID": "107",
                                    "CustomerName": "Tailspin Toys (Glen Avon, CA)"
                                },
                                {
                                    "CustomerID": "108",
                                    "CustomerName": "Tailspin Toys (Bernie, MO)"
                                },
                                {
                                    "CustomerID": "109",
                                    "CustomerName": "Tailspin Toys (South Laguna, CA)"
                                },
                                {
                                    "CustomerID": "110",
                                    "CustomerName": "Tailspin Toys (North Crows Nest, IN)"
                                },
                                {
                                    "CustomerID": "111",
                                    "CustomerName": "Tailspin Toys (Oriole Beach, FL)"
                                },
                                {
                                    "CustomerID": "112",
                                    "CustomerName": "Tailspin Toys (Sallyards, KS)"
                                },
                                {
                                    "CustomerID": "113",
                                    "CustomerName": "Tailspin Toys (Dahlia, NM)"
                                },
                                {
                                    "CustomerID": "114",
                                    "CustomerName": "Tailspin Toys (Cherry Grove Beach, SC)"
                                },
                                {
                                    "CustomerID": "115",
                                    "CustomerName": "Tailspin Toys (Bethania, NC)"
                                },
                                {
                                    "CustomerID": "116",
                                    "CustomerName": "Tailspin Toys (Rafael Capó, PR)"
                                },
                                {
                                    "CustomerID": "117",
                                    "CustomerName": "Tailspin Toys (Scofield, UT)"
                                },
                                {
                                    "CustomerID": "118",
                                    "CustomerName": "Tailspin Toys (Vassalboro, ME)"
                                },
                                {
                                    "CustomerID": "119",
                                    "CustomerName": "Tailspin Toys (Statenville, GA)"
                                },
                                {
                                    "CustomerID": "120",
                                    "CustomerName": "Tailspin Toys (Bratenahl, OH)"
                                },
                                {
                                    "CustomerID": "121",
                                    "CustomerName": "Tailspin Toys (Elrosa, MN)"
                                },
                                {
                                    "CustomerID": "122",
                                    "CustomerName": "Tailspin Toys (McClave, CO)"
                                },
                                {
                                    "CustomerID": "123",
                                    "CustomerName": "Tailspin Toys (Roe Park, NY)"
                                },
                                {
                                    "CustomerID": "124",
                                    "CustomerName": "Tailspin Toys (Hanoverton, OH)"
                                },
                                {
                                    "CustomerID": "125",
                                    "CustomerName": "Tailspin Toys (Annamoriah, WV)"
                                },
                                {
                                    "CustomerID": "126",
                                    "CustomerName": "Tailspin Toys (Francis Mills, NJ)"
                                },
                                {
                                    "CustomerID": "127",
                                    "CustomerName": "Tailspin Toys (Point Roberts, WA)"
                                },
                                {
                                    "CustomerID": "128",
                                    "CustomerName": "Tailspin Toys (East Portal, CO)"
                                },
                                {
                                    "CustomerID": "129",
                                    "CustomerName": "Tailspin Toys (Mineral Hills, MI)"
                                },
                                {
                                    "CustomerID": "130",
                                    "CustomerName": "Tailspin Toys (Maple Shade, NJ)"
                                },
                                {
                                    "CustomerID": "131",
                                    "CustomerName": "Tailspin Toys (Kwethluk, AK)"
                                },
                                {
                                    "CustomerID": "132",
                                    "CustomerName": "Tailspin Toys (Minidoka, ID)"
                                },
                                {
                                    "CustomerID": "133",
                                    "CustomerName": "Tailspin Toys (Lake Erie Beach, NY)"
                                },
                                {
                                    "CustomerID": "134",
                                    "CustomerName": "Tailspin Toys (Tavares, FL)"
                                },
                                {
                                    "CustomerID": "135",
                                    "CustomerName": "Tailspin Toys (Terre du Lac, MO)"
                                },
                                {
                                    "CustomerID": "136",
                                    "CustomerName": "Tailspin Toys (Mount Montgomery, NV)"
                                },
                                {
                                    "CustomerID": "137",
                                    "CustomerName": "Tailspin Toys (Carbonville, UT)"
                                },
                                {
                                    "CustomerID": "138",
                                    "CustomerName": "Tailspin Toys (Navassa, NC)"
                                },
                                {
                                    "CustomerID": "139",
                                    "CustomerName": "Tailspin Toys (Hardeeville, SC)"
                                },
                                {
                                    "CustomerID": "140",
                                    "CustomerName": "Tailspin Toys (Furley, KS)"
                                },
                                {
                                    "CustomerID": "141",
                                    "CustomerName": "Tailspin Toys (Arrow Rock, MO)"
                                },
                                {
                                    "CustomerID": "142",
                                    "CustomerName": "Tailspin Toys (King Cove, AK)"
                                },
                                {
                                    "CustomerID": "143",
                                    "CustomerName": "Tailspin Toys (Ashtabula, OH)"
                                },
                                {
                                    "CustomerID": "144",
                                    "CustomerName": "Tailspin Toys (Larose, LA)"
                                },
                                {
                                    "CustomerID": "145",
                                    "CustomerName": "Tailspin Toys (Manahawkin, NJ)"
                                },
                                {
                                    "CustomerID": "146",
                                    "CustomerName": "Tailspin Toys (Belgreen, AL)"
                                },
                                {
                                    "CustomerID": "147",
                                    "CustomerName": "Tailspin Toys (Fishtail, MT)"
                                },
                                {
                                    "CustomerID": "148",
                                    "CustomerName": "Tailspin Toys (Baraboo, WI)"
                                },
                                {
                                    "CustomerID": "149",
                                    "CustomerName": "Tailspin Toys (Inguadona, MN)"
                                },
                                {
                                    "CustomerID": "150",
                                    "CustomerName": "Tailspin Toys (Corfu, NY)"
                                },
                                {
                                    "CustomerID": "151",
                                    "CustomerName": "Tailspin Toys (Antares, AZ)"
                                },
                                {
                                    "CustomerID": "152",
                                    "CustomerName": "Tailspin Toys (Sun River, MT)"
                                },
                                {
                                    "CustomerID": "153",
                                    "CustomerName": "Tailspin Toys (Marcell, MN)"
                                },
                                {
                                    "CustomerID": "154",
                                    "CustomerName": "Tailspin Toys (Eden Valley, MN)"
                                },
                                {
                                    "CustomerID": "155",
                                    "CustomerName": "Tailspin Toys (Arbor Vitae, WI)"
                                },
                                {
                                    "CustomerID": "156",
                                    "CustomerName": "Tailspin Toys (Hollywood Park, TX)"
                                },
                                {
                                    "CustomerID": "157",
                                    "CustomerName": "Tailspin Toys (Saks, AL)"
                                },
                                {
                                    "CustomerID": "158",
                                    "CustomerName": "Tailspin Toys (Donner, LA)"
                                },
                                {
                                    "CustomerID": "159",
                                    "CustomerName": "Tailspin Toys (Saint Louis Park, MN)"
                                },
                                {
                                    "CustomerID": "160",
                                    "CustomerName": "Tailspin Toys (Crary, ND)"
                                },
                                {
                                    "CustomerID": "161",
                                    "CustomerName": "Tailspin Toys (Aspen Park, CO)"
                                },
                                {
                                    "CustomerID": "162",
                                    "CustomerName": "Tailspin Toys (Glen Park, NY)"
                                },
                                {
                                    "CustomerID": "163",
                                    "CustomerName": "Tailspin Toys (Panaca, NV)"
                                },
                                {
                                    "CustomerID": "164",
                                    "CustomerName": "Tailspin Toys (Rothsville, PA)"
                                },
                                {
                                    "CustomerID": "165",
                                    "CustomerName": "Tailspin Toys (Topstone, CT)"
                                },
                                {
                                    "CustomerID": "166",
                                    "CustomerName": "Tailspin Toys (McCamey, TX)"
                                },
                                {
                                    "CustomerID": "167",
                                    "CustomerName": "Tailspin Toys (Rockwall, TX)"
                                },
                                {
                                    "CustomerID": "168",
                                    "CustomerName": "Tailspin Toys (Seagraves, TX)"
                                },
                                {
                                    "CustomerID": "169",
                                    "CustomerName": "Tailspin Toys (Sinclair, WY)"
                                },
                                {
                                    "CustomerID": "170",
                                    "CustomerName": "Tailspin Toys (Eastchester, NY)"
                                },
                                {
                                    "CustomerID": "171",
                                    "CustomerName": "Tailspin Toys (Ortley Beach, NJ)"
                                },
                                {
                                    "CustomerID": "172",
                                    "CustomerName": "Tailspin Toys (Madrone, NM)"
                                },
                                {
                                    "CustomerID": "173",
                                    "CustomerName": "Tailspin Toys (Wappingers Falls, NY)"
                                },
                                {
                                    "CustomerID": "174",
                                    "CustomerName": "Tailspin Toys (Astor Park, FL)"
                                },
                                {
                                    "CustomerID": "175",
                                    "CustomerName": "Tailspin Toys (San Acacia, NM)"
                                },
                                {
                                    "CustomerID": "176",
                                    "CustomerName": "Tailspin Toys (Malott, WA)"
                                },
                                {
                                    "CustomerID": "177",
                                    "CustomerName": "Tailspin Toys (Orrtanna, PA)"
                                },
                                {
                                    "CustomerID": "178",
                                    "CustomerName": "Tailspin Toys (Armstrong Creek, WI)"
                                },
                                {
                                    "CustomerID": "179",
                                    "CustomerName": "Tailspin Toys (Hiteman, IA)"
                                },
                                {
                                    "CustomerID": "180",
                                    "CustomerName": "Tailspin Toys (Caselton, NV)"
                                },
                                {
                                    "CustomerID": "181",
                                    "CustomerName": "Tailspin Toys (Heilwood, PA)"
                                },
                                {
                                    "CustomerID": "182",
                                    "CustomerName": "Tailspin Toys (Hayes Center, NE)"
                                },
                                {
                                    "CustomerID": "183",
                                    "CustomerName": "Tailspin Toys (Tierra Verde, FL)"
                                },
                                {
                                    "CustomerID": "184",
                                    "CustomerName": "Tailspin Toys (South Euclid, OH)"
                                },
                                {
                                    "CustomerID": "185",
                                    "CustomerName": "Tailspin Toys (Vidrine, LA)"
                                },
                                {
                                    "CustomerID": "186",
                                    "CustomerName": "Tailspin Toys (Placer, OR)"
                                },
                                {
                                    "CustomerID": "187",
                                    "CustomerName": "Tailspin Toys (Brown City, MI)"
                                },
                                {
                                    "CustomerID": "188",
                                    "CustomerName": "Tailspin Toys (Premont, TX)"
                                },
                                {
                                    "CustomerID": "189",
                                    "CustomerName": "Tailspin Toys (Wilkes-Barre, PA)"
                                },
                                {
                                    "CustomerID": "190",
                                    "CustomerName": "Tailspin Toys (Teutopolis, IL)"
                                },
                                {
                                    "CustomerID": "191",
                                    "CustomerName": "Tailspin Toys (Orchard Hill, GA)"
                                },
                                {
                                    "CustomerID": "192",
                                    "CustomerName": "Tailspin Toys (Optimo, NM)"
                                },
                                {
                                    "CustomerID": "193",
                                    "CustomerName": "Tailspin Toys (Knifley, KY)"
                                },
                                {
                                    "CustomerID": "194",
                                    "CustomerName": "Tailspin Toys (Naples Park, FL)"
                                },
                                {
                                    "CustomerID": "195",
                                    "CustomerName": "Tailspin Toys (Lesslie, SC)"
                                },
                                {
                                    "CustomerID": "196",
                                    "CustomerName": "Tailspin Toys (Howells, NE)"
                                },
                                {
                                    "CustomerID": "197",
                                    "CustomerName": "Tailspin Toys (Magalia, CA)"
                                },
                                {
                                    "CustomerID": "198",
                                    "CustomerName": "Tailspin Toys (Buell, MO)"
                                },
                                {
                                    "CustomerID": "199",
                                    "CustomerName": "Tailspin Toys (Antonito, CO)"
                                },
                                {
                                    "CustomerID": "200",
                                    "CustomerName": "Tailspin Toys (Tooele, UT)"
                                },
                                {
                                    "CustomerID": "201",
                                    "CustomerName": "Tailspin Toys (Skyway, WA)"
                                },
                                {
                                    "CustomerID": "401",
                                    "CustomerName": "Wingtip Toys (Head Office)"
                                },
                                {
                                    "CustomerID": "402",
                                    "CustomerName": "Wingtip Toys (Black Lick, PA)"
                                },
                                {
                                    "CustomerID": "403",
                                    "CustomerName": "Wingtip Toys (Queen Valley, AZ)"
                                },
                                {
                                    "CustomerID": "404",
                                    "CustomerName": "Wingtip Toys (Penns Creek, PA)"
                                },
                                {
                                    "CustomerID": "405",
                                    "CustomerName": "Wingtip Toys (Bourbonnais, IL)"
                                },
                                {
                                    "CustomerID": "406",
                                    "CustomerName": "Wingtip Toys (Tuscaloosa, AL)"
                                },
                                {
                                    "CustomerID": "407",
                                    "CustomerName": "Wingtip Toys (Mooringsport, LA)"
                                },
                                {
                                    "CustomerID": "408",
                                    "CustomerName": "Wingtip Toys (Rockwall, TX)"
                                },
                                {
                                    "CustomerID": "409",
                                    "CustomerName": "Wingtip Toys (Orick, CA)"
                                },
                                {
                                    "CustomerID": "410",
                                    "CustomerName": "Wingtip Toys (Bernstein, TX)"
                                },
                                {
                                    "CustomerID": "411",
                                    "CustomerName": "Wingtip Toys (Edmund, WI)"
                                },
                                {
                                    "CustomerID": "412",
                                    "CustomerName": "Wingtip Toys (Bozeman Hot Springs, MT)"
                                },
                                {
                                    "CustomerID": "413",
                                    "CustomerName": "Wingtip Toys (Truscott, TX)"
                                },
                                {
                                    "CustomerID": "414",
                                    "CustomerName": "Wingtip Toys (Rose Tree, PA)"
                                },
                                {
                                    "CustomerID": "415",
                                    "CustomerName": "Wingtip Toys (Leathersville, GA)"
                                },
                                {
                                    "CustomerID": "416",
                                    "CustomerName": "Wingtip Toys (Necedah, WI)"
                                },
                                {
                                    "CustomerID": "417",
                                    "CustomerName": "Wingtip Toys (Chetek, WI)"
                                },
                                {
                                    "CustomerID": "418",
                                    "CustomerName": "Wingtip Toys (Yaak, MT)"
                                },
                                {
                                    "CustomerID": "419",
                                    "CustomerName": "Wingtip Toys (Compass Lake, FL)"
                                },
                                {
                                    "CustomerID": "420",
                                    "CustomerName": "Wingtip Toys (Herlong, CA)"
                                },
                                {
                                    "CustomerID": "421",
                                    "CustomerName": "Wingtip Toys (Highland Home, AL)"
                                },
                                {
                                    "CustomerID": "422",
                                    "CustomerName": "Wingtip Toys (Naches, WA)"
                                },
                                {
                                    "CustomerID": "423",
                                    "CustomerName": "Wingtip Toys (Baldwin City, KS)"
                                },
                                {
                                    "CustomerID": "424",
                                    "CustomerName": "Wingtip Toys (Heartwell, NE)"
                                },
                                {
                                    "CustomerID": "425",
                                    "CustomerName": "Wingtip Toys (Bethel Acres, OK)"
                                },
                                {
                                    "CustomerID": "426",
                                    "CustomerName": "Wingtip Toys (Willow Valley, AZ)"
                                },
                                {
                                    "CustomerID": "427",
                                    "CustomerName": "Wingtip Toys (Athol Springs, NY)"
                                },
                                {
                                    "CustomerID": "428",
                                    "CustomerName": "Wingtip Toys (Paw Paw Lake, MI)"
                                },
                                {
                                    "CustomerID": "429",
                                    "CustomerName": "Wingtip Toys (Lilbourn, MO)"
                                },
                                {
                                    "CustomerID": "430",
                                    "CustomerName": "Wingtip Toys (Lost River, ID)"
                                },
                                {
                                    "CustomerID": "431",
                                    "CustomerName": "Wingtip Toys (Rosa Sánchez, PR)"
                                },
                                {
                                    "CustomerID": "432",
                                    "CustomerName": "Wingtip Toys (Vamo, FL)"
                                },
                                {
                                    "CustomerID": "433",
                                    "CustomerName": "Wingtip Toys (Balko, OK)"
                                },
                                {
                                    "CustomerID": "434",
                                    "CustomerName": "Wingtip Toys (Lime Lake, NY)"
                                },
                                {
                                    "CustomerID": "435",
                                    "CustomerName": "Wingtip Toys (Teutopolis, IL)"
                                },
                                {
                                    "CustomerID": "436",
                                    "CustomerName": "Wingtip Toys (Gargatha, VA)"
                                },
                                {
                                    "CustomerID": "437",
                                    "CustomerName": "Wingtip Toys (Cadogan, PA)"
                                },
                                {
                                    "CustomerID": "438",
                                    "CustomerName": "Wingtip Toys (Lucasville, OH)"
                                },
                                {
                                    "CustomerID": "439",
                                    "CustomerName": "Wingtip Toys (Cylon, WI)"
                                },
                                {
                                    "CustomerID": "440",
                                    "CustomerName": "Wingtip Toys (Asher, OK)"
                                },
                                {
                                    "CustomerID": "441",
                                    "CustomerName": "Wingtip Toys (Keosauqua, IA)"
                                },
                                {
                                    "CustomerID": "442",
                                    "CustomerName": "Wingtip Toys (Homer City, PA)"
                                },
                                {
                                    "CustomerID": "443",
                                    "CustomerName": "Wingtip Toys (Berville, MI)"
                                },
                                {
                                    "CustomerID": "444",
                                    "CustomerName": "Wingtip Toys (Tea, SD)"
                                },
                                {
                                    "CustomerID": "445",
                                    "CustomerName": "Wingtip Toys (Dacono, CO)"
                                },
                                {
                                    "CustomerID": "446",
                                    "CustomerName": "Wingtip Toys (Saint Landry, LA)"
                                },
                                {
                                    "CustomerID": "447",
                                    "CustomerName": "Wingtip Toys (Coin, IA)"
                                },
                                {
                                    "CustomerID": "448",
                                    "CustomerName": "Wingtip Toys (Salt Wells, NV)"
                                },
                                {
                                    "CustomerID": "449",
                                    "CustomerName": "Wingtip Toys (Delray, WV)"
                                },
                                {
                                    "CustomerID": "450",
                                    "CustomerName": "Wingtip Toys (Mount Summit, IN)"
                                },
                                {
                                    "CustomerID": "451",
                                    "CustomerName": "Wingtip Toys (Smoot, WY)"
                                },
                                {
                                    "CustomerID": "452",
                                    "CustomerName": "Wingtip Toys (Lake Davis, CA)"
                                },
                                {
                                    "CustomerID": "453",
                                    "CustomerName": "Wingtip Toys (Stanardsville, VA)"
                                },
                                {
                                    "CustomerID": "454",
                                    "CustomerName": "Wingtip Toys (Corcovado, PR)"
                                },
                                {
                                    "CustomerID": "455",
                                    "CustomerName": "Wingtip Toys (Taft Heights, CA)"
                                },
                                {
                                    "CustomerID": "456",
                                    "CustomerName": "Wingtip Toys (West Hempstead, NY)"
                                },
                                {
                                    "CustomerID": "457",
                                    "CustomerName": "Wingtip Toys (Portales, NM)"
                                },
                                {
                                    "CustomerID": "458",
                                    "CustomerName": "Wingtip Toys (Coker, AL)"
                                },
                                {
                                    "CustomerID": "459",
                                    "CustomerName": "Wingtip Toys (Haydenville, OH)"
                                },
                                {
                                    "CustomerID": "460",
                                    "CustomerName": "Wingtip Toys (Mayhill, NM)"
                                },
                                {
                                    "CustomerID": "461",
                                    "CustomerName": "Wingtip Toys (Vair, TX)"
                                },
                                {
                                    "CustomerID": "462",
                                    "CustomerName": "Wingtip Toys (Crossroads, NM)"
                                },
                                {
                                    "CustomerID": "463",
                                    "CustomerName": "Wingtip Toys (Cowlington, OK)"
                                },
                                {
                                    "CustomerID": "464",
                                    "CustomerName": "Wingtip Toys (Glen Ullin, ND)"
                                },
                                {
                                    "CustomerID": "465",
                                    "CustomerName": "Wingtip Toys (Oologah, OK)"
                                },
                                {
                                    "CustomerID": "466",
                                    "CustomerName": "Wingtip Toys (Lytle, TX)"
                                },
                                {
                                    "CustomerID": "467",
                                    "CustomerName": "Wingtip Toys (Mahaffey, PA)"
                                },
                                {
                                    "CustomerID": "468",
                                    "CustomerName": "Wingtip Toys (Sunburg, MN)"
                                },
                                {
                                    "CustomerID": "469",
                                    "CustomerName": "Wingtip Toys (Johnetta, KY)"
                                },
                                {
                                    "CustomerID": "470",
                                    "CustomerName": "Wingtip Toys (Universal City, TX)"
                                },
                                {
                                    "CustomerID": "471",
                                    "CustomerName": "Wingtip Toys (Ridgemark, CA)"
                                },
                                {
                                    "CustomerID": "472",
                                    "CustomerName": "Wingtip Toys (San Jacinto, CA)"
                                },
                                {
                                    "CustomerID": "473",
                                    "CustomerName": "Wingtip Toys (Floriston, CA)"
                                },
                                {
                                    "CustomerID": "474",
                                    "CustomerName": "Wingtip Toys (Bokeelia, FL)"
                                },
                                {
                                    "CustomerID": "475",
                                    "CustomerName": "Wingtip Toys (Cale, AR)"
                                },
                                {
                                    "CustomerID": "476",
                                    "CustomerName": "Wingtip Toys (Karthaus, PA)"
                                },
                                {
                                    "CustomerID": "477",
                                    "CustomerName": "Wingtip Toys (Glancy, MS)"
                                },
                                {
                                    "CustomerID": "478",
                                    "CustomerName": "Wingtip Toys (Stoneboro, PA)"
                                },
                                {
                                    "CustomerID": "479",
                                    "CustomerName": "Wingtip Toys (Mier, IN)"
                                },
                                {
                                    "CustomerID": "480",
                                    "CustomerName": "Wingtip Toys (Wapinitia, OR)"
                                },
                                {
                                    "CustomerID": "481",
                                    "CustomerName": "Wingtip Toys (White Church, MO)"
                                },
                                {
                                    "CustomerID": "482",
                                    "CustomerName": "Wingtip Toys (Caton, NY)"
                                },
                                {
                                    "CustomerID": "483",
                                    "CustomerName": "Wingtip Toys (Plum Branch, SC)"
                                },
                                {
                                    "CustomerID": "484",
                                    "CustomerName": "Wingtip Toys (Mauldin, SC)"
                                },
                                {
                                    "CustomerID": "485",
                                    "CustomerName": "Wingtip Toys (Bonner Springs, KS)"
                                },
                                {
                                    "CustomerID": "486",
                                    "CustomerName": "Wingtip Toys (Lowellville, OH)"
                                },
                                {
                                    "CustomerID": "487",
                                    "CustomerName": "Wingtip Toys (Elverson, PA)"
                                },
                                {
                                    "CustomerID": "488",
                                    "CustomerName": "Wingtip Toys (Isabela, PR)"
                                },
                                {
                                    "CustomerID": "489",
                                    "CustomerName": "Wingtip Toys (Sayner, WI)"
                                },
                                {
                                    "CustomerID": "490",
                                    "CustomerName": "Wingtip Toys (Beals, ME)"
                                },
                                {
                                    "CustomerID": "491",
                                    "CustomerName": "Wingtip Toys (Morton Grove, IL)"
                                },
                                {
                                    "CustomerID": "492",
                                    "CustomerName": "Wingtip Toys (Birds, IL)"
                                },
                                {
                                    "CustomerID": "493",
                                    "CustomerName": "Wingtip Toys (Federalsburg, MD)"
                                },
                                {
                                    "CustomerID": "494",
                                    "CustomerName": "Wingtip Toys (Pikeview, CO)"
                                },
                                {
                                    "CustomerID": "495",
                                    "CustomerName": "Wingtip Toys (Boalsburg, PA)"
                                },
                                {
                                    "CustomerID": "496",
                                    "CustomerName": "Wingtip Toys (Port Hueneme, CA)"
                                },
                                {
                                    "CustomerID": "497",
                                    "CustomerName": "Wingtip Toys (Verdery, SC)"
                                },
                                {
                                    "CustomerID": "498",
                                    "CustomerName": "Wingtip Toys (Obetz, OH)"
                                },
                                {
                                    "CustomerID": "499",
                                    "CustomerName": "Wingtip Toys (East Fultonham, OH)"
                                },
                                {
                                    "CustomerID": "500",
                                    "CustomerName": "Wingtip Toys (Obion, TN)"
                                },
                                {
                                    "CustomerID": "501",
                                    "CustomerName": "Wingtip Toys (Cavendish, VT)"
                                },
                                {
                                    "CustomerID": "502",
                                    "CustomerName": "Wingtip Toys (Miesville, MN)"
                                },
                                {
                                    "CustomerID": "503",
                                    "CustomerName": "Wingtip Toys (Valhalla, NC)"
                                },
                                {
                                    "CustomerID": "504",
                                    "CustomerName": "Wingtip Toys (Cape Neddick, ME)"
                                },
                                {
                                    "CustomerID": "505",
                                    "CustomerName": "Wingtip Toys (Silver Plume, CO)"
                                },
                                {
                                    "CustomerID": "506",
                                    "CustomerName": "Wingtip Toys (North Beach Haven, NJ)"
                                },
                                {
                                    "CustomerID": "507",
                                    "CustomerName": "Wingtip Toys (Downingtown, PA)"
                                },
                                {
                                    "CustomerID": "508",
                                    "CustomerName": "Wingtip Toys (Branson West, MO)"
                                },
                                {
                                    "CustomerID": "509",
                                    "CustomerName": "Wingtip Toys (Bergen Park, CO)"
                                },
                                {
                                    "CustomerID": "510",
                                    "CustomerName": "Wingtip Toys (Grabill, IN)"
                                },
                                {
                                    "CustomerID": "511",
                                    "CustomerName": "Wingtip Toys (North Manitou, MI)"
                                },
                                {
                                    "CustomerID": "512",
                                    "CustomerName": "Wingtip Toys (Philip, SD)"
                                },
                                {
                                    "CustomerID": "513",
                                    "CustomerName": "Wingtip Toys (Straughn, IN)"
                                },
                                {
                                    "CustomerID": "514",
                                    "CustomerName": "Wingtip Toys (Gilford, NH)"
                                },
                                {
                                    "CustomerID": "515",
                                    "CustomerName": "Wingtip Toys (Del Valle, TX)"
                                },
                                {
                                    "CustomerID": "516",
                                    "CustomerName": "Wingtip Toys (Harkers Island, NC)"
                                },
                                {
                                    "CustomerID": "517",
                                    "CustomerName": "Wingtip Toys (Licking, MO)"
                                },
                                {
                                    "CustomerID": "518",
                                    "CustomerName": "Wingtip Toys (Raton, NM)"
                                },
                                {
                                    "CustomerID": "519",
                                    "CustomerName": "Wingtip Toys (Boynton, OK)"
                                },
                                {
                                    "CustomerID": "520",
                                    "CustomerName": "Wingtip Toys (Frenchburg, KY)"
                                },
                                {
                                    "CustomerID": "521",
                                    "CustomerName": "Wingtip Toys (Robertsdale, AL)"
                                },
                                {
                                    "CustomerID": "522",
                                    "CustomerName": "Wingtip Toys (Dickerson, MD)"
                                },
                                {
                                    "CustomerID": "523",
                                    "CustomerName": "Wingtip Toys (Bruceton Mills, WV)"
                                },
                                {
                                    "CustomerID": "524",
                                    "CustomerName": "Wingtip Toys (Cloquet, MN)"
                                },
                                {
                                    "CustomerID": "525",
                                    "CustomerName": "Wingtip Toys (Claycomo, MO)"
                                },
                                {
                                    "CustomerID": "526",
                                    "CustomerName": "Wingtip Toys (Beekmantown, NY)"
                                },
                                {
                                    "CustomerID": "527",
                                    "CustomerName": "Wingtip Toys (Islip Terrace, NY)"
                                },
                                {
                                    "CustomerID": "528",
                                    "CustomerName": "Wingtip Toys (Rich Creek, VA)"
                                },
                                {
                                    "CustomerID": "529",
                                    "CustomerName": "Wingtip Toys (Griswoldville, GA)"
                                },
                                {
                                    "CustomerID": "530",
                                    "CustomerName": "Wingtip Toys (East Mountain, TX)"
                                },
                                {
                                    "CustomerID": "531",
                                    "CustomerName": "Wingtip Toys (Omer, MI)"
                                },
                                {
                                    "CustomerID": "532",
                                    "CustomerName": "Wingtip Toys (Waycross, GA)"
                                },
                                {
                                    "CustomerID": "533",
                                    "CustomerName": "Wingtip Toys (Nichols Hills, OK)"
                                },
                                {
                                    "CustomerID": "534",
                                    "CustomerName": "Wingtip Toys (Plaquemine, LA)"
                                },
                                {
                                    "CustomerID": "535",
                                    "CustomerName": "Wingtip Toys (Triadelphia, WV)"
                                },
                                {
                                    "CustomerID": "536",
                                    "CustomerName": "Wingtip Toys (Ferney, SD)"
                                },
                                {
                                    "CustomerID": "537",
                                    "CustomerName": "Wingtip Toys (Akhiok, AK)"
                                },
                                {
                                    "CustomerID": "538",
                                    "CustomerName": "Wingtip Toys (Deeson, MS)"
                                },
                                {
                                    "CustomerID": "539",
                                    "CustomerName": "Wingtip Toys (Nuangola, PA)"
                                },
                                {
                                    "CustomerID": "540",
                                    "CustomerName": "Wingtip Toys (Weld, ME)"
                                },
                                {
                                    "CustomerID": "541",
                                    "CustomerName": "Wingtip Toys (Mickleton, NJ)"
                                },
                                {
                                    "CustomerID": "542",
                                    "CustomerName": "Wingtip Toys (Schererville, IN)"
                                },
                                {
                                    "CustomerID": "543",
                                    "CustomerName": "Wingtip Toys (Lexington Heights, MI)"
                                },
                                {
                                    "CustomerID": "544",
                                    "CustomerName": "Wingtip Toys (Broomtown, AL)"
                                },
                                {
                                    "CustomerID": "545",
                                    "CustomerName": "Wingtip Toys (Jamison, IA)"
                                },
                                {
                                    "CustomerID": "546",
                                    "CustomerName": "Wingtip Toys (Key Biscayne, FL)"
                                },
                                {
                                    "CustomerID": "547",
                                    "CustomerName": "Wingtip Toys (Chaseley, ND)"
                                },
                                {
                                    "CustomerID": "548",
                                    "CustomerName": "Wingtip Toys (Indian Creek, IL)"
                                },
                                {
                                    "CustomerID": "549",
                                    "CustomerName": "Wingtip Toys (Lake Ronkonkoma, NY)"
                                },
                                {
                                    "CustomerID": "550",
                                    "CustomerName": "Wingtip Toys (Morrison Bluff, AR)"
                                },
                                {
                                    "CustomerID": "551",
                                    "CustomerName": "Wingtip Toys (Huntingburg, IN)"
                                },
                                {
                                    "CustomerID": "552",
                                    "CustomerName": "Wingtip Toys (Shay, PA)"
                                },
                                {
                                    "CustomerID": "553",
                                    "CustomerName": "Wingtip Toys (Helotes, TX)"
                                },
                                {
                                    "CustomerID": "554",
                                    "CustomerName": "Wingtip Toys (Hollandsburg, IN)"
                                },
                                {
                                    "CustomerID": "555",
                                    "CustomerName": "Wingtip Toys (Liberty Grove, MD)"
                                },
                                {
                                    "CustomerID": "556",
                                    "CustomerName": "Wingtip Toys (Morita, TX)"
                                },
                                {
                                    "CustomerID": "557",
                                    "CustomerName": "Wingtip Toys (New Laguna, NM)"
                                },
                                {
                                    "CustomerID": "558",
                                    "CustomerName": "Wingtip Toys (Bourneville, OH)"
                                },
                                {
                                    "CustomerID": "559",
                                    "CustomerName": "Wingtip Toys (Mendoza, TX)"
                                },
                                {
                                    "CustomerID": "560",
                                    "CustomerName": "Wingtip Toys (Palmas del Mar, PR)"
                                },
                                {
                                    "CustomerID": "561",
                                    "CustomerName": "Wingtip Toys (Marion Junction, AL)"
                                },
                                {
                                    "CustomerID": "562",
                                    "CustomerName": "Wingtip Toys (Ware Shoals, SC)"
                                },
                                {
                                    "CustomerID": "563",
                                    "CustomerName": "Wingtip Toys (Lostine, OR)"
                                },
                                {
                                    "CustomerID": "564",
                                    "CustomerName": "Wingtip Toys (Tilleda, WI)"
                                },
                                {
                                    "CustomerID": "565",
                                    "CustomerName": "Wingtip Toys (Wapiti, WY)"
                                },
                                {
                                    "CustomerID": "566",
                                    "CustomerName": "Wingtip Toys (Amado, AZ)"
                                },
                                {
                                    "CustomerID": "567",
                                    "CustomerName": "Wingtip Toys (Jeromesville, OH)"
                                },
                                {
                                    "CustomerID": "568",
                                    "CustomerName": "Wingtip Toys (Ovilla, TX)"
                                },
                                {
                                    "CustomerID": "569",
                                    "CustomerName": "Wingtip Toys (West Frostproof, FL)"
                                },
                                {
                                    "CustomerID": "570",
                                    "CustomerName": "Wingtip Toys (Flomaton, AL)"
                                },
                                {
                                    "CustomerID": "571",
                                    "CustomerName": "Wingtip Toys (Pawlet, VT)"
                                },
                                {
                                    "CustomerID": "572",
                                    "CustomerName": "Wingtip Toys (Trout Run, PA)"
                                },
                                {
                                    "CustomerID": "573",
                                    "CustomerName": "Wingtip Toys (Marin City, CA)"
                                },
                                {
                                    "CustomerID": "574",
                                    "CustomerName": "Wingtip Toys (Molalla, OR)"
                                },
                                {
                                    "CustomerID": "575",
                                    "CustomerName": "Wingtip Toys (Trumansburg, NY)"
                                },
                                {
                                    "CustomerID": "576",
                                    "CustomerName": "Wingtip Toys (Goodings Grove, IL)"
                                },
                                {
                                    "CustomerID": "577",
                                    "CustomerName": "Wingtip Toys (Cherryplain, NY)"
                                },
                                {
                                    "CustomerID": "578",
                                    "CustomerName": "Wingtip Toys (Bell Acres, PA)"
                                },
                                {
                                    "CustomerID": "579",
                                    "CustomerName": "Wingtip Toys (Connoquenessing, PA)"
                                },
                                {
                                    "CustomerID": "580",
                                    "CustomerName": "Wingtip Toys (Sarversville, PA)"
                                },
                                {
                                    "CustomerID": "581",
                                    "CustomerName": "Wingtip Toys (Munich, ND)"
                                },
                                {
                                    "CustomerID": "582",
                                    "CustomerName": "Wingtip Toys (Montoya, NM)"
                                },
                                {
                                    "CustomerID": "583",
                                    "CustomerName": "Wingtip Toys (Knights Landing, CA)"
                                },
                                {
                                    "CustomerID": "584",
                                    "CustomerName": "Wingtip Toys (Cache, OK)"
                                },
                                {
                                    "CustomerID": "585",
                                    "CustomerName": "Wingtip Toys (Towaco, NJ)"
                                },
                                {
                                    "CustomerID": "586",
                                    "CustomerName": "Wingtip Toys (Lynne, FL)"
                                },
                                {
                                    "CustomerID": "587",
                                    "CustomerName": "Wingtip Toys (Plata, TX)"
                                },
                                {
                                    "CustomerID": "588",
                                    "CustomerName": "Wingtip Toys (Oak Point, TX)"
                                },
                                {
                                    "CustomerID": "589",
                                    "CustomerName": "Wingtip Toys (Alcester, SD)"
                                },
                                {
                                    "CustomerID": "590",
                                    "CustomerName": "Wingtip Toys (McAdenville, NC)"
                                },
                                {
                                    "CustomerID": "591",
                                    "CustomerName": "Wingtip Toys (Idaho City, ID)"
                                },
                                {
                                    "CustomerID": "592",
                                    "CustomerName": "Wingtip Toys (Dunkerton, IA)"
                                },
                                {
                                    "CustomerID": "593",
                                    "CustomerName": "Wingtip Toys (Cuyamungue, NM)"
                                },
                                {
                                    "CustomerID": "594",
                                    "CustomerName": "Wingtip Toys (Marfa, TX)"
                                },
                                {
                                    "CustomerID": "595",
                                    "CustomerName": "Wingtip Toys (Accomac, VA)"
                                },
                                {
                                    "CustomerID": "596",
                                    "CustomerName": "Wingtip Toys (Cos Cob, CT)"
                                },
                                {
                                    "CustomerID": "597",
                                    "CustomerName": "Wingtip Toys (Haycock, AK)"
                                },
                                {
                                    "CustomerID": "598",
                                    "CustomerName": "Wingtip Toys (Kapa'a, HI)"
                                },
                                {
                                    "CustomerID": "599",
                                    "CustomerName": "Wingtip Toys (Dickworsham, TX)"
                                },
                                {
                                    "CustomerID": "600",
                                    "CustomerName": "Wingtip Toys (Caro, MI)"
                                },
                                {
                                    "CustomerID": "601",
                                    "CustomerName": "Wingtip Toys (Ruthsburg, MD)"
                                },
                                {
                                    "CustomerID": "803",
                                    "CustomerName": "Bala Dixit"
                                },
                                {
                                    "CustomerID": "805",
                                    "CustomerName": "Ratan Poddar"
                                },
                                {
                                    "CustomerID": "806",
                                    "CustomerName": "Shi Tu"
                                },
                                {
                                    "CustomerID": "811",
                                    "CustomerName": "Surendra Sahu"
                                },
                                {
                                    "CustomerID": "814",
                                    "CustomerName": "Johanna Hoornstra"
                                },
                                {
                                    "CustomerID": "815",
                                    "CustomerName": "Libuse Valentova"
                                },
                                {
                                    "CustomerID": "818",
                                    "CustomerName": "Liia Orav"
                                },
                                {
                                    "CustomerID": "826",
                                    "CustomerName": "Leila Carvalho"
                                },
                                {
                                    "CustomerID": "830",
                                    "CustomerName": "Jana Fialova"
                                },
                                {
                                    "CustomerID": "833",
                                    "CustomerName": "Devraj Rao"
                                },
                                {
                                    "CustomerID": "836",
                                    "CustomerName": "Abel Spirlea"
                                },
                                {
                                    "CustomerID": "839",
                                    "CustomerName": "Juan Morse"
                                },
                                {
                                    "CustomerID": "840",
                                    "CustomerName": "Rodrigo Figueiredo"
                                },
                                {
                                    "CustomerID": "854",
                                    "CustomerName": "Daakshaayaani Kommineni"
                                },
                                {
                                    "CustomerID": "858",
                                    "CustomerName": "Bimla PrabhupÄda"
                                },
                                {
                                    "CustomerID": "868",
                                    "CustomerName": "Laura Sykorova"
                                },
                                {
                                    "CustomerID": "869",
                                    "CustomerName": "Abel Tatarescu"
                                },
                                {
                                    "CustomerID": "874",
                                    "CustomerName": "Daniel Martensson"
                                },
                                {
                                    "CustomerID": "875",
                                    "CustomerName": "Philip Walker"
                                },
                                {
                                    "CustomerID": "876",
                                    "CustomerName": "Marie LeBatelier"
                                },
                                {
                                    "CustomerID": "893",
                                    "CustomerName": "Leyla Asef zade"
                                },
                                {
                                    "CustomerID": "908",
                                    "CustomerName": "Sumati Bhat"
                                },
                                {
                                    "CustomerID": "917",
                                    "CustomerName": "Pari Hosseini"
                                },
                                {
                                    "CustomerID": "918",
                                    "CustomerName": "Isidora Morales"
                                },
                                {
                                    "CustomerID": "923",
                                    "CustomerName": "Tai Bach"
                                },
                                {
                                    "CustomerID": "924",
                                    "CustomerName": "Eva Schulteisz"
                                },
                                {
                                    "CustomerID": "927",
                                    "CustomerName": "Matyas Sedlar"
                                },
                                {
                                    "CustomerID": "934",
                                    "CustomerName": "Ivan Sepulveda"
                                },
                                {
                                    "CustomerID": "936",
                                    "CustomerName": "Ludmila Smidova"
                                },
                                {
                                    "CustomerID": "938",
                                    "CustomerName": "Anna Gyarmathi"
                                },
                                {
                                    "CustomerID": "941",
                                    "CustomerName": "Bishwa Chatterjee"
                                },
                                {
                                    "CustomerID": "943",
                                    "CustomerName": "Drazenka Jelic"
                                },
                                {
                                    "CustomerID": "944",
                                    "CustomerName": "Ida Celma"
                                },
                                {
                                    "CustomerID": "952",
                                    "CustomerName": "Chuan Wattanasin"
                                },
                                {
                                    "CustomerID": "955",
                                    "CustomerName": "Raghu Sandhu"
                                },
                                {
                                    "CustomerID": "957",
                                    "CustomerName": "Hee-Young Suh"
                                },
                                {
                                    "CustomerID": "959",
                                    "CustomerName": "Dhaatri Chavva"
                                },
                                {
                                    "CustomerID": "970",
                                    "CustomerName": "Isidora Urias"
                                },
                                {
                                    "CustomerID": "973",
                                    "CustomerName": "Kumar Kamei"
                                },
                                {
                                    "CustomerID": "975",
                                    "CustomerName": "Prabodh Nair"
                                },
                                {
                                    "CustomerID": "977",
                                    "CustomerName": "Mauno Laurila"
                                },
                                {
                                    "CustomerID": "980",
                                    "CustomerName": "Om Yadav"
                                },
                                {
                                    "CustomerID": "986",
                                    "CustomerName": "Neil Farrelly"
                                },
                                {
                                    "CustomerID": "992",
                                    "CustomerName": "Amarakumaar Gadiyaram"
                                },
                                {
                                    "CustomerID": "995",
                                    "CustomerName": "Kumar Naicker"
                                },
                                {
                                    "CustomerID": "1000",
                                    "CustomerName": "Krishnam Allu"
                                },
                                {
                                    "CustomerID": "1005",
                                    "CustomerName": "Bhadram Kamasamudram"
                                },
                                {
                                    "CustomerID": "1006",
                                    "CustomerName": "Taj Syme"
                                },
                                {
                                    "CustomerID": "1008",
                                    "CustomerName": "Vedrana Kovacevic"
                                },
                                {
                                    "CustomerID": "1014",
                                    "CustomerName": "Narendra Tickoo"
                                },
                                {
                                    "CustomerID": "1019",
                                    "CustomerName": "Dhanishta Pullela"
                                },
                                {
                                    "CustomerID": "1029",
                                    "CustomerName": "Veronika Necesana"
                                },
                                {
                                    "CustomerID": "1032",
                                    "CustomerName": "Som Mukherjee"
                                },
                                {
                                    "CustomerID": "1034",
                                    "CustomerName": "Aishwarya Dantuluri"
                                },
                                {
                                    "CustomerID": "1040",
                                    "CustomerName": "Damodar Shenoy"
                                },
                                {
                                    "CustomerID": "1042",
                                    "CustomerName": "Nguyen Banh"
                                },
                                {
                                    "CustomerID": "1044",
                                    "CustomerName": "Hanita Nookala"
                                }
                            ]
                        },
                        "text/html": [
                            "<table>",
                            "<tr><th>CustomerID</th><th>CustomerName</th></tr>",
                            "<tr><td>1</td><td>Tailspin Toys (Head Office)</td></tr>",
                            "<tr><td>2</td><td>Tailspin Toys (Sylvanite, MT)</td></tr>",
                            "<tr><td>3</td><td>Tailspin Toys (Peeples Valley, AZ)</td></tr>",
                            "<tr><td>4</td><td>Tailspin Toys (Medicine Lodge, KS)</td></tr>",
                            "<tr><td>5</td><td>Tailspin Toys (Gasport, NY)</td></tr>",
                            "<tr><td>6</td><td>Tailspin Toys (Jessie, ND)</td></tr>",
                            "<tr><td>7</td><td>Tailspin Toys (Frankewing, TN)</td></tr>",
                            "<tr><td>8</td><td>Tailspin Toys (Bow Mar, CO)</td></tr>",
                            "<tr><td>9</td><td>Tailspin Toys (Netcong, NJ)</td></tr>",
                            "<tr><td>10</td><td>Tailspin Toys (Wimbledon, ND)</td></tr>",
                            "<tr><td>11</td><td>Tailspin Toys (Devault, PA)</td></tr>",
                            "<tr><td>12</td><td>Tailspin Toys (Biscay, MN)</td></tr>",
                            "<tr><td>13</td><td>Tailspin Toys (Stonefort, IL)</td></tr>",
                            "<tr><td>14</td><td>Tailspin Toys (Long Meadow, MD)</td></tr>",
                            "<tr><td>15</td><td>Tailspin Toys (Batson, TX)</td></tr>",
                            "<tr><td>16</td><td>Tailspin Toys (Coney Island, MO)</td></tr>",
                            "<tr><td>17</td><td>Tailspin Toys (East Fultonham, OH)</td></tr>",
                            "<tr><td>18</td><td>Tailspin Toys (Goffstown, NH)</td></tr>",
                            "<tr><td>19</td><td>Tailspin Toys (Lemeta, AK)</td></tr>",
                            "<tr><td>20</td><td>Tailspin Toys (College Place, WA)</td></tr>",
                            "<tr><td>21</td><td>Tailspin Toys (Tresckow, PA)</td></tr>",
                            "<tr><td>22</td><td>Tailspin Toys (Ward Ridge, FL)</td></tr>",
                            "<tr><td>23</td><td>Tailspin Toys (Ikatan, AK)</td></tr>",
                            "<tr><td>24</td><td>Tailspin Toys (Dundarrach, NC)</td></tr>",
                            "<tr><td>25</td><td>Tailspin Toys (Avenal, CA)</td></tr>",
                            "<tr><td>26</td><td>Tailspin Toys (Hedrick, IA)</td></tr>",
                            "<tr><td>27</td><td>Tailspin Toys (Bowlus, MN)</td></tr>",
                            "<tr><td>28</td><td>Tailspin Toys (North Ridge, NY)</td></tr>",
                            "<tr><td>29</td><td>Tailspin Toys (Eulaton, AL)</td></tr>",
                            "<tr><td>30</td><td>Tailspin Toys (Koontzville, WA)</td></tr>",
                            "<tr><td>31</td><td>Tailspin Toys (Lake Stevens, WA)</td></tr>",
                            "<tr><td>32</td><td>Tailspin Toys (Maypearl, TX)</td></tr>",
                            "<tr><td>33</td><td>Tailspin Toys (Boyden Arbor, SC)</td></tr>",
                            "<tr><td>34</td><td>Tailspin Toys (Dallardsville, TX)</td></tr>",
                            "<tr><td>35</td><td>Tailspin Toys (Slanesville, WV)</td></tr>",
                            "<tr><td>36</td><td>Tailspin Toys (Ekron, KY)</td></tr>",
                            "<tr><td>37</td><td>Tailspin Toys (Kerby, OR)</td></tr>",
                            "<tr><td>38</td><td>Tailspin Toys (Airport Drive, MO)</td></tr>",
                            "<tr><td>39</td><td>Tailspin Toys (Diablock, KY)</td></tr>",
                            "<tr><td>40</td><td>Tailspin Toys (Impact, TX)</td></tr>",
                            "<tr><td>41</td><td>Tailspin Toys (Olivette, MO)</td></tr>",
                            "<tr><td>42</td><td>Tailspin Toys (Arietta, NY)</td></tr>",
                            "<tr><td>43</td><td>Tailspin Toys (Upper Preston, WA)</td></tr>",
                            "<tr><td>44</td><td>Tailspin Toys (Amanda Park, WA)</td></tr>",
                            "<tr><td>45</td><td>Tailspin Toys (Severna Park, MD)</td></tr>",
                            "<tr><td>46</td><td>Tailspin Toys (Jemison, AL)</td></tr>",
                            "<tr><td>47</td><td>Tailspin Toys (Lake Hughes, CA)</td></tr>",
                            "<tr><td>48</td><td>Tailspin Toys (Trentwood, WA)</td></tr>",
                            "<tr><td>49</td><td>Tailspin Toys (Muir, MI)</td></tr>",
                            "<tr><td>50</td><td>Tailspin Toys (Hambleton, WV)</td></tr>",
                            "<tr><td>51</td><td>Tailspin Toys (Imlaystown, NJ)</td></tr>",
                            "<tr><td>52</td><td>Tailspin Toys (Idria, CA)</td></tr>",
                            "<tr><td>53</td><td>Tailspin Toys (Nanafalia, AL)</td></tr>",
                            "<tr><td>54</td><td>Tailspin Toys (Railroad, PA)</td></tr>",
                            "<tr><td>55</td><td>Tailspin Toys (Gum Branch, GA)</td></tr>",
                            "<tr><td>56</td><td>Tailspin Toys (Royal City, WA)</td></tr>",
                            "<tr><td>57</td><td>Tailspin Toys (Lakemore, OH)</td></tr>",
                            "<tr><td>58</td><td>Tailspin Toys (Mappsburg, VA)</td></tr>",
                            "<tr><td>59</td><td>Tailspin Toys (Edgartown, MA)</td></tr>",
                            "<tr><td>60</td><td>Tailspin Toys (East Dailey, WV)</td></tr>",
                            "<tr><td>61</td><td>Tailspin Toys (Fairfield Glade, TN)</td></tr>",
                            "<tr><td>62</td><td>Tailspin Toys (Great Neck Estates, NY)</td></tr>",
                            "<tr><td>63</td><td>Tailspin Toys (Stallion Springs, CA)</td></tr>",
                            "<tr><td>64</td><td>Tailspin Toys (Hodgdon, ME)</td></tr>",
                            "<tr><td>65</td><td>Tailspin Toys (North Cowden, TX)</td></tr>",
                            "<tr><td>66</td><td>Tailspin Toys (Madaket, MA)</td></tr>",
                            "<tr><td>67</td><td>Tailspin Toys (Sentinel Butte, ND)</td></tr>",
                            "<tr><td>68</td><td>Tailspin Toys (Gardere, LA)</td></tr>",
                            "<tr><td>69</td><td>Tailspin Toys (Lytle Creek, CA)</td></tr>",
                            "<tr><td>70</td><td>Tailspin Toys (New Baden, IL)</td></tr>",
                            "<tr><td>71</td><td>Tailspin Toys (Good Hart, MI)</td></tr>",
                            "<tr><td>72</td><td>Tailspin Toys (Cortaro, AZ)</td></tr>",
                            "<tr><td>73</td><td>Tailspin Toys (Cokato, MN)</td></tr>",
                            "<tr><td>74</td><td>Tailspin Toys (Indios, PR)</td></tr>",
                            "<tr><td>75</td><td>Tailspin Toys (Windsor Locks, CT)</td></tr>",
                            "<tr><td>76</td><td>Tailspin Toys (Yewed, OK)</td></tr>",
                            "<tr><td>77</td><td>Tailspin Toys (Hahira, GA)</td></tr>",
                            "<tr><td>78</td><td>Tailspin Toys (Sekiu, WA)</td></tr>",
                            "<tr><td>79</td><td>Tailspin Toys (Page City, KS)</td></tr>",
                            "<tr><td>80</td><td>Tailspin Toys (Valdese, NC)</td></tr>",
                            "<tr><td>81</td><td>Tailspin Toys (Big Moose, NY)</td></tr>",
                            "<tr><td>82</td><td>Tailspin Toys (La Cueva, NM)</td></tr>",
                            "<tr><td>83</td><td>Tailspin Toys (Absecon, NJ)</td></tr>",
                            "<tr><td>84</td><td>Tailspin Toys (Aceitunas, PR)</td></tr>",
                            "<tr><td>85</td><td>Tailspin Toys (Andrix, CO)</td></tr>",
                            "<tr><td>86</td><td>Tailspin Toys (New Lexington, OH)</td></tr>",
                            "<tr><td>87</td><td>Tailspin Toys (Sauquoit, NY)</td></tr>",
                            "<tr><td>88</td><td>Tailspin Toys (Dracut, MA)</td></tr>",
                            "<tr><td>89</td><td>Tailspin Toys (Victory Gardens, NJ)</td></tr>",
                            "<tr><td>90</td><td>Tailspin Toys (Tolna, ND)</td></tr>",
                            "<tr><td>91</td><td>Tailspin Toys (Alstead, NH)</td></tr>",
                            "<tr><td>92</td><td>Tailspin Toys (Sans Souci, SC)</td></tr>",
                            "<tr><td>93</td><td>Tailspin Toys (Clewiston, FL)</td></tr>",
                            "<tr><td>94</td><td>Tailspin Toys (Cheyenne Wells, CO)</td></tr>",
                            "<tr><td>95</td><td>Tailspin Toys (Lavon, TX)</td></tr>",
                            "<tr><td>96</td><td>Tailspin Toys (South La Paloma, TX)</td></tr>",
                            "<tr><td>97</td><td>Tailspin Toys (Manchester Center, VT)</td></tr>",
                            "<tr><td>98</td><td>Tailspin Toys (El Centro, CA)</td></tr>",
                            "<tr><td>99</td><td>Tailspin Toys (Guin, AL)</td></tr>",
                            "<tr><td>100</td><td>Tailspin Toys (Tunnelhill, PA)</td></tr>",
                            "<tr><td>101</td><td>Tailspin Toys (Cundiyo, NM)</td></tr>",
                            "<tr><td>102</td><td>Tailspin Toys (Fieldbrook, CA)</td></tr>",
                            "<tr><td>103</td><td>Tailspin Toys (Kalvesta, KS)</td></tr>",
                            "<tr><td>104</td><td>Tailspin Toys (Wallagrass, ME)</td></tr>",
                            "<tr><td>105</td><td>Tailspin Toys (Tomnolen, MS)</td></tr>",
                            "<tr><td>106</td><td>Tailspin Toys (Tumacacori, AZ)</td></tr>",
                            "<tr><td>107</td><td>Tailspin Toys (Glen Avon, CA)</td></tr>",
                            "<tr><td>108</td><td>Tailspin Toys (Bernie, MO)</td></tr>",
                            "<tr><td>109</td><td>Tailspin Toys (South Laguna, CA)</td></tr>",
                            "<tr><td>110</td><td>Tailspin Toys (North Crows Nest, IN)</td></tr>",
                            "<tr><td>111</td><td>Tailspin Toys (Oriole Beach, FL)</td></tr>",
                            "<tr><td>112</td><td>Tailspin Toys (Sallyards, KS)</td></tr>",
                            "<tr><td>113</td><td>Tailspin Toys (Dahlia, NM)</td></tr>",
                            "<tr><td>114</td><td>Tailspin Toys (Cherry Grove Beach, SC)</td></tr>",
                            "<tr><td>115</td><td>Tailspin Toys (Bethania, NC)</td></tr>",
                            "<tr><td>116</td><td>Tailspin Toys (Rafael Capó, PR)</td></tr>",
                            "<tr><td>117</td><td>Tailspin Toys (Scofield, UT)</td></tr>",
                            "<tr><td>118</td><td>Tailspin Toys (Vassalboro, ME)</td></tr>",
                            "<tr><td>119</td><td>Tailspin Toys (Statenville, GA)</td></tr>",
                            "<tr><td>120</td><td>Tailspin Toys (Bratenahl, OH)</td></tr>",
                            "<tr><td>121</td><td>Tailspin Toys (Elrosa, MN)</td></tr>",
                            "<tr><td>122</td><td>Tailspin Toys (McClave, CO)</td></tr>",
                            "<tr><td>123</td><td>Tailspin Toys (Roe Park, NY)</td></tr>",
                            "<tr><td>124</td><td>Tailspin Toys (Hanoverton, OH)</td></tr>",
                            "<tr><td>125</td><td>Tailspin Toys (Annamoriah, WV)</td></tr>",
                            "<tr><td>126</td><td>Tailspin Toys (Francis Mills, NJ)</td></tr>",
                            "<tr><td>127</td><td>Tailspin Toys (Point Roberts, WA)</td></tr>",
                            "<tr><td>128</td><td>Tailspin Toys (East Portal, CO)</td></tr>",
                            "<tr><td>129</td><td>Tailspin Toys (Mineral Hills, MI)</td></tr>",
                            "<tr><td>130</td><td>Tailspin Toys (Maple Shade, NJ)</td></tr>",
                            "<tr><td>131</td><td>Tailspin Toys (Kwethluk, AK)</td></tr>",
                            "<tr><td>132</td><td>Tailspin Toys (Minidoka, ID)</td></tr>",
                            "<tr><td>133</td><td>Tailspin Toys (Lake Erie Beach, NY)</td></tr>",
                            "<tr><td>134</td><td>Tailspin Toys (Tavares, FL)</td></tr>",
                            "<tr><td>135</td><td>Tailspin Toys (Terre du Lac, MO)</td></tr>",
                            "<tr><td>136</td><td>Tailspin Toys (Mount Montgomery, NV)</td></tr>",
                            "<tr><td>137</td><td>Tailspin Toys (Carbonville, UT)</td></tr>",
                            "<tr><td>138</td><td>Tailspin Toys (Navassa, NC)</td></tr>",
                            "<tr><td>139</td><td>Tailspin Toys (Hardeeville, SC)</td></tr>",
                            "<tr><td>140</td><td>Tailspin Toys (Furley, KS)</td></tr>",
                            "<tr><td>141</td><td>Tailspin Toys (Arrow Rock, MO)</td></tr>",
                            "<tr><td>142</td><td>Tailspin Toys (King Cove, AK)</td></tr>",
                            "<tr><td>143</td><td>Tailspin Toys (Ashtabula, OH)</td></tr>",
                            "<tr><td>144</td><td>Tailspin Toys (Larose, LA)</td></tr>",
                            "<tr><td>145</td><td>Tailspin Toys (Manahawkin, NJ)</td></tr>",
                            "<tr><td>146</td><td>Tailspin Toys (Belgreen, AL)</td></tr>",
                            "<tr><td>147</td><td>Tailspin Toys (Fishtail, MT)</td></tr>",
                            "<tr><td>148</td><td>Tailspin Toys (Baraboo, WI)</td></tr>",
                            "<tr><td>149</td><td>Tailspin Toys (Inguadona, MN)</td></tr>",
                            "<tr><td>150</td><td>Tailspin Toys (Corfu, NY)</td></tr>",
                            "<tr><td>151</td><td>Tailspin Toys (Antares, AZ)</td></tr>",
                            "<tr><td>152</td><td>Tailspin Toys (Sun River, MT)</td></tr>",
                            "<tr><td>153</td><td>Tailspin Toys (Marcell, MN)</td></tr>",
                            "<tr><td>154</td><td>Tailspin Toys (Eden Valley, MN)</td></tr>",
                            "<tr><td>155</td><td>Tailspin Toys (Arbor Vitae, WI)</td></tr>",
                            "<tr><td>156</td><td>Tailspin Toys (Hollywood Park, TX)</td></tr>",
                            "<tr><td>157</td><td>Tailspin Toys (Saks, AL)</td></tr>",
                            "<tr><td>158</td><td>Tailspin Toys (Donner, LA)</td></tr>",
                            "<tr><td>159</td><td>Tailspin Toys (Saint Louis Park, MN)</td></tr>",
                            "<tr><td>160</td><td>Tailspin Toys (Crary, ND)</td></tr>",
                            "<tr><td>161</td><td>Tailspin Toys (Aspen Park, CO)</td></tr>",
                            "<tr><td>162</td><td>Tailspin Toys (Glen Park, NY)</td></tr>",
                            "<tr><td>163</td><td>Tailspin Toys (Panaca, NV)</td></tr>",
                            "<tr><td>164</td><td>Tailspin Toys (Rothsville, PA)</td></tr>",
                            "<tr><td>165</td><td>Tailspin Toys (Topstone, CT)</td></tr>",
                            "<tr><td>166</td><td>Tailspin Toys (McCamey, TX)</td></tr>",
                            "<tr><td>167</td><td>Tailspin Toys (Rockwall, TX)</td></tr>",
                            "<tr><td>168</td><td>Tailspin Toys (Seagraves, TX)</td></tr>",
                            "<tr><td>169</td><td>Tailspin Toys (Sinclair, WY)</td></tr>",
                            "<tr><td>170</td><td>Tailspin Toys (Eastchester, NY)</td></tr>",
                            "<tr><td>171</td><td>Tailspin Toys (Ortley Beach, NJ)</td></tr>",
                            "<tr><td>172</td><td>Tailspin Toys (Madrone, NM)</td></tr>",
                            "<tr><td>173</td><td>Tailspin Toys (Wappingers Falls, NY)</td></tr>",
                            "<tr><td>174</td><td>Tailspin Toys (Astor Park, FL)</td></tr>",
                            "<tr><td>175</td><td>Tailspin Toys (San Acacia, NM)</td></tr>",
                            "<tr><td>176</td><td>Tailspin Toys (Malott, WA)</td></tr>",
                            "<tr><td>177</td><td>Tailspin Toys (Orrtanna, PA)</td></tr>",
                            "<tr><td>178</td><td>Tailspin Toys (Armstrong Creek, WI)</td></tr>",
                            "<tr><td>179</td><td>Tailspin Toys (Hiteman, IA)</td></tr>",
                            "<tr><td>180</td><td>Tailspin Toys (Caselton, NV)</td></tr>",
                            "<tr><td>181</td><td>Tailspin Toys (Heilwood, PA)</td></tr>",
                            "<tr><td>182</td><td>Tailspin Toys (Hayes Center, NE)</td></tr>",
                            "<tr><td>183</td><td>Tailspin Toys (Tierra Verde, FL)</td></tr>",
                            "<tr><td>184</td><td>Tailspin Toys (South Euclid, OH)</td></tr>",
                            "<tr><td>185</td><td>Tailspin Toys (Vidrine, LA)</td></tr>",
                            "<tr><td>186</td><td>Tailspin Toys (Placer, OR)</td></tr>",
                            "<tr><td>187</td><td>Tailspin Toys (Brown City, MI)</td></tr>",
                            "<tr><td>188</td><td>Tailspin Toys (Premont, TX)</td></tr>",
                            "<tr><td>189</td><td>Tailspin Toys (Wilkes-Barre, PA)</td></tr>",
                            "<tr><td>190</td><td>Tailspin Toys (Teutopolis, IL)</td></tr>",
                            "<tr><td>191</td><td>Tailspin Toys (Orchard Hill, GA)</td></tr>",
                            "<tr><td>192</td><td>Tailspin Toys (Optimo, NM)</td></tr>",
                            "<tr><td>193</td><td>Tailspin Toys (Knifley, KY)</td></tr>",
                            "<tr><td>194</td><td>Tailspin Toys (Naples Park, FL)</td></tr>",
                            "<tr><td>195</td><td>Tailspin Toys (Lesslie, SC)</td></tr>",
                            "<tr><td>196</td><td>Tailspin Toys (Howells, NE)</td></tr>",
                            "<tr><td>197</td><td>Tailspin Toys (Magalia, CA)</td></tr>",
                            "<tr><td>198</td><td>Tailspin Toys (Buell, MO)</td></tr>",
                            "<tr><td>199</td><td>Tailspin Toys (Antonito, CO)</td></tr>",
                            "<tr><td>200</td><td>Tailspin Toys (Tooele, UT)</td></tr>",
                            "<tr><td>201</td><td>Tailspin Toys (Skyway, WA)</td></tr>",
                            "<tr><td>401</td><td>Wingtip Toys (Head Office)</td></tr>",
                            "<tr><td>402</td><td>Wingtip Toys (Black Lick, PA)</td></tr>",
                            "<tr><td>403</td><td>Wingtip Toys (Queen Valley, AZ)</td></tr>",
                            "<tr><td>404</td><td>Wingtip Toys (Penns Creek, PA)</td></tr>",
                            "<tr><td>405</td><td>Wingtip Toys (Bourbonnais, IL)</td></tr>",
                            "<tr><td>406</td><td>Wingtip Toys (Tuscaloosa, AL)</td></tr>",
                            "<tr><td>407</td><td>Wingtip Toys (Mooringsport, LA)</td></tr>",
                            "<tr><td>408</td><td>Wingtip Toys (Rockwall, TX)</td></tr>",
                            "<tr><td>409</td><td>Wingtip Toys (Orick, CA)</td></tr>",
                            "<tr><td>410</td><td>Wingtip Toys (Bernstein, TX)</td></tr>",
                            "<tr><td>411</td><td>Wingtip Toys (Edmund, WI)</td></tr>",
                            "<tr><td>412</td><td>Wingtip Toys (Bozeman Hot Springs, MT)</td></tr>",
                            "<tr><td>413</td><td>Wingtip Toys (Truscott, TX)</td></tr>",
                            "<tr><td>414</td><td>Wingtip Toys (Rose Tree, PA)</td></tr>",
                            "<tr><td>415</td><td>Wingtip Toys (Leathersville, GA)</td></tr>",
                            "<tr><td>416</td><td>Wingtip Toys (Necedah, WI)</td></tr>",
                            "<tr><td>417</td><td>Wingtip Toys (Chetek, WI)</td></tr>",
                            "<tr><td>418</td><td>Wingtip Toys (Yaak, MT)</td></tr>",
                            "<tr><td>419</td><td>Wingtip Toys (Compass Lake, FL)</td></tr>",
                            "<tr><td>420</td><td>Wingtip Toys (Herlong, CA)</td></tr>",
                            "<tr><td>421</td><td>Wingtip Toys (Highland Home, AL)</td></tr>",
                            "<tr><td>422</td><td>Wingtip Toys (Naches, WA)</td></tr>",
                            "<tr><td>423</td><td>Wingtip Toys (Baldwin City, KS)</td></tr>",
                            "<tr><td>424</td><td>Wingtip Toys (Heartwell, NE)</td></tr>",
                            "<tr><td>425</td><td>Wingtip Toys (Bethel Acres, OK)</td></tr>",
                            "<tr><td>426</td><td>Wingtip Toys (Willow Valley, AZ)</td></tr>",
                            "<tr><td>427</td><td>Wingtip Toys (Athol Springs, NY)</td></tr>",
                            "<tr><td>428</td><td>Wingtip Toys (Paw Paw Lake, MI)</td></tr>",
                            "<tr><td>429</td><td>Wingtip Toys (Lilbourn, MO)</td></tr>",
                            "<tr><td>430</td><td>Wingtip Toys (Lost River, ID)</td></tr>",
                            "<tr><td>431</td><td>Wingtip Toys (Rosa Sánchez, PR)</td></tr>",
                            "<tr><td>432</td><td>Wingtip Toys (Vamo, FL)</td></tr>",
                            "<tr><td>433</td><td>Wingtip Toys (Balko, OK)</td></tr>",
                            "<tr><td>434</td><td>Wingtip Toys (Lime Lake, NY)</td></tr>",
                            "<tr><td>435</td><td>Wingtip Toys (Teutopolis, IL)</td></tr>",
                            "<tr><td>436</td><td>Wingtip Toys (Gargatha, VA)</td></tr>",
                            "<tr><td>437</td><td>Wingtip Toys (Cadogan, PA)</td></tr>",
                            "<tr><td>438</td><td>Wingtip Toys (Lucasville, OH)</td></tr>",
                            "<tr><td>439</td><td>Wingtip Toys (Cylon, WI)</td></tr>",
                            "<tr><td>440</td><td>Wingtip Toys (Asher, OK)</td></tr>",
                            "<tr><td>441</td><td>Wingtip Toys (Keosauqua, IA)</td></tr>",
                            "<tr><td>442</td><td>Wingtip Toys (Homer City, PA)</td></tr>",
                            "<tr><td>443</td><td>Wingtip Toys (Berville, MI)</td></tr>",
                            "<tr><td>444</td><td>Wingtip Toys (Tea, SD)</td></tr>",
                            "<tr><td>445</td><td>Wingtip Toys (Dacono, CO)</td></tr>",
                            "<tr><td>446</td><td>Wingtip Toys (Saint Landry, LA)</td></tr>",
                            "<tr><td>447</td><td>Wingtip Toys (Coin, IA)</td></tr>",
                            "<tr><td>448</td><td>Wingtip Toys (Salt Wells, NV)</td></tr>",
                            "<tr><td>449</td><td>Wingtip Toys (Delray, WV)</td></tr>",
                            "<tr><td>450</td><td>Wingtip Toys (Mount Summit, IN)</td></tr>",
                            "<tr><td>451</td><td>Wingtip Toys (Smoot, WY)</td></tr>",
                            "<tr><td>452</td><td>Wingtip Toys (Lake Davis, CA)</td></tr>",
                            "<tr><td>453</td><td>Wingtip Toys (Stanardsville, VA)</td></tr>",
                            "<tr><td>454</td><td>Wingtip Toys (Corcovado, PR)</td></tr>",
                            "<tr><td>455</td><td>Wingtip Toys (Taft Heights, CA)</td></tr>",
                            "<tr><td>456</td><td>Wingtip Toys (West Hempstead, NY)</td></tr>",
                            "<tr><td>457</td><td>Wingtip Toys (Portales, NM)</td></tr>",
                            "<tr><td>458</td><td>Wingtip Toys (Coker, AL)</td></tr>",
                            "<tr><td>459</td><td>Wingtip Toys (Haydenville, OH)</td></tr>",
                            "<tr><td>460</td><td>Wingtip Toys (Mayhill, NM)</td></tr>",
                            "<tr><td>461</td><td>Wingtip Toys (Vair, TX)</td></tr>",
                            "<tr><td>462</td><td>Wingtip Toys (Crossroads, NM)</td></tr>",
                            "<tr><td>463</td><td>Wingtip Toys (Cowlington, OK)</td></tr>",
                            "<tr><td>464</td><td>Wingtip Toys (Glen Ullin, ND)</td></tr>",
                            "<tr><td>465</td><td>Wingtip Toys (Oologah, OK)</td></tr>",
                            "<tr><td>466</td><td>Wingtip Toys (Lytle, TX)</td></tr>",
                            "<tr><td>467</td><td>Wingtip Toys (Mahaffey, PA)</td></tr>",
                            "<tr><td>468</td><td>Wingtip Toys (Sunburg, MN)</td></tr>",
                            "<tr><td>469</td><td>Wingtip Toys (Johnetta, KY)</td></tr>",
                            "<tr><td>470</td><td>Wingtip Toys (Universal City, TX)</td></tr>",
                            "<tr><td>471</td><td>Wingtip Toys (Ridgemark, CA)</td></tr>",
                            "<tr><td>472</td><td>Wingtip Toys (San Jacinto, CA)</td></tr>",
                            "<tr><td>473</td><td>Wingtip Toys (Floriston, CA)</td></tr>",
                            "<tr><td>474</td><td>Wingtip Toys (Bokeelia, FL)</td></tr>",
                            "<tr><td>475</td><td>Wingtip Toys (Cale, AR)</td></tr>",
                            "<tr><td>476</td><td>Wingtip Toys (Karthaus, PA)</td></tr>",
                            "<tr><td>477</td><td>Wingtip Toys (Glancy, MS)</td></tr>",
                            "<tr><td>478</td><td>Wingtip Toys (Stoneboro, PA)</td></tr>",
                            "<tr><td>479</td><td>Wingtip Toys (Mier, IN)</td></tr>",
                            "<tr><td>480</td><td>Wingtip Toys (Wapinitia, OR)</td></tr>",
                            "<tr><td>481</td><td>Wingtip Toys (White Church, MO)</td></tr>",
                            "<tr><td>482</td><td>Wingtip Toys (Caton, NY)</td></tr>",
                            "<tr><td>483</td><td>Wingtip Toys (Plum Branch, SC)</td></tr>",
                            "<tr><td>484</td><td>Wingtip Toys (Mauldin, SC)</td></tr>",
                            "<tr><td>485</td><td>Wingtip Toys (Bonner Springs, KS)</td></tr>",
                            "<tr><td>486</td><td>Wingtip Toys (Lowellville, OH)</td></tr>",
                            "<tr><td>487</td><td>Wingtip Toys (Elverson, PA)</td></tr>",
                            "<tr><td>488</td><td>Wingtip Toys (Isabela, PR)</td></tr>",
                            "<tr><td>489</td><td>Wingtip Toys (Sayner, WI)</td></tr>",
                            "<tr><td>490</td><td>Wingtip Toys (Beals, ME)</td></tr>",
                            "<tr><td>491</td><td>Wingtip Toys (Morton Grove, IL)</td></tr>",
                            "<tr><td>492</td><td>Wingtip Toys (Birds, IL)</td></tr>",
                            "<tr><td>493</td><td>Wingtip Toys (Federalsburg, MD)</td></tr>",
                            "<tr><td>494</td><td>Wingtip Toys (Pikeview, CO)</td></tr>",
                            "<tr><td>495</td><td>Wingtip Toys (Boalsburg, PA)</td></tr>",
                            "<tr><td>496</td><td>Wingtip Toys (Port Hueneme, CA)</td></tr>",
                            "<tr><td>497</td><td>Wingtip Toys (Verdery, SC)</td></tr>",
                            "<tr><td>498</td><td>Wingtip Toys (Obetz, OH)</td></tr>",
                            "<tr><td>499</td><td>Wingtip Toys (East Fultonham, OH)</td></tr>",
                            "<tr><td>500</td><td>Wingtip Toys (Obion, TN)</td></tr>",
                            "<tr><td>501</td><td>Wingtip Toys (Cavendish, VT)</td></tr>",
                            "<tr><td>502</td><td>Wingtip Toys (Miesville, MN)</td></tr>",
                            "<tr><td>503</td><td>Wingtip Toys (Valhalla, NC)</td></tr>",
                            "<tr><td>504</td><td>Wingtip Toys (Cape Neddick, ME)</td></tr>",
                            "<tr><td>505</td><td>Wingtip Toys (Silver Plume, CO)</td></tr>",
                            "<tr><td>506</td><td>Wingtip Toys (North Beach Haven, NJ)</td></tr>",
                            "<tr><td>507</td><td>Wingtip Toys (Downingtown, PA)</td></tr>",
                            "<tr><td>508</td><td>Wingtip Toys (Branson West, MO)</td></tr>",
                            "<tr><td>509</td><td>Wingtip Toys (Bergen Park, CO)</td></tr>",
                            "<tr><td>510</td><td>Wingtip Toys (Grabill, IN)</td></tr>",
                            "<tr><td>511</td><td>Wingtip Toys (North Manitou, MI)</td></tr>",
                            "<tr><td>512</td><td>Wingtip Toys (Philip, SD)</td></tr>",
                            "<tr><td>513</td><td>Wingtip Toys (Straughn, IN)</td></tr>",
                            "<tr><td>514</td><td>Wingtip Toys (Gilford, NH)</td></tr>",
                            "<tr><td>515</td><td>Wingtip Toys (Del Valle, TX)</td></tr>",
                            "<tr><td>516</td><td>Wingtip Toys (Harkers Island, NC)</td></tr>",
                            "<tr><td>517</td><td>Wingtip Toys (Licking, MO)</td></tr>",
                            "<tr><td>518</td><td>Wingtip Toys (Raton, NM)</td></tr>",
                            "<tr><td>519</td><td>Wingtip Toys (Boynton, OK)</td></tr>",
                            "<tr><td>520</td><td>Wingtip Toys (Frenchburg, KY)</td></tr>",
                            "<tr><td>521</td><td>Wingtip Toys (Robertsdale, AL)</td></tr>",
                            "<tr><td>522</td><td>Wingtip Toys (Dickerson, MD)</td></tr>",
                            "<tr><td>523</td><td>Wingtip Toys (Bruceton Mills, WV)</td></tr>",
                            "<tr><td>524</td><td>Wingtip Toys (Cloquet, MN)</td></tr>",
                            "<tr><td>525</td><td>Wingtip Toys (Claycomo, MO)</td></tr>",
                            "<tr><td>526</td><td>Wingtip Toys (Beekmantown, NY)</td></tr>",
                            "<tr><td>527</td><td>Wingtip Toys (Islip Terrace, NY)</td></tr>",
                            "<tr><td>528</td><td>Wingtip Toys (Rich Creek, VA)</td></tr>",
                            "<tr><td>529</td><td>Wingtip Toys (Griswoldville, GA)</td></tr>",
                            "<tr><td>530</td><td>Wingtip Toys (East Mountain, TX)</td></tr>",
                            "<tr><td>531</td><td>Wingtip Toys (Omer, MI)</td></tr>",
                            "<tr><td>532</td><td>Wingtip Toys (Waycross, GA)</td></tr>",
                            "<tr><td>533</td><td>Wingtip Toys (Nichols Hills, OK)</td></tr>",
                            "<tr><td>534</td><td>Wingtip Toys (Plaquemine, LA)</td></tr>",
                            "<tr><td>535</td><td>Wingtip Toys (Triadelphia, WV)</td></tr>",
                            "<tr><td>536</td><td>Wingtip Toys (Ferney, SD)</td></tr>",
                            "<tr><td>537</td><td>Wingtip Toys (Akhiok, AK)</td></tr>",
                            "<tr><td>538</td><td>Wingtip Toys (Deeson, MS)</td></tr>",
                            "<tr><td>539</td><td>Wingtip Toys (Nuangola, PA)</td></tr>",
                            "<tr><td>540</td><td>Wingtip Toys (Weld, ME)</td></tr>",
                            "<tr><td>541</td><td>Wingtip Toys (Mickleton, NJ)</td></tr>",
                            "<tr><td>542</td><td>Wingtip Toys (Schererville, IN)</td></tr>",
                            "<tr><td>543</td><td>Wingtip Toys (Lexington Heights, MI)</td></tr>",
                            "<tr><td>544</td><td>Wingtip Toys (Broomtown, AL)</td></tr>",
                            "<tr><td>545</td><td>Wingtip Toys (Jamison, IA)</td></tr>",
                            "<tr><td>546</td><td>Wingtip Toys (Key Biscayne, FL)</td></tr>",
                            "<tr><td>547</td><td>Wingtip Toys (Chaseley, ND)</td></tr>",
                            "<tr><td>548</td><td>Wingtip Toys (Indian Creek, IL)</td></tr>",
                            "<tr><td>549</td><td>Wingtip Toys (Lake Ronkonkoma, NY)</td></tr>",
                            "<tr><td>550</td><td>Wingtip Toys (Morrison Bluff, AR)</td></tr>",
                            "<tr><td>551</td><td>Wingtip Toys (Huntingburg, IN)</td></tr>",
                            "<tr><td>552</td><td>Wingtip Toys (Shay, PA)</td></tr>",
                            "<tr><td>553</td><td>Wingtip Toys (Helotes, TX)</td></tr>",
                            "<tr><td>554</td><td>Wingtip Toys (Hollandsburg, IN)</td></tr>",
                            "<tr><td>555</td><td>Wingtip Toys (Liberty Grove, MD)</td></tr>",
                            "<tr><td>556</td><td>Wingtip Toys (Morita, TX)</td></tr>",
                            "<tr><td>557</td><td>Wingtip Toys (New Laguna, NM)</td></tr>",
                            "<tr><td>558</td><td>Wingtip Toys (Bourneville, OH)</td></tr>",
                            "<tr><td>559</td><td>Wingtip Toys (Mendoza, TX)</td></tr>",
                            "<tr><td>560</td><td>Wingtip Toys (Palmas del Mar, PR)</td></tr>",
                            "<tr><td>561</td><td>Wingtip Toys (Marion Junction, AL)</td></tr>",
                            "<tr><td>562</td><td>Wingtip Toys (Ware Shoals, SC)</td></tr>",
                            "<tr><td>563</td><td>Wingtip Toys (Lostine, OR)</td></tr>",
                            "<tr><td>564</td><td>Wingtip Toys (Tilleda, WI)</td></tr>",
                            "<tr><td>565</td><td>Wingtip Toys (Wapiti, WY)</td></tr>",
                            "<tr><td>566</td><td>Wingtip Toys (Amado, AZ)</td></tr>",
                            "<tr><td>567</td><td>Wingtip Toys (Jeromesville, OH)</td></tr>",
                            "<tr><td>568</td><td>Wingtip Toys (Ovilla, TX)</td></tr>",
                            "<tr><td>569</td><td>Wingtip Toys (West Frostproof, FL)</td></tr>",
                            "<tr><td>570</td><td>Wingtip Toys (Flomaton, AL)</td></tr>",
                            "<tr><td>571</td><td>Wingtip Toys (Pawlet, VT)</td></tr>",
                            "<tr><td>572</td><td>Wingtip Toys (Trout Run, PA)</td></tr>",
                            "<tr><td>573</td><td>Wingtip Toys (Marin City, CA)</td></tr>",
                            "<tr><td>574</td><td>Wingtip Toys (Molalla, OR)</td></tr>",
                            "<tr><td>575</td><td>Wingtip Toys (Trumansburg, NY)</td></tr>",
                            "<tr><td>576</td><td>Wingtip Toys (Goodings Grove, IL)</td></tr>",
                            "<tr><td>577</td><td>Wingtip Toys (Cherryplain, NY)</td></tr>",
                            "<tr><td>578</td><td>Wingtip Toys (Bell Acres, PA)</td></tr>",
                            "<tr><td>579</td><td>Wingtip Toys (Connoquenessing, PA)</td></tr>",
                            "<tr><td>580</td><td>Wingtip Toys (Sarversville, PA)</td></tr>",
                            "<tr><td>581</td><td>Wingtip Toys (Munich, ND)</td></tr>",
                            "<tr><td>582</td><td>Wingtip Toys (Montoya, NM)</td></tr>",
                            "<tr><td>583</td><td>Wingtip Toys (Knights Landing, CA)</td></tr>",
                            "<tr><td>584</td><td>Wingtip Toys (Cache, OK)</td></tr>",
                            "<tr><td>585</td><td>Wingtip Toys (Towaco, NJ)</td></tr>",
                            "<tr><td>586</td><td>Wingtip Toys (Lynne, FL)</td></tr>",
                            "<tr><td>587</td><td>Wingtip Toys (Plata, TX)</td></tr>",
                            "<tr><td>588</td><td>Wingtip Toys (Oak Point, TX)</td></tr>",
                            "<tr><td>589</td><td>Wingtip Toys (Alcester, SD)</td></tr>",
                            "<tr><td>590</td><td>Wingtip Toys (McAdenville, NC)</td></tr>",
                            "<tr><td>591</td><td>Wingtip Toys (Idaho City, ID)</td></tr>",
                            "<tr><td>592</td><td>Wingtip Toys (Dunkerton, IA)</td></tr>",
                            "<tr><td>593</td><td>Wingtip Toys (Cuyamungue, NM)</td></tr>",
                            "<tr><td>594</td><td>Wingtip Toys (Marfa, TX)</td></tr>",
                            "<tr><td>595</td><td>Wingtip Toys (Accomac, VA)</td></tr>",
                            "<tr><td>596</td><td>Wingtip Toys (Cos Cob, CT)</td></tr>",
                            "<tr><td>597</td><td>Wingtip Toys (Haycock, AK)</td></tr>",
                            "<tr><td>598</td><td>Wingtip Toys (Kapa&#39;a, HI)</td></tr>",
                            "<tr><td>599</td><td>Wingtip Toys (Dickworsham, TX)</td></tr>",
                            "<tr><td>600</td><td>Wingtip Toys (Caro, MI)</td></tr>",
                            "<tr><td>601</td><td>Wingtip Toys (Ruthsburg, MD)</td></tr>",
                            "<tr><td>803</td><td>Bala Dixit</td></tr>",
                            "<tr><td>805</td><td>Ratan Poddar</td></tr>",
                            "<tr><td>806</td><td>Shi Tu</td></tr>",
                            "<tr><td>811</td><td>Surendra Sahu</td></tr>",
                            "<tr><td>814</td><td>Johanna Hoornstra</td></tr>",
                            "<tr><td>815</td><td>Libuse Valentova</td></tr>",
                            "<tr><td>818</td><td>Liia Orav</td></tr>",
                            "<tr><td>826</td><td>Leila Carvalho</td></tr>",
                            "<tr><td>830</td><td>Jana Fialova</td></tr>",
                            "<tr><td>833</td><td>Devraj Rao</td></tr>",
                            "<tr><td>836</td><td>Abel Spirlea</td></tr>",
                            "<tr><td>839</td><td>Juan Morse</td></tr>",
                            "<tr><td>840</td><td>Rodrigo Figueiredo</td></tr>",
                            "<tr><td>854</td><td>Daakshaayaani Kommineni</td></tr>",
                            "<tr><td>858</td><td>Bimla PrabhupÄda</td></tr>",
                            "<tr><td>868</td><td>Laura Sykorova</td></tr>",
                            "<tr><td>869</td><td>Abel Tatarescu</td></tr>",
                            "<tr><td>874</td><td>Daniel Martensson</td></tr>",
                            "<tr><td>875</td><td>Philip Walker</td></tr>",
                            "<tr><td>876</td><td>Marie LeBatelier</td></tr>",
                            "<tr><td>893</td><td>Leyla Asef zade</td></tr>",
                            "<tr><td>908</td><td>Sumati Bhat</td></tr>",
                            "<tr><td>917</td><td>Pari Hosseini</td></tr>",
                            "<tr><td>918</td><td>Isidora Morales</td></tr>",
                            "<tr><td>923</td><td>Tai Bach</td></tr>",
                            "<tr><td>924</td><td>Eva Schulteisz</td></tr>",
                            "<tr><td>927</td><td>Matyas Sedlar</td></tr>",
                            "<tr><td>934</td><td>Ivan Sepulveda</td></tr>",
                            "<tr><td>936</td><td>Ludmila Smidova</td></tr>",
                            "<tr><td>938</td><td>Anna Gyarmathi</td></tr>",
                            "<tr><td>941</td><td>Bishwa Chatterjee</td></tr>",
                            "<tr><td>943</td><td>Drazenka Jelic</td></tr>",
                            "<tr><td>944</td><td>Ida Celma</td></tr>",
                            "<tr><td>952</td><td>Chuan Wattanasin</td></tr>",
                            "<tr><td>955</td><td>Raghu Sandhu</td></tr>",
                            "<tr><td>957</td><td>Hee-Young Suh</td></tr>",
                            "<tr><td>959</td><td>Dhaatri Chavva</td></tr>",
                            "<tr><td>970</td><td>Isidora Urias</td></tr>",
                            "<tr><td>973</td><td>Kumar Kamei</td></tr>",
                            "<tr><td>975</td><td>Prabodh Nair</td></tr>",
                            "<tr><td>977</td><td>Mauno Laurila</td></tr>",
                            "<tr><td>980</td><td>Om Yadav</td></tr>",
                            "<tr><td>986</td><td>Neil Farrelly</td></tr>",
                            "<tr><td>992</td><td>Amarakumaar Gadiyaram</td></tr>",
                            "<tr><td>995</td><td>Kumar Naicker</td></tr>",
                            "<tr><td>1000</td><td>Krishnam Allu</td></tr>",
                            "<tr><td>1005</td><td>Bhadram Kamasamudram</td></tr>",
                            "<tr><td>1006</td><td>Taj Syme</td></tr>",
                            "<tr><td>1008</td><td>Vedrana Kovacevic</td></tr>",
                            "<tr><td>1014</td><td>Narendra Tickoo</td></tr>",
                            "<tr><td>1019</td><td>Dhanishta Pullela</td></tr>",
                            "<tr><td>1029</td><td>Veronika Necesana</td></tr>",
                            "<tr><td>1032</td><td>Som Mukherjee</td></tr>",
                            "<tr><td>1034</td><td>Aishwarya Dantuluri</td></tr>",
                            "<tr><td>1040</td><td>Damodar Shenoy</td></tr>",
                            "<tr><td>1042</td><td>Nguyen Banh</td></tr>",
                            "<tr><td>1044</td><td>Hanita Nookala</td></tr>",
                            "</table>"
                        ]
                    }
                }
            ],
            "execution_count": 12
        },
        {
            "cell_type": "markdown",
            "source": [
                "Proposition 6: Which customer placed the last order?"
            ],
            "metadata": {
                "azdata_cell_guid": "0cc53ad5-d16b-4797-8e85-a066e6c9f6ec"
            },
            "attachments": {}
        },
        {
            "cell_type": "code",
            "source": [
                "SELECT \r\n",
                "    (SELECT CustomerName \r\n",
                "     FROM Sales.Customers AS C \r\n",
                "     WHERE C.CustomerID = O.CustomerID) AS CustomerName,\r\n",
                "    O.CustomerID, O.OrderID, O.OrderDate\r\n",
                "FROM Sales.Orders AS O\r\n",
                "WHERE O.OrderID = (\r\n",
                "    SELECT MAX(OrderID)\r\n",
                "    FROM Sales.Orders\r\n",
                ");"
            ],
            "metadata": {
                "azdata_cell_guid": "dff4c52e-cb27-48bf-88aa-d500474ff118",
                "language": "sql"
            },
            "outputs": [
                {
                    "output_type": "display_data",
                    "data": {
                        "text/html": "(1 row affected)"
                    },
                    "metadata": {}
                },
                {
                    "output_type": "display_data",
                    "data": {
                        "text/html": "Total execution time: 00:00:00.031"
                    },
                    "metadata": {}
                },
                {
                    "output_type": "execute_result",
                    "metadata": {},
                    "execution_count": 11,
                    "data": {
                        "application/vnd.dataresource+json": {
                            "schema": {
                                "fields": [
                                    {
                                        "name": "CustomerName"
                                    },
                                    {
                                        "name": "CustomerID"
                                    },
                                    {
                                        "name": "OrderID"
                                    },
                                    {
                                        "name": "OrderDate"
                                    }
                                ]
                            },
                            "data": [
                                {
                                    "CustomerName": "Tailspin Toys (Devault, PA)",
                                    "CustomerID": "11",
                                    "OrderID": "73595",
                                    "OrderDate": "2016-05-31"
                                }
                            ]
                        },
                        "text/html": [
                            "<table>",
                            "<tr><th>CustomerName</th><th>CustomerID</th><th>OrderID</th><th>OrderDate</th></tr>",
                            "<tr><td>Tailspin Toys (Devault, PA)</td><td>11</td><td>73595</td><td>2016-05-31</td></tr>",
                            "</table>"
                        ]
                    }
                }
            ],
            "execution_count": 11
        },
        {
            "cell_type": "markdown",
            "source": [
                "Proposition 7: Which customer has the highest credit limit?"
            ],
            "metadata": {
                "azdata_cell_guid": "e5e0586f-e888-4a19-ad3c-84c15c6e2f12"
            },
            "attachments": {}
        },
        {
            "cell_type": "code",
            "source": [
                "SELECT CustomerName, CreditLimit\r\n",
                "FROM Sales.Customers\r\n",
                "WHERE CreditLimit IN (\r\n",
                "    SELECT MAX(CreditLimit)\r\n",
                "    FROM Sales.Customers\r\n",
                ")"
            ],
            "metadata": {
                "azdata_cell_guid": "7ce9cb88-954c-4b11-af3e-51e0669683a1",
                "language": "sql"
            },
            "outputs": [
                {
                    "output_type": "display_data",
                    "data": {
                        "text/html": "Warning: Null value is eliminated by an aggregate or other SET operation."
                    },
                    "metadata": {}
                },
                {
                    "output_type": "display_data",
                    "data": {
                        "text/html": "(1 row affected)"
                    },
                    "metadata": {}
                },
                {
                    "output_type": "display_data",
                    "data": {
                        "text/html": "Total execution time: 00:00:00.032"
                    },
                    "metadata": {}
                },
                {
                    "output_type": "execute_result",
                    "metadata": {},
                    "execution_count": 10,
                    "data": {
                        "application/vnd.dataresource+json": {
                            "schema": {
                                "fields": [
                                    {
                                        "name": "CustomerName"
                                    },
                                    {
                                        "name": "CreditLimit"
                                    }
                                ]
                            },
                            "data": [
                                {
                                    "CustomerName": "Olya Izmaylov",
                                    "CreditLimit": "4630.50"
                                }
                            ]
                        },
                        "text/html": [
                            "<table>",
                            "<tr><th>CustomerName</th><th>CreditLimit</th></tr>",
                            "<tr><td>Olya Izmaylov</td><td>4630.50</td></tr>",
                            "</table>"
                        ]
                    }
                }
            ],
            "execution_count": 10
        },
        {
            "cell_type": "markdown",
            "source": [
                "Proposition 8: Which item do we have the most in stock?"
            ],
            "metadata": {
                "azdata_cell_guid": "22f35fc5-8806-4fce-b233-d1005449be21"
            },
            "attachments": {}
        },
        {
            "cell_type": "code",
            "source": [
                "SELECT StockItemName\r\n",
                "FROM Warehouse.StockItems\r\n",
                "WHERE StockItemID = (\r\n",
                "    SELECT TOP 1 StockItemID\r\n",
                "    FROM Warehouse.StockItemHoldings\r\n",
                "    ORDER BY QuantityOnHand DESC\r\n",
                ");"
            ],
            "metadata": {
                "azdata_cell_guid": "e7eea49e-f67b-4fd3-9582-6fcd065e42d5",
                "language": "sql"
            },
            "outputs": [
                {
                    "output_type": "display_data",
                    "data": {
                        "text/html": "(1 row affected)"
                    },
                    "metadata": {}
                },
                {
                    "output_type": "display_data",
                    "data": {
                        "text/html": "Total execution time: 00:00:00.026"
                    },
                    "metadata": {}
                },
                {
                    "output_type": "execute_result",
                    "metadata": {},
                    "execution_count": 9,
                    "data": {
                        "application/vnd.dataresource+json": {
                            "schema": {
                                "fields": [
                                    {
                                        "name": "StockItemName"
                                    }
                                ]
                            },
                            "data": [
                                {
                                    "StockItemName": "Express post box 5kg (White) 350x280x130mm"
                                }
                            ]
                        },
                        "text/html": [
                            "<table>",
                            "<tr><th>StockItemName</th></tr>",
                            "<tr><td>Express post box 5kg (White) 350x280x130mm</td></tr>",
                            "</table>"
                        ]
                    }
                }
            ],
            "execution_count": 9
        },
        {
            "cell_type": "markdown",
            "source": [
                "Proposition 9: What is the quantity on hand we have of 'USB food flash drive - chocolate bar'?"
            ],
            "metadata": {
                "azdata_cell_guid": "1108c58c-d2f4-4bf8-9022-b9f4a3b14b29"
            },
            "attachments": {}
        },
        {
            "cell_type": "code",
            "source": [
                "SELECT QuantityOnHand\r\n",
                "FROM Warehouse.StockItemHoldings\r\n",
                "WHERE StockItemID = (\r\n",
                "    SELECT StockItemID\r\n",
                "    FROM Warehouse.StockItems\r\n",
                "    WHERE StockItemName = 'USB food flash drive - chocolate bar'\r\n",
                ");"
            ],
            "metadata": {
                "azdata_cell_guid": "07f7db73-abb5-45b2-a8f8-fa7661a133a3",
                "language": "sql"
            },
            "outputs": [
                {
                    "output_type": "display_data",
                    "data": {
                        "text/html": "(1 row affected)"
                    },
                    "metadata": {}
                },
                {
                    "output_type": "display_data",
                    "data": {
                        "text/html": "Total execution time: 00:00:00.024"
                    },
                    "metadata": {}
                },
                {
                    "output_type": "execute_result",
                    "metadata": {},
                    "execution_count": 8,
                    "data": {
                        "application/vnd.dataresource+json": {
                            "schema": {
                                "fields": [
                                    {
                                        "name": "QuantityOnHand"
                                    }
                                ]
                            },
                            "data": [
                                {
                                    "QuantityOnHand": "222572"
                                }
                            ]
                        },
                        "text/html": [
                            "<table>",
                            "<tr><th>QuantityOnHand</th></tr>",
                            "<tr><td>222572</td></tr>",
                            "</table>"
                        ]
                    }
                }
            ],
            "execution_count": 8
        },
        {
            "cell_type": "markdown",
            "source": [
                "Proposition 10: Who is the most recent employee that was given login permissions"
            ],
            "metadata": {
                "azdata_cell_guid": "9b65ee49-a9c6-40ef-beff-6fa608e76a22"
            },
            "attachments": {}
        },
        {
            "cell_type": "code",
            "source": [
                "SELECT PersonID, FullName\r\n",
                "FROM Application.People\r\n",
                "WHERE PersonID = (\r\n",
                "    SELECT MAX(PersonID)\r\n",
                "    FROM Application.People\r\n",
                "    WHERE IsPermittedToLogon = 1\r\n",
                ");"
            ],
            "metadata": {
                "azdata_cell_guid": "4622929a-3f43-4c2f-9032-2f217515201a",
                "language": "sql"
            },
            "outputs": [
                {
                    "output_type": "display_data",
                    "data": {
                        "text/html": "(1 row affected)"
                    },
                    "metadata": {}
                },
                {
                    "output_type": "display_data",
                    "data": {
                        "text/html": "Total execution time: 00:00:00.024"
                    },
                    "metadata": {}
                },
                {
                    "output_type": "execute_result",
                    "metadata": {},
                    "execution_count": 7,
                    "data": {
                        "application/vnd.dataresource+json": {
                            "schema": {
                                "fields": [
                                    {
                                        "name": "PersonID"
                                    },
                                    {
                                        "name": "FullName"
                                    }
                                ]
                            },
                            "data": [
                                {
                                    "PersonID": "3237",
                                    "FullName": "David Jaramillo"
                                }
                            ]
                        },
                        "text/html": [
                            "<table>",
                            "<tr><th>PersonID</th><th>FullName</th></tr>",
                            "<tr><td>3237</td><td>David Jaramillo</td></tr>",
                            "</table>"
                        ]
                    }
                }
            ],
            "execution_count": 7
        }
    ]
}