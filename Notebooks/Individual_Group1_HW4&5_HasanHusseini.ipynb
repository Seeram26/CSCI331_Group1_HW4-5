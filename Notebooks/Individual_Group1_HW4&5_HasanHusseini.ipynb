{
    "metadata": {
        "kernelspec": {
            "name": "SQL",
            "display_name": "SQL",
            "language": "sql"
        },
        "language_info": {
            "name": "sql",
            "version": ""
        }
    },
    "nbformat_minor": 2,
    "nbformat": 4,
    "cells": [
        {
            "cell_type": "code",
            "source": [
                "--1 This query displays the top 3 salespeople by total order value\n",
                "\n",
                "SELECT TOP 3\n",
                "    p.PersonID AS SalespersonID,\n",
                "    p.PreferredName,\n",
                "    SUM(ol.Quantity * ol.UnitPrice) AS TotalSales\n",
                "FROM Sales.Orders o\n",
                "JOIN Sales.OrderLines ol ON o.OrderID = ol.OrderID\n",
                "JOIN Application.People p ON o.SalespersonPersonID = p.PersonID\n",
                "GROUP BY p.PersonID, p.PreferredName\n",
                "ORDER BY TotalSales DESC;\n",
                ""
            ],
            "metadata": {
                "language": "sql",
                "azdata_cell_guid": "adcbd089-157f-4adb-a519-bdff03425d0c",
                "tags": []
            },
            "outputs": [
                {
                    "output_type": "display_data",
                    "data": {
                        "text/html": "(3 rows affected)"
                    },
                    "metadata": {}
                },
                {
                    "output_type": "display_data",
                    "data": {
                        "text/html": "Total execution time: 00:00:00.085"
                    },
                    "metadata": {}
                },
                {
                    "output_type": "execute_result",
                    "execution_count": 2,
                    "data": {
                        "application/vnd.dataresource+json": {
                            "schema": {
                                "fields": [
                                    {
                                        "name": "SalespersonID"
                                    },
                                    {
                                        "name": "PreferredName"
                                    },
                                    {
                                        "name": "TotalSales"
                                    }
                                ]
                            },
                            "data": [
                                {
                                    "SalespersonID": "16",
                                    "PreferredName": "Archer",
                                    "TotalSales": "18551146.95"
                                },
                                {
                                    "SalespersonID": "2",
                                    "PreferredName": "Kayla",
                                    "TotalSales": "18107095.00"
                                },
                                {
                                    "SalespersonID": "3",
                                    "PreferredName": "Hudson",
                                    "TotalSales": "17815605.10"
                                }
                            ]
                        },
                        "text/html": "<table><tr><th>SalespersonID</th><th>PreferredName</th><th>TotalSales</th></tr><tr><td>16</td><td>Archer</td><td>18551146.95</td></tr><tr><td>2</td><td>Kayla</td><td>18107095.00</td></tr><tr><td>3</td><td>Hudson</td><td>17815605.10</td></tr></table>"
                    },
                    "metadata": {}
                }
            ],
            "execution_count": 2
        },
        {
            "cell_type": "code",
            "source": [
                "\n",
                "--2 This query displays all products which were never ordered. Of which there are none.\n",
                "\n",
                "SELECT si.StockItemID, si.StockItemName\n",
                "FROM Warehouse.StockItems si\n",
                "LEFT JOIN Sales.OrderLines ol ON si.StockItemID = ol.StockItemID\n",
                "WHERE ol.StockItemID IS NULL;"
            ],
            "metadata": {
                "language": "sql",
                "azdata_cell_guid": "338dae29-0c2c-45cd-b475-c9782426144e"
            },
            "outputs": [
                {
                    "output_type": "display_data",
                    "data": {
                        "text/html": "(0 rows affected)"
                    },
                    "metadata": {}
                },
                {
                    "output_type": "display_data",
                    "data": {
                        "text/html": "Total execution time: 00:00:00.028"
                    },
                    "metadata": {}
                },
                {
                    "output_type": "execute_result",
                    "execution_count": 3,
                    "data": {
                        "application/vnd.dataresource+json": {
                            "schema": {
                                "fields": [
                                    {
                                        "name": "StockItemID"
                                    },
                                    {
                                        "name": "StockItemName"
                                    }
                                ]
                            },
                            "data": []
                        },
                        "text/html": "<table><tr><th>StockItemID</th><th>StockItemName</th></tr></table>"
                    },
                    "metadata": {}
                }
            ],
            "execution_count": 3
        },
        {
            "cell_type": "code",
            "source": [
                "--3 This query displays the product with the highest price\n",
                "\n",
                "SELECT StockItemID, StockItemName, UnitPrice\n",
                "FROM Warehouse.StockItems si\n",
                "WHERE UnitPrice = (\n",
                "    SELECT MAX(UnitPrice)\n",
                "    FROM Warehouse.StockItems si2\n",
                ");\n",
                "\n",
                ""
            ],
            "metadata": {
                "language": "sql",
                "azdata_cell_guid": "3bf3e323-cdb3-4b5b-98e7-5fbe6a2af37f"
            },
            "outputs": [
                {
                    "output_type": "display_data",
                    "data": {
                        "text/html": "(1 row affected)"
                    },
                    "metadata": {}
                },
                {
                    "output_type": "display_data",
                    "data": {
                        "text/html": "Total execution time: 00:00:00.047"
                    },
                    "metadata": {}
                },
                {
                    "output_type": "execute_result",
                    "execution_count": 4,
                    "data": {
                        "application/vnd.dataresource+json": {
                            "schema": {
                                "fields": [
                                    {
                                        "name": "StockItemID"
                                    },
                                    {
                                        "name": "StockItemName"
                                    },
                                    {
                                        "name": "UnitPrice"
                                    }
                                ]
                            },
                            "data": [
                                {
                                    "StockItemID": "215",
                                    "StockItemName": "Air cushion machine (Blue)",
                                    "UnitPrice": "1899.00"
                                }
                            ]
                        },
                        "text/html": "<table><tr><th>StockItemID</th><th>StockItemName</th><th>UnitPrice</th></tr><tr><td>215</td><td>Air cushion machine (Blue)</td><td>1899.00</td></tr></table>"
                    },
                    "metadata": {}
                }
            ],
            "execution_count": 4
        },
        {
            "cell_type": "code",
            "source": [
                "\n",
                "--4 This query displays the customer with the highest total order value\n",
                "\n",
                "SELECT o.OrderID, o.CustomerID, o.OrderDate\n",
                "FROM Sales.Orders o\n",
                "WHERE o.CustomerID = (\n",
                "    SELECT TOP 1 o2.CustomerID\n",
                "    FROM Sales.Orders o2\n",
                "    JOIN Sales.OrderLines ol2 ON o2.OrderID = ol2.OrderID\n",
                "    GROUP BY o2.CustomerID\n",
                "    ORDER BY SUM(ol2.Quantity * ol2.UnitPrice) DESC\n",
                ");\n",
                ""
            ],
            "metadata": {
                "language": "sql",
                "azdata_cell_guid": "222db465-ae32-4a9c-8bb2-a6709a05834c"
            },
            "outputs": [
                {
                    "output_type": "display_data",
                    "data": {
                        "text/html": "(128 rows affected)"
                    },
                    "metadata": {}
                },
                {
                    "output_type": "display_data",
                    "data": {
                        "text/html": "Total execution time: 00:00:00.204"
                    },
                    "metadata": {}
                },
                {
                    "output_type": "execute_result",
                    "execution_count": 5,
                    "data": {
                        "application/vnd.dataresource+json": {
                            "schema": {
                                "fields": [
                                    {
                                        "name": "OrderID"
                                    },
                                    {
                                        "name": "CustomerID"
                                    },
                                    {
                                        "name": "OrderDate"
                                    }
                                ]
                            },
                            "data": [
                                {
                                    "OrderID": "378",
                                    "CustomerID": "149",
                                    "OrderDate": "2013-01-07"
                                },
                                {
                                    "OrderID": "690",
                                    "CustomerID": "149",
                                    "OrderDate": "2013-01-12"
                                },
                                {
                                    "OrderID": "983",
                                    "CustomerID": "149",
                                    "OrderDate": "2013-01-18"
                                },
                                {
                                    "OrderID": "1104",
                                    "CustomerID": "149",
                                    "OrderDate": "2013-01-22"
                                },
                                {
                                    "OrderID": "2045",
                                    "CustomerID": "149",
                                    "OrderDate": "2013-02-09"
                                },
                                {
                                    "OrderID": "2762",
                                    "CustomerID": "149",
                                    "OrderDate": "2013-02-27"
                                },
                                {
                                    "OrderID": "3387",
                                    "CustomerID": "149",
                                    "OrderDate": "2013-03-11"
                                },
                                {
                                    "OrderID": "4695",
                                    "CustomerID": "149",
                                    "OrderDate": "2013-04-03"
                                },
                                {
                                    "OrderID": "5268",
                                    "CustomerID": "149",
                                    "OrderDate": "2013-04-13"
                                },
                                {
                                    "OrderID": "5572",
                                    "CustomerID": "149",
                                    "OrderDate": "2013-04-19"
                                },
                                {
                                    "OrderID": "5803",
                                    "CustomerID": "149",
                                    "OrderDate": "2013-04-23"
                                },
                                {
                                    "OrderID": "6720",
                                    "CustomerID": "149",
                                    "OrderDate": "2013-05-09"
                                },
                                {
                                    "OrderID": "7392",
                                    "CustomerID": "149",
                                    "OrderDate": "2013-05-21"
                                },
                                {
                                    "OrderID": "8784",
                                    "CustomerID": "149",
                                    "OrderDate": "2013-06-14"
                                },
                                {
                                    "OrderID": "9460",
                                    "CustomerID": "149",
                                    "OrderDate": "2013-06-27"
                                },
                                {
                                    "OrderID": "9600",
                                    "CustomerID": "149",
                                    "OrderDate": "2013-06-28"
                                },
                                {
                                    "OrderID": "9843",
                                    "CustomerID": "149",
                                    "OrderDate": "2013-07-03"
                                },
                                {
                                    "OrderID": "10454",
                                    "CustomerID": "149",
                                    "OrderDate": "2013-07-12"
                                },
                                {
                                    "OrderID": "10926",
                                    "CustomerID": "149",
                                    "OrderDate": "2013-07-20"
                                },
                                {
                                    "OrderID": "11697",
                                    "CustomerID": "149",
                                    "OrderDate": "2013-08-03"
                                },
                                {
                                    "OrderID": "11743",
                                    "CustomerID": "149",
                                    "OrderDate": "2013-08-05"
                                },
                                {
                                    "OrderID": "11816",
                                    "CustomerID": "149",
                                    "OrderDate": "2013-08-06"
                                },
                                {
                                    "OrderID": "12707",
                                    "CustomerID": "149",
                                    "OrderDate": "2013-08-23"
                                },
                                {
                                    "OrderID": "13398",
                                    "CustomerID": "149",
                                    "OrderDate": "2013-09-06"
                                },
                                {
                                    "OrderID": "13543",
                                    "CustomerID": "149",
                                    "OrderDate": "2013-09-10"
                                },
                                {
                                    "OrderID": "16908",
                                    "CustomerID": "149",
                                    "OrderDate": "2013-11-13"
                                },
                                {
                                    "OrderID": "17033",
                                    "CustomerID": "149",
                                    "OrderDate": "2013-11-15"
                                },
                                {
                                    "OrderID": "17823",
                                    "CustomerID": "149",
                                    "OrderDate": "2013-11-29"
                                },
                                {
                                    "OrderID": "17980",
                                    "CustomerID": "149",
                                    "OrderDate": "2013-12-03"
                                },
                                {
                                    "OrderID": "19753",
                                    "CustomerID": "149",
                                    "OrderDate": "2014-01-06"
                                },
                                {
                                    "OrderID": "20033",
                                    "CustomerID": "149",
                                    "OrderDate": "2014-01-11"
                                },
                                {
                                    "OrderID": "20096",
                                    "CustomerID": "149",
                                    "OrderDate": "2014-01-13"
                                },
                                {
                                    "OrderID": "21067",
                                    "CustomerID": "149",
                                    "OrderDate": "2014-01-29"
                                },
                                {
                                    "OrderID": "21296",
                                    "CustomerID": "149",
                                    "OrderDate": "2014-02-03"
                                },
                                {
                                    "OrderID": "22117",
                                    "CustomerID": "149",
                                    "OrderDate": "2014-02-18"
                                },
                                {
                                    "OrderID": "22138",
                                    "CustomerID": "149",
                                    "OrderDate": "2014-02-18"
                                },
                                {
                                    "OrderID": "22336",
                                    "CustomerID": "149",
                                    "OrderDate": "2014-02-21"
                                },
                                {
                                    "OrderID": "23404",
                                    "CustomerID": "149",
                                    "OrderDate": "2014-03-13"
                                },
                                {
                                    "OrderID": "24545",
                                    "CustomerID": "149",
                                    "OrderDate": "2014-04-03"
                                },
                                {
                                    "OrderID": "24831",
                                    "CustomerID": "149",
                                    "OrderDate": "2014-04-09"
                                },
                                {
                                    "OrderID": "24844",
                                    "CustomerID": "149",
                                    "OrderDate": "2014-04-09"
                                },
                                {
                                    "OrderID": "25163",
                                    "CustomerID": "149",
                                    "OrderDate": "2014-04-16"
                                },
                                {
                                    "OrderID": "26008",
                                    "CustomerID": "149",
                                    "OrderDate": "2014-04-29"
                                },
                                {
                                    "OrderID": "27465",
                                    "CustomerID": "149",
                                    "OrderDate": "2014-05-22"
                                },
                                {
                                    "OrderID": "27864",
                                    "CustomerID": "149",
                                    "OrderDate": "2014-05-29"
                                },
                                {
                                    "OrderID": "28011",
                                    "CustomerID": "149",
                                    "OrderDate": "2014-06-02"
                                },
                                {
                                    "OrderID": "28118",
                                    "CustomerID": "149",
                                    "OrderDate": "2014-06-03"
                                },
                                {
                                    "OrderID": "28120",
                                    "CustomerID": "149",
                                    "OrderDate": "2014-06-03"
                                },
                                {
                                    "OrderID": "28145",
                                    "CustomerID": "149",
                                    "OrderDate": "2014-06-03"
                                },
                                {
                                    "OrderID": "28369",
                                    "CustomerID": "149",
                                    "OrderDate": "2014-06-06"
                                },
                                {
                                    "OrderID": "28503",
                                    "CustomerID": "149",
                                    "OrderDate": "2014-06-09"
                                },
                                {
                                    "OrderID": "29262",
                                    "CustomerID": "149",
                                    "OrderDate": "2014-06-20"
                                },
                                {
                                    "OrderID": "29359",
                                    "CustomerID": "149",
                                    "OrderDate": "2014-06-21"
                                },
                                {
                                    "OrderID": "30442",
                                    "CustomerID": "149",
                                    "OrderDate": "2014-07-09"
                                },
                                {
                                    "OrderID": "32259",
                                    "CustomerID": "149",
                                    "OrderDate": "2014-08-07"
                                },
                                {
                                    "OrderID": "32604",
                                    "CustomerID": "149",
                                    "OrderDate": "2014-08-13"
                                },
                                {
                                    "OrderID": "32629",
                                    "CustomerID": "149",
                                    "OrderDate": "2014-08-14"
                                },
                                {
                                    "OrderID": "32794",
                                    "CustomerID": "149",
                                    "OrderDate": "2014-08-18"
                                },
                                {
                                    "OrderID": "32857",
                                    "CustomerID": "149",
                                    "OrderDate": "2014-08-18"
                                },
                                {
                                    "OrderID": "33183",
                                    "CustomerID": "149",
                                    "OrderDate": "2014-08-25"
                                },
                                {
                                    "OrderID": "34673",
                                    "CustomerID": "149",
                                    "OrderDate": "2014-09-23"
                                },
                                {
                                    "OrderID": "35927",
                                    "CustomerID": "149",
                                    "OrderDate": "2014-10-14"
                                },
                                {
                                    "OrderID": "35930",
                                    "CustomerID": "149",
                                    "OrderDate": "2014-10-14"
                                },
                                {
                                    "OrderID": "36545",
                                    "CustomerID": "149",
                                    "OrderDate": "2014-10-23"
                                },
                                {
                                    "OrderID": "37310",
                                    "CustomerID": "149",
                                    "OrderDate": "2014-11-04"
                                },
                                {
                                    "OrderID": "37398",
                                    "CustomerID": "149",
                                    "OrderDate": "2014-11-05"
                                },
                                {
                                    "OrderID": "37598",
                                    "CustomerID": "149",
                                    "OrderDate": "2014-11-08"
                                },
                                {
                                    "OrderID": "37889",
                                    "CustomerID": "149",
                                    "OrderDate": "2014-11-13"
                                },
                                {
                                    "OrderID": "39213",
                                    "CustomerID": "149",
                                    "OrderDate": "2014-12-09"
                                },
                                {
                                    "OrderID": "39633",
                                    "CustomerID": "149",
                                    "OrderDate": "2014-12-17"
                                },
                                {
                                    "OrderID": "40635",
                                    "CustomerID": "149",
                                    "OrderDate": "2014-12-31"
                                },
                                {
                                    "OrderID": "40888",
                                    "CustomerID": "149",
                                    "OrderDate": "2015-01-05"
                                },
                                {
                                    "OrderID": "41931",
                                    "CustomerID": "149",
                                    "OrderDate": "2015-01-23"
                                },
                                {
                                    "OrderID": "42058",
                                    "CustomerID": "149",
                                    "OrderDate": "2015-01-26"
                                },
                                {
                                    "OrderID": "42604",
                                    "CustomerID": "149",
                                    "OrderDate": "2015-02-03"
                                },
                                {
                                    "OrderID": "45016",
                                    "CustomerID": "149",
                                    "OrderDate": "2015-03-13"
                                },
                                {
                                    "OrderID": "45161",
                                    "CustomerID": "149",
                                    "OrderDate": "2015-03-16"
                                },
                                {
                                    "OrderID": "45212",
                                    "CustomerID": "149",
                                    "OrderDate": "2015-03-17"
                                },
                                {
                                    "OrderID": "45418",
                                    "CustomerID": "149",
                                    "OrderDate": "2015-03-20"
                                },
                                {
                                    "OrderID": "48317",
                                    "CustomerID": "149",
                                    "OrderDate": "2015-05-02"
                                },
                                {
                                    "OrderID": "48456",
                                    "CustomerID": "149",
                                    "OrderDate": "2015-05-05"
                                },
                                {
                                    "OrderID": "49082",
                                    "CustomerID": "149",
                                    "OrderDate": "2015-05-15"
                                },
                                {
                                    "OrderID": "50079",
                                    "CustomerID": "149",
                                    "OrderDate": "2015-05-29"
                                },
                                {
                                    "OrderID": "51057",
                                    "CustomerID": "149",
                                    "OrderDate": "2015-06-12"
                                },
                                {
                                    "OrderID": "51420",
                                    "CustomerID": "149",
                                    "OrderDate": "2015-06-18"
                                },
                                {
                                    "OrderID": "51537",
                                    "CustomerID": "149",
                                    "OrderDate": "2015-06-20"
                                },
                                {
                                    "OrderID": "51552",
                                    "CustomerID": "149",
                                    "OrderDate": "2015-06-20"
                                },
                                {
                                    "OrderID": "51586",
                                    "CustomerID": "149",
                                    "OrderDate": "2015-06-22"
                                },
                                {
                                    "OrderID": "52172",
                                    "CustomerID": "149",
                                    "OrderDate": "2015-07-01"
                                },
                                {
                                    "OrderID": "52829",
                                    "CustomerID": "149",
                                    "OrderDate": "2015-07-10"
                                },
                                {
                                    "OrderID": "53257",
                                    "CustomerID": "149",
                                    "OrderDate": "2015-07-16"
                                },
                                {
                                    "OrderID": "53407",
                                    "CustomerID": "149",
                                    "OrderDate": "2015-07-18"
                                },
                                {
                                    "OrderID": "53663",
                                    "CustomerID": "149",
                                    "OrderDate": "2015-07-22"
                                },
                                {
                                    "OrderID": "53951",
                                    "CustomerID": "149",
                                    "OrderDate": "2015-07-25"
                                },
                                {
                                    "OrderID": "54229",
                                    "CustomerID": "149",
                                    "OrderDate": "2015-07-30"
                                },
                                {
                                    "OrderID": "56581",
                                    "CustomerID": "149",
                                    "OrderDate": "2015-09-07"
                                },
                                {
                                    "OrderID": "56674",
                                    "CustomerID": "149",
                                    "OrderDate": "2015-09-08"
                                },
                                {
                                    "OrderID": "56956",
                                    "CustomerID": "149",
                                    "OrderDate": "2015-09-11"
                                },
                                {
                                    "OrderID": "58151",
                                    "CustomerID": "149",
                                    "OrderDate": "2015-09-30"
                                },
                                {
                                    "OrderID": "58624",
                                    "CustomerID": "149",
                                    "OrderDate": "2015-10-08"
                                },
                                {
                                    "OrderID": "59372",
                                    "CustomerID": "149",
                                    "OrderDate": "2015-10-19"
                                },
                                {
                                    "OrderID": "59398",
                                    "CustomerID": "149",
                                    "OrderDate": "2015-10-20"
                                },
                                {
                                    "OrderID": "59439",
                                    "CustomerID": "149",
                                    "OrderDate": "2015-10-20"
                                },
                                {
                                    "OrderID": "59840",
                                    "CustomerID": "149",
                                    "OrderDate": "2015-10-26"
                                },
                                {
                                    "OrderID": "60630",
                                    "CustomerID": "149",
                                    "OrderDate": "2015-11-07"
                                },
                                {
                                    "OrderID": "60898",
                                    "CustomerID": "149",
                                    "OrderDate": "2015-11-11"
                                },
                                {
                                    "OrderID": "63002",
                                    "CustomerID": "149",
                                    "OrderDate": "2015-12-16"
                                },
                                {
                                    "OrderID": "63250",
                                    "CustomerID": "149",
                                    "OrderDate": "2015-12-21"
                                },
                                {
                                    "OrderID": "65054",
                                    "CustomerID": "149",
                                    "OrderDate": "2016-01-16"
                                },
                                {
                                    "OrderID": "65314",
                                    "CustomerID": "149",
                                    "OrderDate": "2016-01-21"
                                },
                                {
                                    "OrderID": "65360",
                                    "CustomerID": "149",
                                    "OrderDate": "2016-01-21"
                                },
                                {
                                    "OrderID": "66042",
                                    "CustomerID": "149",
                                    "OrderDate": "2016-02-03"
                                },
                                {
                                    "OrderID": "66367",
                                    "CustomerID": "149",
                                    "OrderDate": "2016-02-09"
                                },
                                {
                                    "OrderID": "66383",
                                    "CustomerID": "149",
                                    "OrderDate": "2016-02-09"
                                },
                                {
                                    "OrderID": "66856",
                                    "CustomerID": "149",
                                    "OrderDate": "2016-02-18"
                                },
                                {
                                    "OrderID": "67854",
                                    "CustomerID": "149",
                                    "OrderDate": "2016-03-03"
                                },
                                {
                                    "OrderID": "68124",
                                    "CustomerID": "149",
                                    "OrderDate": "2016-03-08"
                                },
                                {
                                    "OrderID": "68734",
                                    "CustomerID": "149",
                                    "OrderDate": "2016-03-21"
                                },
                                {
                                    "OrderID": "69466",
                                    "CustomerID": "149",
                                    "OrderDate": "2016-03-30"
                                },
                                {
                                    "OrderID": "69552",
                                    "CustomerID": "149",
                                    "OrderDate": "2016-03-31"
                                },
                                {
                                    "OrderID": "70110",
                                    "CustomerID": "149",
                                    "OrderDate": "2016-04-11"
                                },
                                {
                                    "OrderID": "70502",
                                    "CustomerID": "149",
                                    "OrderDate": "2016-04-15"
                                },
                                {
                                    "OrderID": "71314",
                                    "CustomerID": "149",
                                    "OrderDate": "2016-04-28"
                                },
                                {
                                    "OrderID": "72095",
                                    "CustomerID": "149",
                                    "OrderDate": "2016-05-09"
                                },
                                {
                                    "OrderID": "72798",
                                    "CustomerID": "149",
                                    "OrderDate": "2016-05-19"
                                },
                                {
                                    "OrderID": "72949",
                                    "CustomerID": "149",
                                    "OrderDate": "2016-05-21"
                                },
                                {
                                    "OrderID": "72971",
                                    "CustomerID": "149",
                                    "OrderDate": "2016-05-23"
                                },
                                {
                                    "OrderID": "73075",
                                    "CustomerID": "149",
                                    "OrderDate": "2016-05-24"
                                }
                            ]
                        },
                        "text/html": "<table><tr><th>OrderID</th><th>CustomerID</th><th>OrderDate</th></tr><tr><td>378</td><td>149</td><td>2013-01-07</td></tr><tr><td>690</td><td>149</td><td>2013-01-12</td></tr><tr><td>983</td><td>149</td><td>2013-01-18</td></tr><tr><td>1104</td><td>149</td><td>2013-01-22</td></tr><tr><td>2045</td><td>149</td><td>2013-02-09</td></tr><tr><td>2762</td><td>149</td><td>2013-02-27</td></tr><tr><td>3387</td><td>149</td><td>2013-03-11</td></tr><tr><td>4695</td><td>149</td><td>2013-04-03</td></tr><tr><td>5268</td><td>149</td><td>2013-04-13</td></tr><tr><td>5572</td><td>149</td><td>2013-04-19</td></tr><tr><td>5803</td><td>149</td><td>2013-04-23</td></tr><tr><td>6720</td><td>149</td><td>2013-05-09</td></tr><tr><td>7392</td><td>149</td><td>2013-05-21</td></tr><tr><td>8784</td><td>149</td><td>2013-06-14</td></tr><tr><td>9460</td><td>149</td><td>2013-06-27</td></tr><tr><td>9600</td><td>149</td><td>2013-06-28</td></tr><tr><td>9843</td><td>149</td><td>2013-07-03</td></tr><tr><td>10454</td><td>149</td><td>2013-07-12</td></tr><tr><td>10926</td><td>149</td><td>2013-07-20</td></tr><tr><td>11697</td><td>149</td><td>2013-08-03</td></tr><tr><td>11743</td><td>149</td><td>2013-08-05</td></tr><tr><td>11816</td><td>149</td><td>2013-08-06</td></tr><tr><td>12707</td><td>149</td><td>2013-08-23</td></tr><tr><td>13398</td><td>149</td><td>2013-09-06</td></tr><tr><td>13543</td><td>149</td><td>2013-09-10</td></tr><tr><td>16908</td><td>149</td><td>2013-11-13</td></tr><tr><td>17033</td><td>149</td><td>2013-11-15</td></tr><tr><td>17823</td><td>149</td><td>2013-11-29</td></tr><tr><td>17980</td><td>149</td><td>2013-12-03</td></tr><tr><td>19753</td><td>149</td><td>2014-01-06</td></tr><tr><td>20033</td><td>149</td><td>2014-01-11</td></tr><tr><td>20096</td><td>149</td><td>2014-01-13</td></tr><tr><td>21067</td><td>149</td><td>2014-01-29</td></tr><tr><td>21296</td><td>149</td><td>2014-02-03</td></tr><tr><td>22117</td><td>149</td><td>2014-02-18</td></tr><tr><td>22138</td><td>149</td><td>2014-02-18</td></tr><tr><td>22336</td><td>149</td><td>2014-02-21</td></tr><tr><td>23404</td><td>149</td><td>2014-03-13</td></tr><tr><td>24545</td><td>149</td><td>2014-04-03</td></tr><tr><td>24831</td><td>149</td><td>2014-04-09</td></tr><tr><td>24844</td><td>149</td><td>2014-04-09</td></tr><tr><td>25163</td><td>149</td><td>2014-04-16</td></tr><tr><td>26008</td><td>149</td><td>2014-04-29</td></tr><tr><td>27465</td><td>149</td><td>2014-05-22</td></tr><tr><td>27864</td><td>149</td><td>2014-05-29</td></tr><tr><td>28011</td><td>149</td><td>2014-06-02</td></tr><tr><td>28118</td><td>149</td><td>2014-06-03</td></tr><tr><td>28120</td><td>149</td><td>2014-06-03</td></tr><tr><td>28145</td><td>149</td><td>2014-06-03</td></tr><tr><td>28369</td><td>149</td><td>2014-06-06</td></tr><tr><td>28503</td><td>149</td><td>2014-06-09</td></tr><tr><td>29262</td><td>149</td><td>2014-06-20</td></tr><tr><td>29359</td><td>149</td><td>2014-06-21</td></tr><tr><td>30442</td><td>149</td><td>2014-07-09</td></tr><tr><td>32259</td><td>149</td><td>2014-08-07</td></tr><tr><td>32604</td><td>149</td><td>2014-08-13</td></tr><tr><td>32629</td><td>149</td><td>2014-08-14</td></tr><tr><td>32794</td><td>149</td><td>2014-08-18</td></tr><tr><td>32857</td><td>149</td><td>2014-08-18</td></tr><tr><td>33183</td><td>149</td><td>2014-08-25</td></tr><tr><td>34673</td><td>149</td><td>2014-09-23</td></tr><tr><td>35927</td><td>149</td><td>2014-10-14</td></tr><tr><td>35930</td><td>149</td><td>2014-10-14</td></tr><tr><td>36545</td><td>149</td><td>2014-10-23</td></tr><tr><td>37310</td><td>149</td><td>2014-11-04</td></tr><tr><td>37398</td><td>149</td><td>2014-11-05</td></tr><tr><td>37598</td><td>149</td><td>2014-11-08</td></tr><tr><td>37889</td><td>149</td><td>2014-11-13</td></tr><tr><td>39213</td><td>149</td><td>2014-12-09</td></tr><tr><td>39633</td><td>149</td><td>2014-12-17</td></tr><tr><td>40635</td><td>149</td><td>2014-12-31</td></tr><tr><td>40888</td><td>149</td><td>2015-01-05</td></tr><tr><td>41931</td><td>149</td><td>2015-01-23</td></tr><tr><td>42058</td><td>149</td><td>2015-01-26</td></tr><tr><td>42604</td><td>149</td><td>2015-02-03</td></tr><tr><td>45016</td><td>149</td><td>2015-03-13</td></tr><tr><td>45161</td><td>149</td><td>2015-03-16</td></tr><tr><td>45212</td><td>149</td><td>2015-03-17</td></tr><tr><td>45418</td><td>149</td><td>2015-03-20</td></tr><tr><td>48317</td><td>149</td><td>2015-05-02</td></tr><tr><td>48456</td><td>149</td><td>2015-05-05</td></tr><tr><td>49082</td><td>149</td><td>2015-05-15</td></tr><tr><td>50079</td><td>149</td><td>2015-05-29</td></tr><tr><td>51057</td><td>149</td><td>2015-06-12</td></tr><tr><td>51420</td><td>149</td><td>2015-06-18</td></tr><tr><td>51537</td><td>149</td><td>2015-06-20</td></tr><tr><td>51552</td><td>149</td><td>2015-06-20</td></tr><tr><td>51586</td><td>149</td><td>2015-06-22</td></tr><tr><td>52172</td><td>149</td><td>2015-07-01</td></tr><tr><td>52829</td><td>149</td><td>2015-07-10</td></tr><tr><td>53257</td><td>149</td><td>2015-07-16</td></tr><tr><td>53407</td><td>149</td><td>2015-07-18</td></tr><tr><td>53663</td><td>149</td><td>2015-07-22</td></tr><tr><td>53951</td><td>149</td><td>2015-07-25</td></tr><tr><td>54229</td><td>149</td><td>2015-07-30</td></tr><tr><td>56581</td><td>149</td><td>2015-09-07</td></tr><tr><td>56674</td><td>149</td><td>2015-09-08</td></tr><tr><td>56956</td><td>149</td><td>2015-09-11</td></tr><tr><td>58151</td><td>149</td><td>2015-09-30</td></tr><tr><td>58624</td><td>149</td><td>2015-10-08</td></tr><tr><td>59372</td><td>149</td><td>2015-10-19</td></tr><tr><td>59398</td><td>149</td><td>2015-10-20</td></tr><tr><td>59439</td><td>149</td><td>2015-10-20</td></tr><tr><td>59840</td><td>149</td><td>2015-10-26</td></tr><tr><td>60630</td><td>149</td><td>2015-11-07</td></tr><tr><td>60898</td><td>149</td><td>2015-11-11</td></tr><tr><td>63002</td><td>149</td><td>2015-12-16</td></tr><tr><td>63250</td><td>149</td><td>2015-12-21</td></tr><tr><td>65054</td><td>149</td><td>2016-01-16</td></tr><tr><td>65314</td><td>149</td><td>2016-01-21</td></tr><tr><td>65360</td><td>149</td><td>2016-01-21</td></tr><tr><td>66042</td><td>149</td><td>2016-02-03</td></tr><tr><td>66367</td><td>149</td><td>2016-02-09</td></tr><tr><td>66383</td><td>149</td><td>2016-02-09</td></tr><tr><td>66856</td><td>149</td><td>2016-02-18</td></tr><tr><td>67854</td><td>149</td><td>2016-03-03</td></tr><tr><td>68124</td><td>149</td><td>2016-03-08</td></tr><tr><td>68734</td><td>149</td><td>2016-03-21</td></tr><tr><td>69466</td><td>149</td><td>2016-03-30</td></tr><tr><td>69552</td><td>149</td><td>2016-03-31</td></tr><tr><td>70110</td><td>149</td><td>2016-04-11</td></tr><tr><td>70502</td><td>149</td><td>2016-04-15</td></tr><tr><td>71314</td><td>149</td><td>2016-04-28</td></tr><tr><td>72095</td><td>149</td><td>2016-05-09</td></tr><tr><td>72798</td><td>149</td><td>2016-05-19</td></tr><tr><td>72949</td><td>149</td><td>2016-05-21</td></tr><tr><td>72971</td><td>149</td><td>2016-05-23</td></tr><tr><td>73075</td><td>149</td><td>2016-05-24</td></tr></table>"
                    },
                    "metadata": {}
                }
            ],
            "execution_count": 5
        },
        {
            "cell_type": "code",
            "source": [
                "--5 This displays the top 3 most expensive products ever ordered\n",
                "\n",
                "SELECT TOP 3 p.StockItemID, p.StockItemName, ol.UnitPrice\n",
                "FROM Sales.OrderLines ol\n",
                "JOIN Warehouse.StockItems p ON ol.StockItemID = p.StockItemID\n",
                "ORDER BY ol.UnitPrice DESC;\n",
                "\n",
                ""
            ],
            "metadata": {
                "language": "sql",
                "azdata_cell_guid": "1a608005-9bdc-4b55-98c3-7d037f229e20"
            },
            "outputs": [
                {
                    "output_type": "display_data",
                    "data": {
                        "text/html": "(3 rows affected)"
                    },
                    "metadata": {}
                },
                {
                    "output_type": "display_data",
                    "data": {
                        "text/html": "Total execution time: 00:00:00.102"
                    },
                    "metadata": {}
                },
                {
                    "output_type": "execute_result",
                    "execution_count": 6,
                    "data": {
                        "application/vnd.dataresource+json": {
                            "schema": {
                                "fields": [
                                    {
                                        "name": "StockItemID"
                                    },
                                    {
                                        "name": "StockItemName"
                                    },
                                    {
                                        "name": "UnitPrice"
                                    }
                                ]
                            },
                            "data": [
                                {
                                    "StockItemID": "215",
                                    "StockItemName": "Air cushion machine (Blue)",
                                    "UnitPrice": "1899.00"
                                },
                                {
                                    "StockItemID": "215",
                                    "StockItemName": "Air cushion machine (Blue)",
                                    "UnitPrice": "1899.00"
                                },
                                {
                                    "StockItemID": "215",
                                    "StockItemName": "Air cushion machine (Blue)",
                                    "UnitPrice": "1899.00"
                                }
                            ]
                        },
                        "text/html": "<table><tr><th>StockItemID</th><th>StockItemName</th><th>UnitPrice</th></tr><tr><td>215</td><td>Air cushion machine (Blue)</td><td>1899.00</td></tr><tr><td>215</td><td>Air cushion machine (Blue)</td><td>1899.00</td></tr><tr><td>215</td><td>Air cushion machine (Blue)</td><td>1899.00</td></tr></table>"
                    },
                    "metadata": {}
                }
            ],
            "execution_count": 6
        },
        {
            "cell_type": "code",
            "source": [
                "--6 This displays the customers who never ordered a specified product.\n",
                "\n",
                "SELECT c.CustomerID, c.CustomerName\n",
                "FROM Sales.Customers c\n",
                "WHERE NOT EXISTS (\n",
                "  SELECT 1\n",
                "  FROM Sales.Orders o\n",
                "  JOIN Sales.OrderLines ol ON o.OrderID = ol.OrderID\n",
                "  WHERE o.CustomerID = c.CustomerID AND ol.StockItemID = 5\n",
                ")\n",
                ""
            ],
            "metadata": {
                "language": "sql",
                "azdata_cell_guid": "f53b43a3-adaa-47bc-be77-4b267cdc2d68"
            },
            "outputs": [
                {
                    "output_type": "display_data",
                    "data": {
                        "text/html": "(138 rows affected)"
                    },
                    "metadata": {}
                },
                {
                    "output_type": "display_data",
                    "data": {
                        "text/html": "Total execution time: 00:00:00.038"
                    },
                    "metadata": {}
                },
                {
                    "output_type": "execute_result",
                    "execution_count": 7,
                    "data": {
                        "application/vnd.dataresource+json": {
                            "schema": {
                                "fields": [
                                    {
                                        "name": "CustomerID"
                                    },
                                    {
                                        "name": "CustomerName"
                                    }
                                ]
                            },
                            "data": [
                                {
                                    "CustomerID": "1",
                                    "CustomerName": "Tailspin Toys (Head Office)"
                                },
                                {
                                    "CustomerID": "4",
                                    "CustomerName": "Tailspin Toys (Medicine Lodge, KS)"
                                },
                                {
                                    "CustomerID": "6",
                                    "CustomerName": "Tailspin Toys (Jessie, ND)"
                                },
                                {
                                    "CustomerID": "10",
                                    "CustomerName": "Tailspin Toys (Wimbledon, ND)"
                                },
                                {
                                    "CustomerID": "19",
                                    "CustomerName": "Tailspin Toys (Lemeta, AK)"
                                },
                                {
                                    "CustomerID": "20",
                                    "CustomerName": "Tailspin Toys (College Place, WA)"
                                },
                                {
                                    "CustomerID": "32",
                                    "CustomerName": "Tailspin Toys (Maypearl, TX)"
                                },
                                {
                                    "CustomerID": "33",
                                    "CustomerName": "Tailspin Toys (Boyden Arbor, SC)"
                                },
                                {
                                    "CustomerID": "39",
                                    "CustomerName": "Tailspin Toys (Diablock, KY)"
                                },
                                {
                                    "CustomerID": "45",
                                    "CustomerName": "Tailspin Toys (Severna Park, MD)"
                                },
                                {
                                    "CustomerID": "55",
                                    "CustomerName": "Tailspin Toys (Gum Branch, GA)"
                                },
                                {
                                    "CustomerID": "57",
                                    "CustomerName": "Tailspin Toys (Lakemore, OH)"
                                },
                                {
                                    "CustomerID": "64",
                                    "CustomerName": "Tailspin Toys (Hodgdon, ME)"
                                },
                                {
                                    "CustomerID": "66",
                                    "CustomerName": "Tailspin Toys (Madaket, MA)"
                                },
                                {
                                    "CustomerID": "67",
                                    "CustomerName": "Tailspin Toys (Sentinel Butte, ND)"
                                },
                                {
                                    "CustomerID": "80",
                                    "CustomerName": "Tailspin Toys (Valdese, NC)"
                                },
                                {
                                    "CustomerID": "83",
                                    "CustomerName": "Tailspin Toys (Absecon, NJ)"
                                },
                                {
                                    "CustomerID": "92",
                                    "CustomerName": "Tailspin Toys (Sans Souci, SC)"
                                },
                                {
                                    "CustomerID": "113",
                                    "CustomerName": "Tailspin Toys (Dahlia, NM)"
                                },
                                {
                                    "CustomerID": "114",
                                    "CustomerName": "Tailspin Toys (Cherry Grove Beach, SC)"
                                },
                                {
                                    "CustomerID": "115",
                                    "CustomerName": "Tailspin Toys (Bethania, NC)"
                                },
                                {
                                    "CustomerID": "118",
                                    "CustomerName": "Tailspin Toys (Vassalboro, ME)"
                                },
                                {
                                    "CustomerID": "126",
                                    "CustomerName": "Tailspin Toys (Francis Mills, NJ)"
                                },
                                {
                                    "CustomerID": "141",
                                    "CustomerName": "Tailspin Toys (Arrow Rock, MO)"
                                },
                                {
                                    "CustomerID": "148",
                                    "CustomerName": "Tailspin Toys (Baraboo, WI)"
                                },
                                {
                                    "CustomerID": "153",
                                    "CustomerName": "Tailspin Toys (Marcell, MN)"
                                },
                                {
                                    "CustomerID": "154",
                                    "CustomerName": "Tailspin Toys (Eden Valley, MN)"
                                },
                                {
                                    "CustomerID": "155",
                                    "CustomerName": "Tailspin Toys (Arbor Vitae, WI)"
                                },
                                {
                                    "CustomerID": "168",
                                    "CustomerName": "Tailspin Toys (Seagraves, TX)"
                                },
                                {
                                    "CustomerID": "175",
                                    "CustomerName": "Tailspin Toys (San Acacia, NM)"
                                },
                                {
                                    "CustomerID": "177",
                                    "CustomerName": "Tailspin Toys (Orrtanna, PA)"
                                },
                                {
                                    "CustomerID": "178",
                                    "CustomerName": "Tailspin Toys (Armstrong Creek, WI)"
                                },
                                {
                                    "CustomerID": "181",
                                    "CustomerName": "Tailspin Toys (Heilwood, PA)"
                                },
                                {
                                    "CustomerID": "189",
                                    "CustomerName": "Tailspin Toys (Wilkes-Barre, PA)"
                                },
                                {
                                    "CustomerID": "192",
                                    "CustomerName": "Tailspin Toys (Optimo, NM)"
                                },
                                {
                                    "CustomerID": "197",
                                    "CustomerName": "Tailspin Toys (Magalia, CA)"
                                },
                                {
                                    "CustomerID": "201",
                                    "CustomerName": "Tailspin Toys (Skyway, WA)"
                                },
                                {
                                    "CustomerID": "406",
                                    "CustomerName": "Wingtip Toys (Tuscaloosa, AL)"
                                },
                                {
                                    "CustomerID": "409",
                                    "CustomerName": "Wingtip Toys (Orick, CA)"
                                },
                                {
                                    "CustomerID": "410",
                                    "CustomerName": "Wingtip Toys (Bernstein, TX)"
                                },
                                {
                                    "CustomerID": "412",
                                    "CustomerName": "Wingtip Toys (Bozeman Hot Springs, MT)"
                                },
                                {
                                    "CustomerID": "418",
                                    "CustomerName": "Wingtip Toys (Yaak, MT)"
                                },
                                {
                                    "CustomerID": "423",
                                    "CustomerName": "Wingtip Toys (Baldwin City, KS)"
                                },
                                {
                                    "CustomerID": "426",
                                    "CustomerName": "Wingtip Toys (Willow Valley, AZ)"
                                },
                                {
                                    "CustomerID": "428",
                                    "CustomerName": "Wingtip Toys (Paw Paw Lake, MI)"
                                },
                                {
                                    "CustomerID": "431",
                                    "CustomerName": "Wingtip Toys (Rosa Sánchez, PR)"
                                },
                                {
                                    "CustomerID": "435",
                                    "CustomerName": "Wingtip Toys (Teutopolis, IL)"
                                },
                                {
                                    "CustomerID": "437",
                                    "CustomerName": "Wingtip Toys (Cadogan, PA)"
                                },
                                {
                                    "CustomerID": "440",
                                    "CustomerName": "Wingtip Toys (Asher, OK)"
                                },
                                {
                                    "CustomerID": "445",
                                    "CustomerName": "Wingtip Toys (Dacono, CO)"
                                },
                                {
                                    "CustomerID": "448",
                                    "CustomerName": "Wingtip Toys (Salt Wells, NV)"
                                },
                                {
                                    "CustomerID": "453",
                                    "CustomerName": "Wingtip Toys (Stanardsville, VA)"
                                },
                                {
                                    "CustomerID": "458",
                                    "CustomerName": "Wingtip Toys (Coker, AL)"
                                },
                                {
                                    "CustomerID": "470",
                                    "CustomerName": "Wingtip Toys (Universal City, TX)"
                                },
                                {
                                    "CustomerID": "471",
                                    "CustomerName": "Wingtip Toys (Ridgemark, CA)"
                                },
                                {
                                    "CustomerID": "476",
                                    "CustomerName": "Wingtip Toys (Karthaus, PA)"
                                },
                                {
                                    "CustomerID": "478",
                                    "CustomerName": "Wingtip Toys (Stoneboro, PA)"
                                },
                                {
                                    "CustomerID": "479",
                                    "CustomerName": "Wingtip Toys (Mier, IN)"
                                },
                                {
                                    "CustomerID": "482",
                                    "CustomerName": "Wingtip Toys (Caton, NY)"
                                },
                                {
                                    "CustomerID": "484",
                                    "CustomerName": "Wingtip Toys (Mauldin, SC)"
                                },
                                {
                                    "CustomerID": "485",
                                    "CustomerName": "Wingtip Toys (Bonner Springs, KS)"
                                },
                                {
                                    "CustomerID": "486",
                                    "CustomerName": "Wingtip Toys (Lowellville, OH)"
                                },
                                {
                                    "CustomerID": "487",
                                    "CustomerName": "Wingtip Toys (Elverson, PA)"
                                },
                                {
                                    "CustomerID": "493",
                                    "CustomerName": "Wingtip Toys (Federalsburg, MD)"
                                },
                                {
                                    "CustomerID": "498",
                                    "CustomerName": "Wingtip Toys (Obetz, OH)"
                                },
                                {
                                    "CustomerID": "502",
                                    "CustomerName": "Wingtip Toys (Miesville, MN)"
                                },
                                {
                                    "CustomerID": "514",
                                    "CustomerName": "Wingtip Toys (Gilford, NH)"
                                },
                                {
                                    "CustomerID": "521",
                                    "CustomerName": "Wingtip Toys (Robertsdale, AL)"
                                },
                                {
                                    "CustomerID": "528",
                                    "CustomerName": "Wingtip Toys (Rich Creek, VA)"
                                },
                                {
                                    "CustomerID": "536",
                                    "CustomerName": "Wingtip Toys (Ferney, SD)"
                                },
                                {
                                    "CustomerID": "539",
                                    "CustomerName": "Wingtip Toys (Nuangola, PA)"
                                },
                                {
                                    "CustomerID": "551",
                                    "CustomerName": "Wingtip Toys (Huntingburg, IN)"
                                },
                                {
                                    "CustomerID": "552",
                                    "CustomerName": "Wingtip Toys (Shay, PA)"
                                },
                                {
                                    "CustomerID": "554",
                                    "CustomerName": "Wingtip Toys (Hollandsburg, IN)"
                                },
                                {
                                    "CustomerID": "555",
                                    "CustomerName": "Wingtip Toys (Liberty Grove, MD)"
                                },
                                {
                                    "CustomerID": "559",
                                    "CustomerName": "Wingtip Toys (Mendoza, TX)"
                                },
                                {
                                    "CustomerID": "564",
                                    "CustomerName": "Wingtip Toys (Tilleda, WI)"
                                },
                                {
                                    "CustomerID": "574",
                                    "CustomerName": "Wingtip Toys (Molalla, OR)"
                                },
                                {
                                    "CustomerID": "576",
                                    "CustomerName": "Wingtip Toys (Goodings Grove, IL)"
                                },
                                {
                                    "CustomerID": "582",
                                    "CustomerName": "Wingtip Toys (Montoya, NM)"
                                },
                                {
                                    "CustomerID": "585",
                                    "CustomerName": "Wingtip Toys (Towaco, NJ)"
                                },
                                {
                                    "CustomerID": "587",
                                    "CustomerName": "Wingtip Toys (Plata, TX)"
                                },
                                {
                                    "CustomerID": "588",
                                    "CustomerName": "Wingtip Toys (Oak Point, TX)"
                                },
                                {
                                    "CustomerID": "596",
                                    "CustomerName": "Wingtip Toys (Cos Cob, CT)"
                                },
                                {
                                    "CustomerID": "809",
                                    "CustomerName": "Madhu Dwivedi"
                                },
                                {
                                    "CustomerID": "814",
                                    "CustomerName": "Johanna Hoornstra"
                                },
                                {
                                    "CustomerID": "818",
                                    "CustomerName": "Liia Orav"
                                },
                                {
                                    "CustomerID": "821",
                                    "CustomerName": "Kwanjai Saowaluk"
                                },
                                {
                                    "CustomerID": "827",
                                    "CustomerName": "Crina Grasu"
                                },
                                {
                                    "CustomerID": "834",
                                    "CustomerName": "Cong Hoa"
                                },
                                {
                                    "CustomerID": "837",
                                    "CustomerName": "Anil Sarkar"
                                },
                                {
                                    "CustomerID": "844",
                                    "CustomerName": "Durdanah Abbasi"
                                },
                                {
                                    "CustomerID": "848",
                                    "CustomerName": "Alvin Bollinger"
                                },
                                {
                                    "CustomerID": "850",
                                    "CustomerName": "Daakshaayaani Sankaramanchi"
                                },
                                {
                                    "CustomerID": "851",
                                    "CustomerName": "Ebru Erdogan"
                                },
                                {
                                    "CustomerID": "854",
                                    "CustomerName": "Daakshaayaani Kommineni"
                                },
                                {
                                    "CustomerID": "860",
                                    "CustomerName": "Marcela Lucescu"
                                },
                                {
                                    "CustomerID": "876",
                                    "CustomerName": "Marie LeBatelier"
                                },
                                {
                                    "CustomerID": "881",
                                    "CustomerName": "Magdalena Michnova"
                                },
                                {
                                    "CustomerID": "887",
                                    "CustomerName": "Baran Jonsson"
                                },
                                {
                                    "CustomerID": "907",
                                    "CustomerName": "Eugen Agafitei"
                                },
                                {
                                    "CustomerID": "911",
                                    "CustomerName": "Liidia Lepp"
                                },
                                {
                                    "CustomerID": "912",
                                    "CustomerName": "Volkan senturk"
                                },
                                {
                                    "CustomerID": "920",
                                    "CustomerName": "Gayatri Gajula"
                                },
                                {
                                    "CustomerID": "923",
                                    "CustomerName": "Tai Bach"
                                },
                                {
                                    "CustomerID": "935",
                                    "CustomerName": "Daevasree Samavedam"
                                },
                                {
                                    "CustomerID": "939",
                                    "CustomerName": "Ioana Florea"
                                },
                                {
                                    "CustomerID": "945",
                                    "CustomerName": "Hoc Tran"
                                },
                                {
                                    "CustomerID": "989",
                                    "CustomerName": "Milinka Zujovic"
                                },
                                {
                                    "CustomerID": "991",
                                    "CustomerName": "Valter Viiding"
                                },
                                {
                                    "CustomerID": "1002",
                                    "CustomerName": "Stefan Selezeanu"
                                },
                                {
                                    "CustomerID": "1005",
                                    "CustomerName": "Bhadram Kamasamudram"
                                },
                                {
                                    "CustomerID": "1007",
                                    "CustomerName": "Irma Berzina"
                                },
                                {
                                    "CustomerID": "1009",
                                    "CustomerName": "Bhagavateeprasaad Malladi"
                                },
                                {
                                    "CustomerID": "1010",
                                    "CustomerName": "Serdar ozCelik"
                                },
                                {
                                    "CustomerID": "1015",
                                    "CustomerName": "Isa Hulsegge"
                                },
                                {
                                    "CustomerID": "1024",
                                    "CustomerName": "Arka Chatterjee"
                                },
                                {
                                    "CustomerID": "1029",
                                    "CustomerName": "Veronika Necesana"
                                },
                                {
                                    "CustomerID": "1030",
                                    "CustomerName": "Chompoo Atitarn"
                                },
                                {
                                    "CustomerID": "1031",
                                    "CustomerName": "Dipti Shah"
                                },
                                {
                                    "CustomerID": "1033",
                                    "CustomerName": "Cuneyt Arslan"
                                },
                                {
                                    "CustomerID": "1034",
                                    "CustomerName": "Aishwarya Dantuluri"
                                },
                                {
                                    "CustomerID": "1038",
                                    "CustomerName": "Damodara Trivedi"
                                },
                                {
                                    "CustomerID": "1040",
                                    "CustomerName": "Damodar Shenoy"
                                },
                                {
                                    "CustomerID": "1041",
                                    "CustomerName": "Tomo Vidovic"
                                },
                                {
                                    "CustomerID": "1043",
                                    "CustomerName": "Raj Verma"
                                },
                                {
                                    "CustomerID": "1045",
                                    "CustomerName": "Matteo Cattaneo"
                                },
                                {
                                    "CustomerID": "1046",
                                    "CustomerName": "Christian Couet"
                                },
                                {
                                    "CustomerID": "1047",
                                    "CustomerName": "Ivana Hadrabova"
                                },
                                {
                                    "CustomerID": "1049",
                                    "CustomerName": "Amet Shergill"
                                },
                                {
                                    "CustomerID": "1050",
                                    "CustomerName": "Amrita Ganguly"
                                },
                                {
                                    "CustomerID": "1053",
                                    "CustomerName": "Luis Saucedo"
                                },
                                {
                                    "CustomerID": "1054",
                                    "CustomerName": "Emma Salpa"
                                },
                                {
                                    "CustomerID": "1056",
                                    "CustomerName": "Kalyani Benjaree"
                                },
                                {
                                    "CustomerID": "1057",
                                    "CustomerName": "Ganesh Majumdar"
                                },
                                {
                                    "CustomerID": "1059",
                                    "CustomerName": "Jibek Juniskyzy"
                                },
                                {
                                    "CustomerID": "1060",
                                    "CustomerName": "Anand Mudaliyar"
                                },
                                {
                                    "CustomerID": "1061",
                                    "CustomerName": "Agrita Abele"
                                }
                            ]
                        },
                        "text/html": "<table><tr><th>CustomerID</th><th>CustomerName</th></tr><tr><td>1</td><td>Tailspin Toys (Head Office)</td></tr><tr><td>4</td><td>Tailspin Toys (Medicine Lodge, KS)</td></tr><tr><td>6</td><td>Tailspin Toys (Jessie, ND)</td></tr><tr><td>10</td><td>Tailspin Toys (Wimbledon, ND)</td></tr><tr><td>19</td><td>Tailspin Toys (Lemeta, AK)</td></tr><tr><td>20</td><td>Tailspin Toys (College Place, WA)</td></tr><tr><td>32</td><td>Tailspin Toys (Maypearl, TX)</td></tr><tr><td>33</td><td>Tailspin Toys (Boyden Arbor, SC)</td></tr><tr><td>39</td><td>Tailspin Toys (Diablock, KY)</td></tr><tr><td>45</td><td>Tailspin Toys (Severna Park, MD)</td></tr><tr><td>55</td><td>Tailspin Toys (Gum Branch, GA)</td></tr><tr><td>57</td><td>Tailspin Toys (Lakemore, OH)</td></tr><tr><td>64</td><td>Tailspin Toys (Hodgdon, ME)</td></tr><tr><td>66</td><td>Tailspin Toys (Madaket, MA)</td></tr><tr><td>67</td><td>Tailspin Toys (Sentinel Butte, ND)</td></tr><tr><td>80</td><td>Tailspin Toys (Valdese, NC)</td></tr><tr><td>83</td><td>Tailspin Toys (Absecon, NJ)</td></tr><tr><td>92</td><td>Tailspin Toys (Sans Souci, SC)</td></tr><tr><td>113</td><td>Tailspin Toys (Dahlia, NM)</td></tr><tr><td>114</td><td>Tailspin Toys (Cherry Grove Beach, SC)</td></tr><tr><td>115</td><td>Tailspin Toys (Bethania, NC)</td></tr><tr><td>118</td><td>Tailspin Toys (Vassalboro, ME)</td></tr><tr><td>126</td><td>Tailspin Toys (Francis Mills, NJ)</td></tr><tr><td>141</td><td>Tailspin Toys (Arrow Rock, MO)</td></tr><tr><td>148</td><td>Tailspin Toys (Baraboo, WI)</td></tr><tr><td>153</td><td>Tailspin Toys (Marcell, MN)</td></tr><tr><td>154</td><td>Tailspin Toys (Eden Valley, MN)</td></tr><tr><td>155</td><td>Tailspin Toys (Arbor Vitae, WI)</td></tr><tr><td>168</td><td>Tailspin Toys (Seagraves, TX)</td></tr><tr><td>175</td><td>Tailspin Toys (San Acacia, NM)</td></tr><tr><td>177</td><td>Tailspin Toys (Orrtanna, PA)</td></tr><tr><td>178</td><td>Tailspin Toys (Armstrong Creek, WI)</td></tr><tr><td>181</td><td>Tailspin Toys (Heilwood, PA)</td></tr><tr><td>189</td><td>Tailspin Toys (Wilkes-Barre, PA)</td></tr><tr><td>192</td><td>Tailspin Toys (Optimo, NM)</td></tr><tr><td>197</td><td>Tailspin Toys (Magalia, CA)</td></tr><tr><td>201</td><td>Tailspin Toys (Skyway, WA)</td></tr><tr><td>406</td><td>Wingtip Toys (Tuscaloosa, AL)</td></tr><tr><td>409</td><td>Wingtip Toys (Orick, CA)</td></tr><tr><td>410</td><td>Wingtip Toys (Bernstein, TX)</td></tr><tr><td>412</td><td>Wingtip Toys (Bozeman Hot Springs, MT)</td></tr><tr><td>418</td><td>Wingtip Toys (Yaak, MT)</td></tr><tr><td>423</td><td>Wingtip Toys (Baldwin City, KS)</td></tr><tr><td>426</td><td>Wingtip Toys (Willow Valley, AZ)</td></tr><tr><td>428</td><td>Wingtip Toys (Paw Paw Lake, MI)</td></tr><tr><td>431</td><td>Wingtip Toys (Rosa Sánchez, PR)</td></tr><tr><td>435</td><td>Wingtip Toys (Teutopolis, IL)</td></tr><tr><td>437</td><td>Wingtip Toys (Cadogan, PA)</td></tr><tr><td>440</td><td>Wingtip Toys (Asher, OK)</td></tr><tr><td>445</td><td>Wingtip Toys (Dacono, CO)</td></tr><tr><td>448</td><td>Wingtip Toys (Salt Wells, NV)</td></tr><tr><td>453</td><td>Wingtip Toys (Stanardsville, VA)</td></tr><tr><td>458</td><td>Wingtip Toys (Coker, AL)</td></tr><tr><td>470</td><td>Wingtip Toys (Universal City, TX)</td></tr><tr><td>471</td><td>Wingtip Toys (Ridgemark, CA)</td></tr><tr><td>476</td><td>Wingtip Toys (Karthaus, PA)</td></tr><tr><td>478</td><td>Wingtip Toys (Stoneboro, PA)</td></tr><tr><td>479</td><td>Wingtip Toys (Mier, IN)</td></tr><tr><td>482</td><td>Wingtip Toys (Caton, NY)</td></tr><tr><td>484</td><td>Wingtip Toys (Mauldin, SC)</td></tr><tr><td>485</td><td>Wingtip Toys (Bonner Springs, KS)</td></tr><tr><td>486</td><td>Wingtip Toys (Lowellville, OH)</td></tr><tr><td>487</td><td>Wingtip Toys (Elverson, PA)</td></tr><tr><td>493</td><td>Wingtip Toys (Federalsburg, MD)</td></tr><tr><td>498</td><td>Wingtip Toys (Obetz, OH)</td></tr><tr><td>502</td><td>Wingtip Toys (Miesville, MN)</td></tr><tr><td>514</td><td>Wingtip Toys (Gilford, NH)</td></tr><tr><td>521</td><td>Wingtip Toys (Robertsdale, AL)</td></tr><tr><td>528</td><td>Wingtip Toys (Rich Creek, VA)</td></tr><tr><td>536</td><td>Wingtip Toys (Ferney, SD)</td></tr><tr><td>539</td><td>Wingtip Toys (Nuangola, PA)</td></tr><tr><td>551</td><td>Wingtip Toys (Huntingburg, IN)</td></tr><tr><td>552</td><td>Wingtip Toys (Shay, PA)</td></tr><tr><td>554</td><td>Wingtip Toys (Hollandsburg, IN)</td></tr><tr><td>555</td><td>Wingtip Toys (Liberty Grove, MD)</td></tr><tr><td>559</td><td>Wingtip Toys (Mendoza, TX)</td></tr><tr><td>564</td><td>Wingtip Toys (Tilleda, WI)</td></tr><tr><td>574</td><td>Wingtip Toys (Molalla, OR)</td></tr><tr><td>576</td><td>Wingtip Toys (Goodings Grove, IL)</td></tr><tr><td>582</td><td>Wingtip Toys (Montoya, NM)</td></tr><tr><td>585</td><td>Wingtip Toys (Towaco, NJ)</td></tr><tr><td>587</td><td>Wingtip Toys (Plata, TX)</td></tr><tr><td>588</td><td>Wingtip Toys (Oak Point, TX)</td></tr><tr><td>596</td><td>Wingtip Toys (Cos Cob, CT)</td></tr><tr><td>809</td><td>Madhu Dwivedi</td></tr><tr><td>814</td><td>Johanna Hoornstra</td></tr><tr><td>818</td><td>Liia Orav</td></tr><tr><td>821</td><td>Kwanjai Saowaluk</td></tr><tr><td>827</td><td>Crina Grasu</td></tr><tr><td>834</td><td>Cong Hoa</td></tr><tr><td>837</td><td>Anil Sarkar</td></tr><tr><td>844</td><td>Durdanah Abbasi</td></tr><tr><td>848</td><td>Alvin Bollinger</td></tr><tr><td>850</td><td>Daakshaayaani Sankaramanchi</td></tr><tr><td>851</td><td>Ebru Erdogan</td></tr><tr><td>854</td><td>Daakshaayaani Kommineni</td></tr><tr><td>860</td><td>Marcela Lucescu</td></tr><tr><td>876</td><td>Marie LeBatelier</td></tr><tr><td>881</td><td>Magdalena Michnova</td></tr><tr><td>887</td><td>Baran Jonsson</td></tr><tr><td>907</td><td>Eugen Agafitei</td></tr><tr><td>911</td><td>Liidia Lepp</td></tr><tr><td>912</td><td>Volkan senturk</td></tr><tr><td>920</td><td>Gayatri Gajula</td></tr><tr><td>923</td><td>Tai Bach</td></tr><tr><td>935</td><td>Daevasree Samavedam</td></tr><tr><td>939</td><td>Ioana Florea</td></tr><tr><td>945</td><td>Hoc Tran</td></tr><tr><td>989</td><td>Milinka Zujovic</td></tr><tr><td>991</td><td>Valter Viiding</td></tr><tr><td>1002</td><td>Stefan Selezeanu</td></tr><tr><td>1005</td><td>Bhadram Kamasamudram</td></tr><tr><td>1007</td><td>Irma Berzina</td></tr><tr><td>1009</td><td>Bhagavateeprasaad Malladi</td></tr><tr><td>1010</td><td>Serdar ozCelik</td></tr><tr><td>1015</td><td>Isa Hulsegge</td></tr><tr><td>1024</td><td>Arka Chatterjee</td></tr><tr><td>1029</td><td>Veronika Necesana</td></tr><tr><td>1030</td><td>Chompoo Atitarn</td></tr><tr><td>1031</td><td>Dipti Shah</td></tr><tr><td>1033</td><td>Cuneyt Arslan</td></tr><tr><td>1034</td><td>Aishwarya Dantuluri</td></tr><tr><td>1038</td><td>Damodara Trivedi</td></tr><tr><td>1040</td><td>Damodar Shenoy</td></tr><tr><td>1041</td><td>Tomo Vidovic</td></tr><tr><td>1043</td><td>Raj Verma</td></tr><tr><td>1045</td><td>Matteo Cattaneo</td></tr><tr><td>1046</td><td>Christian Couet</td></tr><tr><td>1047</td><td>Ivana Hadrabova</td></tr><tr><td>1049</td><td>Amet Shergill</td></tr><tr><td>1050</td><td>Amrita Ganguly</td></tr><tr><td>1053</td><td>Luis Saucedo</td></tr><tr><td>1054</td><td>Emma Salpa</td></tr><tr><td>1056</td><td>Kalyani Benjaree</td></tr><tr><td>1057</td><td>Ganesh Majumdar</td></tr><tr><td>1059</td><td>Jibek Juniskyzy</td></tr><tr><td>1060</td><td>Anand Mudaliyar</td></tr><tr><td>1061</td><td>Agrita Abele</td></tr></table>"
                    },
                    "metadata": {}
                }
            ],
            "execution_count": 7
        },
        {
            "cell_type": "code",
            "source": [
                "--7 This displays the first order date for a given customer.\n",
                "\n",
                "SELECT o.CustomerID, c.CustomerName, MIN(o.OrderDate) AS FirstOrderDate\n",
                "FROM Sales.Orders o\n",
                "JOIN Sales.Customers c ON o.CustomerID = c.CustomerID\n",
                "WHERE o.CustomerID = 101         -- Replace 101 with your specific CustomerID\n",
                "GROUP BY o.CustomerID, c.CustomerName;\n",
                ""
            ],
            "metadata": {
                "language": "sql",
                "azdata_cell_guid": "1a9009b2-4d16-4865-b322-17a51701a74d"
            },
            "outputs": [
                {
                    "output_type": "display_data",
                    "data": {
                        "text/html": "(1 row affected)"
                    },
                    "metadata": {}
                },
                {
                    "output_type": "display_data",
                    "data": {
                        "text/html": "Total execution time: 00:00:00.015"
                    },
                    "metadata": {}
                },
                {
                    "output_type": "execute_result",
                    "execution_count": 8,
                    "data": {
                        "application/vnd.dataresource+json": {
                            "schema": {
                                "fields": [
                                    {
                                        "name": "CustomerID"
                                    },
                                    {
                                        "name": "CustomerName"
                                    },
                                    {
                                        "name": "FirstOrderDate"
                                    }
                                ]
                            },
                            "data": [
                                {
                                    "CustomerID": "101",
                                    "CustomerName": "Tailspin Toys (Cundiyo, NM)",
                                    "FirstOrderDate": "2013-01-21"
                                }
                            ]
                        },
                        "text/html": "<table><tr><th>CustomerID</th><th>CustomerName</th><th>FirstOrderDate</th></tr><tr><td>101</td><td>Tailspin Toys (Cundiyo, NM)</td><td>2013-01-21</td></tr></table>"
                    },
                    "metadata": {}
                }
            ],
            "execution_count": 8
        },
        {
            "cell_type": "code",
            "source": [
                "--8 This displays the top 5 suppliers ranked by largest shipment value\n",
                "\n",
                "SELECT TOP 5\n",
                "    si.SupplierID,\n",
                "    s.SupplierName,\n",
                "    MAX(si.UnitPrice) AS LargestShipmentValue\n",
                "FROM Warehouse.StockItems si\n",
                "JOIN Purchasing.Suppliers s ON si.SupplierID = s.SupplierID\n",
                "GROUP BY si.SupplierID, s.SupplierName\n",
                "ORDER BY LargestShipmentValue DESC;"
            ],
            "metadata": {
                "language": "sql",
                "azdata_cell_guid": "819b380b-9be2-4576-8c13-85a4381e083a"
            },
            "outputs": [
                {
                    "output_type": "display_data",
                    "data": {
                        "text/html": "(5 rows affected)"
                    },
                    "metadata": {}
                },
                {
                    "output_type": "display_data",
                    "data": {
                        "text/html": "Total execution time: 00:00:00.008"
                    },
                    "metadata": {}
                },
                {
                    "output_type": "execute_result",
                    "execution_count": 9,
                    "data": {
                        "application/vnd.dataresource+json": {
                            "schema": {
                                "fields": [
                                    {
                                        "name": "SupplierID"
                                    },
                                    {
                                        "name": "SupplierName"
                                    },
                                    {
                                        "name": "LargestShipmentValue"
                                    }
                                ]
                            },
                            "data": [
                                {
                                    "SupplierID": "7",
                                    "SupplierName": "Litware, Inc.",
                                    "LargestShipmentValue": "1899.00"
                                },
                                {
                                    "SupplierID": "10",
                                    "SupplierName": "Northwind Electric Cars",
                                    "LargestShipmentValue": "345.00"
                                },
                                {
                                    "SupplierID": "12",
                                    "SupplierName": "The Phone Company",
                                    "LargestShipmentValue": "240.00"
                                },
                                {
                                    "SupplierID": "4",
                                    "SupplierName": "Fabrikam, Inc.",
                                    "LargestShipmentValue": "35.00"
                                },
                                {
                                    "SupplierID": "2",
                                    "SupplierName": "Contoso, Ltd.",
                                    "LargestShipmentValue": "16.00"
                                }
                            ]
                        },
                        "text/html": "<table><tr><th>SupplierID</th><th>SupplierName</th><th>LargestShipmentValue</th></tr><tr><td>7</td><td>Litware, Inc.</td><td>1899.00</td></tr><tr><td>10</td><td>Northwind Electric Cars</td><td>345.00</td></tr><tr><td>12</td><td>The Phone Company</td><td>240.00</td></tr><tr><td>4</td><td>Fabrikam, Inc.</td><td>35.00</td></tr><tr><td>2</td><td>Contoso, Ltd.</td><td>16.00</td></tr></table>"
                    },
                    "metadata": {}
                }
            ],
            "execution_count": 9
        },
        {
            "cell_type": "code",
            "source": [
                "--9 This displays all suppliers providing more than 5 distinct products\n",
                "\n",
                "SELECT s.SupplierID, s.SupplierName, COUNT(DISTINCT si.StockItemID) AS NumProducts\n",
                "FROM Purchasing.Suppliers s\n",
                "JOIN Warehouse.StockItems si ON s.SupplierID = si.SupplierID\n",
                "GROUP BY s.SupplierID, s.SupplierName\n",
                "HAVING COUNT(DISTINCT si.StockItemID) > 5;"
            ],
            "metadata": {
                "language": "sql",
                "azdata_cell_guid": "d8e6080e-2e94-4b3b-8076-d42379f3cc33"
            },
            "outputs": [
                {
                    "output_type": "display_data",
                    "data": {
                        "text/html": "(6 rows affected)"
                    },
                    "metadata": {}
                },
                {
                    "output_type": "display_data",
                    "data": {
                        "text/html": "Total execution time: 00:00:00.026"
                    },
                    "metadata": {}
                },
                {
                    "output_type": "execute_result",
                    "execution_count": 10,
                    "data": {
                        "application/vnd.dataresource+json": {
                            "schema": {
                                "fields": [
                                    {
                                        "name": "SupplierID"
                                    },
                                    {
                                        "name": "SupplierName"
                                    },
                                    {
                                        "name": "NumProducts"
                                    }
                                ]
                            },
                            "data": [
                                {
                                    "SupplierID": "1",
                                    "SupplierName": "A Datum Corporation",
                                    "NumProducts": "8"
                                },
                                {
                                    "SupplierID": "4",
                                    "SupplierName": "Fabrikam, Inc.",
                                    "NumProducts": "74"
                                },
                                {
                                    "SupplierID": "5",
                                    "SupplierName": "Graphic Design Institute",
                                    "NumProducts": "42"
                                },
                                {
                                    "SupplierID": "7",
                                    "SupplierName": "Litware, Inc.",
                                    "NumProducts": "67"
                                },
                                {
                                    "SupplierID": "10",
                                    "SupplierName": "Northwind Electric Cars",
                                    "NumProducts": "18"
                                },
                                {
                                    "SupplierID": "12",
                                    "SupplierName": "The Phone Company",
                                    "NumProducts": "15"
                                }
                            ]
                        },
                        "text/html": "<table><tr><th>SupplierID</th><th>SupplierName</th><th>NumProducts</th></tr><tr><td>1</td><td>A Datum Corporation</td><td>8</td></tr><tr><td>4</td><td>Fabrikam, Inc.</td><td>74</td></tr><tr><td>5</td><td>Graphic Design Institute</td><td>42</td></tr><tr><td>7</td><td>Litware, Inc.</td><td>67</td></tr><tr><td>10</td><td>Northwind Electric Cars</td><td>18</td></tr><tr><td>12</td><td>The Phone Company</td><td>15</td></tr></table>"
                    },
                    "metadata": {}
                }
            ],
            "execution_count": 10
        },
        {
            "cell_type": "code",
            "source": [
                "--10  This displays all products more expensive than their respective supplier’s average.\n",
                "\n",
                "SELECT si.StockItemID, si.StockItemName, si.UnitPrice\n",
                "FROM Warehouse.StockItems si\n",
                "WHERE si.UnitPrice > (\n",
                "    SELECT AVG(si2.UnitPrice)\n",
                "    FROM Warehouse.StockItems si2\n",
                "    WHERE si2.SupplierID = si.SupplierID\n",
                ");"
            ],
            "metadata": {
                "language": "sql",
                "azdata_cell_guid": "f6e97375-8425-429e-ac7d-96fb53a3a521"
            },
            "outputs": [
                {
                    "output_type": "display_data",
                    "data": {
                        "text/html": "(60 rows affected)"
                    },
                    "metadata": {}
                },
                {
                    "output_type": "display_data",
                    "data": {
                        "text/html": "Total execution time: 00:00:00.048"
                    },
                    "metadata": {}
                },
                {
                    "output_type": "execute_result",
                    "execution_count": 11,
                    "data": {
                        "application/vnd.dataresource+json": {
                            "schema": {
                                "fields": [
                                    {
                                        "name": "StockItemID"
                                    },
                                    {
                                        "name": "StockItemName"
                                    },
                                    {
                                        "name": "UnitPrice"
                                    }
                                ]
                            },
                            "data": [
                                {
                                    "StockItemID": "221",
                                    "StockItemName": "Novelty chilli chocolates 500g",
                                    "UnitPrice": "14.50"
                                },
                                {
                                    "StockItemID": "102",
                                    "StockItemName": "Alien officer hoodie (Black) XL",
                                    "UnitPrice": "35.00"
                                },
                                {
                                    "StockItemID": "103",
                                    "StockItemName": "Alien officer hoodie (Black) XXL",
                                    "UnitPrice": "35.00"
                                },
                                {
                                    "StockItemID": "104",
                                    "StockItemName": "Alien officer hoodie (Black) 3XL",
                                    "UnitPrice": "35.00"
                                },
                                {
                                    "StockItemID": "105",
                                    "StockItemName": "Alien officer hoodie (Black) 4XL",
                                    "UnitPrice": "35.00"
                                },
                                {
                                    "StockItemID": "106",
                                    "StockItemName": "Alien officer hoodie (Black) 5XL",
                                    "UnitPrice": "35.00"
                                },
                                {
                                    "StockItemID": "107",
                                    "StockItemName": "Superhero action jacket (Blue) 3XS",
                                    "UnitPrice": "25.00"
                                },
                                {
                                    "StockItemID": "108",
                                    "StockItemName": "Superhero action jacket (Blue) XXS",
                                    "UnitPrice": "25.00"
                                },
                                {
                                    "StockItemID": "109",
                                    "StockItemName": "Superhero action jacket (Blue) XS",
                                    "UnitPrice": "25.00"
                                },
                                {
                                    "StockItemID": "110",
                                    "StockItemName": "Superhero action jacket (Blue) S",
                                    "UnitPrice": "25.00"
                                },
                                {
                                    "StockItemID": "111",
                                    "StockItemName": "Superhero action jacket (Blue) M",
                                    "UnitPrice": "30.00"
                                },
                                {
                                    "StockItemID": "112",
                                    "StockItemName": "Superhero action jacket (Blue) L",
                                    "UnitPrice": "30.00"
                                },
                                {
                                    "StockItemID": "113",
                                    "StockItemName": "Superhero action jacket (Blue) XL",
                                    "UnitPrice": "30.00"
                                },
                                {
                                    "StockItemID": "114",
                                    "StockItemName": "Superhero action jacket (Blue) XXL",
                                    "UnitPrice": "30.00"
                                },
                                {
                                    "StockItemID": "115",
                                    "StockItemName": "Superhero action jacket (Blue) 3XL",
                                    "UnitPrice": "34.00"
                                },
                                {
                                    "StockItemID": "116",
                                    "StockItemName": "Superhero action jacket (Blue) 4XL",
                                    "UnitPrice": "34.00"
                                },
                                {
                                    "StockItemID": "117",
                                    "StockItemName": "Superhero action jacket (Blue) 5XL",
                                    "UnitPrice": "34.00"
                                },
                                {
                                    "StockItemID": "118",
                                    "StockItemName": "Dinosaur battery-powered slippers (Green) S",
                                    "UnitPrice": "32.00"
                                },
                                {
                                    "StockItemID": "119",
                                    "StockItemName": "Dinosaur battery-powered slippers (Green) M",
                                    "UnitPrice": "32.00"
                                },
                                {
                                    "StockItemID": "120",
                                    "StockItemName": "Dinosaur battery-powered slippers (Green) L",
                                    "UnitPrice": "32.00"
                                },
                                {
                                    "StockItemID": "121",
                                    "StockItemName": "Dinosaur battery-powered slippers (Green) XL",
                                    "UnitPrice": "32.00"
                                },
                                {
                                    "StockItemID": "122",
                                    "StockItemName": "Ogre battery-powered slippers (Green) S",
                                    "UnitPrice": "32.00"
                                },
                                {
                                    "StockItemID": "123",
                                    "StockItemName": "Ogre battery-powered slippers (Green) M",
                                    "UnitPrice": "32.00"
                                },
                                {
                                    "StockItemID": "124",
                                    "StockItemName": "Ogre battery-powered slippers (Green) L",
                                    "UnitPrice": "32.00"
                                },
                                {
                                    "StockItemID": "125",
                                    "StockItemName": "Ogre battery-powered slippers (Green) XL",
                                    "UnitPrice": "32.00"
                                },
                                {
                                    "StockItemID": "126",
                                    "StockItemName": "Plush shark slippers (Gray) S",
                                    "UnitPrice": "32.00"
                                },
                                {
                                    "StockItemID": "127",
                                    "StockItemName": "Plush shark slippers (Gray) M",
                                    "UnitPrice": "32.00"
                                },
                                {
                                    "StockItemID": "128",
                                    "StockItemName": "Plush shark slippers (Gray) L",
                                    "UnitPrice": "32.00"
                                },
                                {
                                    "StockItemID": "129",
                                    "StockItemName": "Plush shark slippers (Gray) XL",
                                    "UnitPrice": "32.00"
                                },
                                {
                                    "StockItemID": "130",
                                    "StockItemName": "Furry gorilla with big eyes slippers (Black) S",
                                    "UnitPrice": "32.00"
                                },
                                {
                                    "StockItemID": "131",
                                    "StockItemName": "Furry gorilla with big eyes slippers (Black) M",
                                    "UnitPrice": "32.00"
                                },
                                {
                                    "StockItemID": "132",
                                    "StockItemName": "Furry gorilla with big eyes slippers (Black) L",
                                    "UnitPrice": "32.00"
                                },
                                {
                                    "StockItemID": "133",
                                    "StockItemName": "Furry gorilla with big eyes slippers (Black) XL",
                                    "UnitPrice": "32.00"
                                },
                                {
                                    "StockItemID": "134",
                                    "StockItemName": "Animal with big feet slippers (Brown) S",
                                    "UnitPrice": "32.00"
                                },
                                {
                                    "StockItemID": "135",
                                    "StockItemName": "Animal with big feet slippers (Brown) M",
                                    "UnitPrice": "32.00"
                                },
                                {
                                    "StockItemID": "136",
                                    "StockItemName": "Animal with big feet slippers (Brown) L",
                                    "UnitPrice": "32.00"
                                },
                                {
                                    "StockItemID": "137",
                                    "StockItemName": "Animal with big feet slippers (Brown) XL",
                                    "UnitPrice": "32.00"
                                },
                                {
                                    "StockItemID": "158",
                                    "StockItemName": "10 mm Double sided bubble wrap 50m",
                                    "UnitPrice": "105.00"
                                },
                                {
                                    "StockItemID": "161",
                                    "StockItemName": "20 mm Double sided bubble wrap 50m",
                                    "UnitPrice": "108.00"
                                },
                                {
                                    "StockItemID": "164",
                                    "StockItemName": "32 mm Double sided bubble wrap 50m",
                                    "UnitPrice": "112.00"
                                },
                                {
                                    "StockItemID": "167",
                                    "StockItemName": "10 mm Anti static bubble wrap (Blue) 50m",
                                    "UnitPrice": "99.00"
                                },
                                {
                                    "StockItemID": "170",
                                    "StockItemName": "20 mm Anti static bubble wrap (Blue) 50m",
                                    "UnitPrice": "102.00"
                                },
                                {
                                    "StockItemID": "173",
                                    "StockItemName": "32 mm Anti static bubble wrap (Blue) 50m",
                                    "UnitPrice": "105.00"
                                },
                                {
                                    "StockItemID": "174",
                                    "StockItemName": "Bubblewrap dispenser (Black) 1.5m",
                                    "UnitPrice": "240.00"
                                },
                                {
                                    "StockItemID": "175",
                                    "StockItemName": "Bubblewrap dispenser (Blue) 1.5m",
                                    "UnitPrice": "240.00"
                                },
                                {
                                    "StockItemID": "176",
                                    "StockItemName": "Bubblewrap dispenser (Red) 1.5m",
                                    "UnitPrice": "240.00"
                                },
                                {
                                    "StockItemID": "213",
                                    "StockItemName": "Air cushion film 200mmx100mm 325m",
                                    "UnitPrice": "87.00"
                                },
                                {
                                    "StockItemID": "214",
                                    "StockItemName": "Air cushion film 200mmx200mm 325m",
                                    "UnitPrice": "90.00"
                                },
                                {
                                    "StockItemID": "215",
                                    "StockItemName": "Air cushion machine (Blue)",
                                    "UnitPrice": "1899.00"
                                },
                                {
                                    "StockItemID": "67",
                                    "StockItemName": "Ride on toy sedan car (Black) 1/12 scale",
                                    "UnitPrice": "230.00"
                                },
                                {
                                    "StockItemID": "68",
                                    "StockItemName": "Ride on toy sedan car (Red) 1/12 scale",
                                    "UnitPrice": "230.00"
                                },
                                {
                                    "StockItemID": "69",
                                    "StockItemName": "Ride on toy sedan car (Blue) 1/12 scale",
                                    "UnitPrice": "230.00"
                                },
                                {
                                    "StockItemID": "70",
                                    "StockItemName": "Ride on toy sedan car (Green) 1/12 scale",
                                    "UnitPrice": "230.00"
                                },
                                {
                                    "StockItemID": "71",
                                    "StockItemName": "Ride on toy sedan car (Yellow) 1/12 scale",
                                    "UnitPrice": "230.00"
                                },
                                {
                                    "StockItemID": "72",
                                    "StockItemName": "Ride on toy sedan car (Pink) 1/12 scale",
                                    "UnitPrice": "230.00"
                                },
                                {
                                    "StockItemID": "73",
                                    "StockItemName": "Ride on vintage American toy coupe (Red) 1/12 scale",
                                    "UnitPrice": "285.00"
                                },
                                {
                                    "StockItemID": "74",
                                    "StockItemName": "Ride on vintage American toy coupe (Black) 1/12 scale",
                                    "UnitPrice": "285.00"
                                },
                                {
                                    "StockItemID": "75",
                                    "StockItemName": "Ride on big wheel monster truck (Black) 1/12 scale",
                                    "UnitPrice": "345.00"
                                },
                                {
                                    "StockItemID": "8",
                                    "StockItemName": "USB food flash drive - dim sum 10 drive variety pack",
                                    "UnitPrice": "240.00"
                                },
                                {
                                    "StockItemID": "15",
                                    "StockItemName": "USB food flash drive - dessert 10 drive variety pack",
                                    "UnitPrice": "240.00"
                                }
                            ]
                        },
                        "text/html": "<table><tr><th>StockItemID</th><th>StockItemName</th><th>UnitPrice</th></tr><tr><td>221</td><td>Novelty chilli chocolates 500g</td><td>14.50</td></tr><tr><td>102</td><td>Alien officer hoodie (Black) XL</td><td>35.00</td></tr><tr><td>103</td><td>Alien officer hoodie (Black) XXL</td><td>35.00</td></tr><tr><td>104</td><td>Alien officer hoodie (Black) 3XL</td><td>35.00</td></tr><tr><td>105</td><td>Alien officer hoodie (Black) 4XL</td><td>35.00</td></tr><tr><td>106</td><td>Alien officer hoodie (Black) 5XL</td><td>35.00</td></tr><tr><td>107</td><td>Superhero action jacket (Blue) 3XS</td><td>25.00</td></tr><tr><td>108</td><td>Superhero action jacket (Blue) XXS</td><td>25.00</td></tr><tr><td>109</td><td>Superhero action jacket (Blue) XS</td><td>25.00</td></tr><tr><td>110</td><td>Superhero action jacket (Blue) S</td><td>25.00</td></tr><tr><td>111</td><td>Superhero action jacket (Blue) M</td><td>30.00</td></tr><tr><td>112</td><td>Superhero action jacket (Blue) L</td><td>30.00</td></tr><tr><td>113</td><td>Superhero action jacket (Blue) XL</td><td>30.00</td></tr><tr><td>114</td><td>Superhero action jacket (Blue) XXL</td><td>30.00</td></tr><tr><td>115</td><td>Superhero action jacket (Blue) 3XL</td><td>34.00</td></tr><tr><td>116</td><td>Superhero action jacket (Blue) 4XL</td><td>34.00</td></tr><tr><td>117</td><td>Superhero action jacket (Blue) 5XL</td><td>34.00</td></tr><tr><td>118</td><td>Dinosaur battery-powered slippers (Green) S</td><td>32.00</td></tr><tr><td>119</td><td>Dinosaur battery-powered slippers (Green) M</td><td>32.00</td></tr><tr><td>120</td><td>Dinosaur battery-powered slippers (Green) L</td><td>32.00</td></tr><tr><td>121</td><td>Dinosaur battery-powered slippers (Green) XL</td><td>32.00</td></tr><tr><td>122</td><td>Ogre battery-powered slippers (Green) S</td><td>32.00</td></tr><tr><td>123</td><td>Ogre battery-powered slippers (Green) M</td><td>32.00</td></tr><tr><td>124</td><td>Ogre battery-powered slippers (Green) L</td><td>32.00</td></tr><tr><td>125</td><td>Ogre battery-powered slippers (Green) XL</td><td>32.00</td></tr><tr><td>126</td><td>Plush shark slippers (Gray) S</td><td>32.00</td></tr><tr><td>127</td><td>Plush shark slippers (Gray) M</td><td>32.00</td></tr><tr><td>128</td><td>Plush shark slippers (Gray) L</td><td>32.00</td></tr><tr><td>129</td><td>Plush shark slippers (Gray) XL</td><td>32.00</td></tr><tr><td>130</td><td>Furry gorilla with big eyes slippers (Black) S</td><td>32.00</td></tr><tr><td>131</td><td>Furry gorilla with big eyes slippers (Black) M</td><td>32.00</td></tr><tr><td>132</td><td>Furry gorilla with big eyes slippers (Black) L</td><td>32.00</td></tr><tr><td>133</td><td>Furry gorilla with big eyes slippers (Black) XL</td><td>32.00</td></tr><tr><td>134</td><td>Animal with big feet slippers (Brown) S</td><td>32.00</td></tr><tr><td>135</td><td>Animal with big feet slippers (Brown) M</td><td>32.00</td></tr><tr><td>136</td><td>Animal with big feet slippers (Brown) L</td><td>32.00</td></tr><tr><td>137</td><td>Animal with big feet slippers (Brown) XL</td><td>32.00</td></tr><tr><td>158</td><td>10 mm Double sided bubble wrap 50m</td><td>105.00</td></tr><tr><td>161</td><td>20 mm Double sided bubble wrap 50m</td><td>108.00</td></tr><tr><td>164</td><td>32 mm Double sided bubble wrap 50m</td><td>112.00</td></tr><tr><td>167</td><td>10 mm Anti static bubble wrap (Blue) 50m</td><td>99.00</td></tr><tr><td>170</td><td>20 mm Anti static bubble wrap (Blue) 50m</td><td>102.00</td></tr><tr><td>173</td><td>32 mm Anti static bubble wrap (Blue) 50m</td><td>105.00</td></tr><tr><td>174</td><td>Bubblewrap dispenser (Black) 1.5m</td><td>240.00</td></tr><tr><td>175</td><td>Bubblewrap dispenser (Blue) 1.5m</td><td>240.00</td></tr><tr><td>176</td><td>Bubblewrap dispenser (Red) 1.5m</td><td>240.00</td></tr><tr><td>213</td><td>Air cushion film 200mmx100mm 325m</td><td>87.00</td></tr><tr><td>214</td><td>Air cushion film 200mmx200mm 325m</td><td>90.00</td></tr><tr><td>215</td><td>Air cushion machine (Blue)</td><td>1899.00</td></tr><tr><td>67</td><td>Ride on toy sedan car (Black) 1/12 scale</td><td>230.00</td></tr><tr><td>68</td><td>Ride on toy sedan car (Red) 1/12 scale</td><td>230.00</td></tr><tr><td>69</td><td>Ride on toy sedan car (Blue) 1/12 scale</td><td>230.00</td></tr><tr><td>70</td><td>Ride on toy sedan car (Green) 1/12 scale</td><td>230.00</td></tr><tr><td>71</td><td>Ride on toy sedan car (Yellow) 1/12 scale</td><td>230.00</td></tr><tr><td>72</td><td>Ride on toy sedan car (Pink) 1/12 scale</td><td>230.00</td></tr><tr><td>73</td><td>Ride on vintage American toy coupe (Red) 1/12 scale</td><td>285.00</td></tr><tr><td>74</td><td>Ride on vintage American toy coupe (Black) 1/12 scale</td><td>285.00</td></tr><tr><td>75</td><td>Ride on big wheel monster truck (Black) 1/12 scale</td><td>345.00</td></tr><tr><td>8</td><td>USB food flash drive - dim sum 10 drive variety pack</td><td>240.00</td></tr><tr><td>15</td><td>USB food flash drive - dessert 10 drive variety pack</td><td>240.00</td></tr></table>"
                    },
                    "metadata": {}
                }
            ],
            "execution_count": 11
        },
        {
            "cell_type": "markdown",
            "source": [
                "\\## Note on AI Assistance\n",
                "\n",
                "  \n",
                "\n",
                "I completed most of the queries myself. The SQL code for 1 and 4 were done by Perplexity AI, given my original idea for the proposition. Perplexity was also responsible for clarifying concepts and explanations."
            ],
            "metadata": {
                "azdata_cell_guid": "54bdb51e-3ac5-4fd8-a5eb-678ba6eed44d"
            },
            "attachments": {}
        }
    ]
}